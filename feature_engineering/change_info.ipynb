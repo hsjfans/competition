{
 "metadata": {
  "language_info": {
   "codemirror_mode": {
    "name": "ipython",
    "version": 3
   },
   "file_extension": ".py",
   "mimetype": "text/x-python",
   "name": "python",
   "nbconvert_exporter": "python",
   "pygments_lexer": "ipython3",
   "version": "3.7.9-final"
  },
  "orig_nbformat": 2,
  "kernelspec": {
   "name": "python3",
   "display_name": "Python 3"
  }
 },
 "nbformat": 4,
 "nbformat_minor": 2,
 "cells": [
  {
   "cell_type": "code",
   "execution_count": 21,
   "metadata": {},
   "outputs": [],
   "source": [
    "import pandas as pd\n",
    "from tqdm import tqdm\n",
    "\n",
    "change_info = pd.read_csv('../data/train/change_info.csv')\n"
   ]
  },
  {
   "cell_type": "code",
   "execution_count": 22,
   "metadata": {},
   "outputs": [],
   "source": [
    "count, shape = change_info.shape"
   ]
  },
  {
   "cell_type": "code",
   "execution_count": 23,
   "metadata": {},
   "outputs": [
    {
     "output_type": "execute_result",
     "data": {
      "text/plain": [
       "id         8726\n",
       "bgxmdm       45\n",
       "bgq       28802\n",
       "bgh       30501\n",
       "bgrq      23663\n",
       "dtype: int64"
      ]
     },
     "metadata": {},
     "execution_count": 23
    }
   ],
   "source": [
    "change_info.nunique()"
   ]
  },
  {
   "cell_type": "code",
   "execution_count": 24,
   "metadata": {},
   "outputs": [
    {
     "output_type": "execute_result",
     "data": {
      "text/plain": [
       "id        0\n",
       "bgxmdm    0\n",
       "bgq       0\n",
       "bgh       0\n",
       "bgrq      0\n",
       "dtype: int64"
      ]
     },
     "metadata": {},
     "execution_count": 24
    }
   ],
   "source": [
    "change_info.isna().sum()"
   ]
  },
  {
   "source": [
    "id:企业唯一标识, bgxmdm:变更信息代码, bgq:变更前, bgh:变更后, bgrq:变更日期]"
   ],
   "cell_type": "markdown",
   "metadata": {}
  },
  {
   "cell_type": "code",
   "execution_count": 25,
   "metadata": {},
   "outputs": [
    {
     "output_type": "stream",
     "name": "stderr",
     "text": [
      "100%|██████████| 8726/8726 [00:00<00:00, 16082.93it/s]\n"
     ]
    }
   ],
   "source": [
    "groups = change_info.groupby('id')\n",
    "change_info_cleans = []\n",
    "for name, group in tqdm(groups):\n",
    "    change_info_clean = {}\n",
    "    change_info_clean['id'] = name\n",
    "    change_info_clean['CHANGE_NUM'] = len(group)\n",
    "    change_info_clean['HAS_CHANGE'] = 1.0\n",
    "    change_info_cleans.append(change_info_clean)\n",
    "change_info = pd.DataFrame(change_info_cleans)"
   ]
  },
  {
   "cell_type": "code",
   "execution_count": 26,
   "metadata": {},
   "outputs": [
    {
     "output_type": "stream",
     "name": "stdout",
     "text": [
      "<class 'pandas.core.frame.DataFrame'>\nRangeIndex: 8726 entries, 0 to 8725\nData columns (total 3 columns):\n #   Column      Non-Null Count  Dtype  \n---  ------      --------------  -----  \n 0   id          8726 non-null   object \n 1   CHANGE_NUM  8726 non-null   int64  \n 2   HAS_CHANGE  8726 non-null   float64\ndtypes: float64(1), int64(1), object(1)\nmemory usage: 204.6+ KB\n"
     ]
    }
   ],
   "source": [
    "change_info.info()"
   ]
  },
  {
   "cell_type": "code",
   "execution_count": 27,
   "metadata": {},
   "outputs": [],
   "source": [
    "change_info.to_csv('./features/change_info_feature.csv',index=False)"
   ]
  },
  {
   "cell_type": "code",
   "execution_count": null,
   "metadata": {},
   "outputs": [],
   "source": [
    "## "
   ]
  }
 ]
}