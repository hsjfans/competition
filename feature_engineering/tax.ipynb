{
 "metadata": {
  "language_info": {
   "codemirror_mode": {
    "name": "ipython",
    "version": 3
   },
   "file_extension": ".py",
   "mimetype": "text/x-python",
   "name": "python",
   "nbconvert_exporter": "python",
   "pygments_lexer": "ipython3",
   "version": "3.7.9-final"
  },
  "orig_nbformat": 2,
  "kernelspec": {
   "name": "python3",
   "display_name": "Python 3"
  }
 },
 "nbformat": 4,
 "nbformat_minor": 2,
 "cells": [
  {
   "cell_type": "code",
   "execution_count": 43,
   "metadata": {},
   "outputs": [],
   "source": [
    "import pandas as pd\n",
    "from tqdm import tqdm\n",
    "tax_info = pd.read_csv('../data/train/tax_info.csv')\n",
    "entprise_info = pd.read_csv('../data/train/entprise_info.csv')"
   ]
  },
  {
   "cell_type": "code",
   "execution_count": 44,
   "metadata": {},
   "outputs": [
    {
     "output_type": "stream",
     "name": "stdout",
     "text": [
      "{'城镇土地使用税', '耕地占用税', '个人所得税', '其他专项收入', '其他收入', '地方教育附加', '教育费附加', '房产税', '企业所得税', '城市维护建设税', '残疾人就业保障金', '土地增值税', '营业税', '印花税', '水利建设专项收入', '税务部门罚没收入', '契税'}\nid                   0\nSTART_DATE           0\nEND_DATE             0\nTAX_CATEGORIES       0\nTAX_ITEMS            0\nTAXATION_BASIS    3379\nTAX_RATE          3379\nDEDUCTION         4960\nTAX_AMOUNT           0\ndtype: int64\n"
     ]
    },
    {
     "output_type": "execute_result",
     "data": {
      "text/plain": [
       "id                 808\n",
       "START_DATE          91\n",
       "END_DATE            91\n",
       "TAX_CATEGORIES      17\n",
       "TAX_ITEMS          275\n",
       "TAXATION_BASIS    1665\n",
       "TAX_RATE            28\n",
       "DEDUCTION          247\n",
       "TAX_AMOUNT        4568\n",
       "dtype: int64"
      ]
     },
     "metadata": {},
     "execution_count": 44
    }
   ],
   "source": [
    "print(set(tax_info.TAX_CATEGORIES))\n",
    "print(tax_info.isna().sum())\n",
    "tax_info.nunique()\n",
    "\n"
   ]
  },
  {
   "cell_type": "code",
   "execution_count": 45,
   "metadata": {
    "tags": []
   },
   "outputs": [
    {
     "output_type": "stream",
     "name": "stderr",
     "text": [
      "100%|██████████| 2/2 [00:00<00:00, 61.68it/s]<class 'pandas.core.frame.DataFrame'>\n",
      "Index: 808 entries, f000950527a6feb6c2f40c9d8477e73a439dfa0897830397 to d8071a739aa75a3bbb9e08ebd134ae1289f194b70cac0e95\n",
      "Data columns (total 5 columns):\n",
      " #   Column          Non-Null Count  Dtype  \n",
      "---  ------          --------------  -----  \n",
      " 0   TAX_AMOUNT      808 non-null    float64\n",
      " 1   TAX_RATE        808 non-null    float64\n",
      " 2   DEDUCTION       808 non-null    float64\n",
      " 3   TAX_CATEGORIES  808 non-null    int64  \n",
      " 4   TAX_ITEMS       808 non-null    int64  \n",
      "dtypes: float64(3), int64(2)\n",
      "memory usage: 37.9+ KB\n",
      "\n"
     ]
    }
   ],
   "source": [
    "#处理tax数据\n",
    "#对object类型进行编码\n",
    "tax_info_clean=tax_info.drop(['START_DATE','END_DATE'],axis=1)\n",
    "tax_info_clean['TAX_CATEGORIES']=tax_info_clean['TAX_CATEGORIES'].fillna(-1)\n",
    "tax_info_clean['TAX_ITEMS']=tax_info_clean['TAX_ITEMS'].fillna(-1)\n",
    "cat_cols = ['TAX_CATEGORIES','TAX_ITEMS']\n",
    "\n",
    "for cat_col in tqdm(cat_cols):\n",
    "    tax_info_clean[cat_col] = tax_info_clean[cat_col].astype('category').cat.codes\n",
    "\n",
    "num_cols = ['TAX_AMOUNT','TAX_RATE','DEDUCTION']\n",
    "tax_info_clean=tax_info_clean.fillna(-1)\n",
    "#\n",
    "count_grouped = tax_info_clean.groupby('id',sort=False)[cat_cols].count()\n",
    "cat_count_feature = count_grouped.reindex()\n",
    "\n",
    "num_grouped = tax_info_clean.groupby('id',sort=False)[num_cols].agg('mean')\n",
    "num_count_feature = num_grouped.reindex()\n",
    "\n",
    "tax_info_clean = pd.merge(num_count_feature,cat_count_feature, on = 'id',how = 'outer')\n",
    "tax_info_clean.info()"
   ]
  },
  {
   "cell_type": "code",
   "execution_count": 46,
   "metadata": {},
   "outputs": [],
   "source": [
    "tax_info_clean.to_csv('tax_info_feature.csv')"
   ]
  }
 ]
}