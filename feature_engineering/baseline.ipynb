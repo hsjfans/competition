{
 "metadata": {
  "language_info": {
   "codemirror_mode": {
    "name": "ipython",
    "version": 3
   },
   "file_extension": ".py",
   "mimetype": "text/x-python",
   "name": "python",
   "nbconvert_exporter": "python",
   "pygments_lexer": "ipython3",
   "version": "3.7.9-final"
  },
  "orig_nbformat": 2,
  "kernelspec": {
   "name": "python3",
   "display_name": "Python 3.7.9 64-bit ('ml': conda)",
   "metadata": {
    "interpreter": {
     "hash": "ad5ad074276989c7bb430cb03009529396ebc1f412808063235dd1e7fed6dc18"
    }
   }
  }
 },
 "nbformat": 4,
 "nbformat_minor": 2,
 "cells": [
  {
   "cell_type": "code",
   "execution_count": 16,
   "metadata": {},
   "outputs": [],
   "source": [
    "import pandas as pd\n",
    "from tqdm import tqdm"
   ]
  },
  {
   "cell_type": "code",
   "execution_count": 17,
   "metadata": {},
   "outputs": [],
   "source": [
    "base_info = pd.read_csv('../data/train/base_info.csv')\n",
    "# 把缺失数量作为一种编码\n",
    "base_info_clean = base_info\n",
    "base_info_clean['nan_num'] = base_info.isnull().sum(axis=1)\n",
    "\n",
    "nums, shapes = base_info_clean.shape\n",
    "# 删除缺失 70%以上的数据\n",
    "for name, count in base_info_clean.isnull().sum().items():\n",
    "    if count * 1.0 / nums >= 0.70:\n",
    "        base_info_clean.drop([name], axis=1, inplace=True)\n",
    "\n",
    "# 删除类别相同的数据\n",
    "for name, count in base_info_clean.nunique().items():\n",
    "    if count == 0:\n",
    "        base_info_clean.drop([name], axis=1, inplace=True)\n"
   ]
  },
  {
   "cell_type": "code",
   "execution_count": 18,
   "metadata": {},
   "outputs": [
    {
     "output_type": "execute_result",
     "data": {
      "text/plain": [
       "id                   0\n",
       "oplocdistrict        0\n",
       "industryphy          0\n",
       "industryco           1\n",
       "dom                  0\n",
       "opscope              0\n",
       "enttype              0\n",
       "enttypeitem       8214\n",
       "opfrom               0\n",
       "opto             16040\n",
       "state                0\n",
       "orgid                0\n",
       "jobid                0\n",
       "adbusign             0\n",
       "townsign             0\n",
       "regtype              0\n",
       "empnum            5250\n",
       "compform         14234\n",
       "opform           15865\n",
       "venind           16428\n",
       "oploc                0\n",
       "regcap             191\n",
       "enttypegb            0\n",
       "nan_num              0\n",
       "dtype: int64"
      ]
     },
     "metadata": {},
     "execution_count": 18
    }
   ],
   "source": [
    "base_info_clean.isnull().sum()"
   ]
  },
  {
   "cell_type": "code",
   "execution_count": 19,
   "metadata": {},
   "outputs": [],
   "source": [
    "base_info_clean.drop('dom',axis=1,inplace=True)"
   ]
  },
  {
   "cell_type": "code",
   "execution_count": 20,
   "metadata": {},
   "outputs": [
    {
     "output_type": "stream",
     "name": "stdout",
     "text": [
      "0    纳米新材料、机械设备、五金配件加工、销售及技术推广服务，道路货物运输。（依法须经批准的项目，...\n1                    健身服务。（依法须经批准的项目，经相关部门批准后方可开展经营活动）\nName: opscope, dtype: object\n"
     ]
    }
   ],
   "source": [
    "# 正则化分词，先去除掉括号里面的内容\n",
    "print(base_info_clean['opscope'].head(2))\n",
    "opscope = base_info_clean['opscope']\n",
    "opscope.str.split(r',|、|。|;|，',expand = True).head(2)\n",
    "# 这一行先删掉，还没想好怎么处理,感觉与类别强相关\n",
    "base_info_clean.drop('opscope',axis=1,inplace=True)\n"
   ]
  },
  {
   "cell_type": "code",
   "execution_count": 21,
   "metadata": {},
   "outputs": [
    {
     "output_type": "stream",
     "name": "stderr",
     "text": [
      "100%|██████████| 2/2 [00:00<00:00, 54.49it/s]\n"
     ]
    }
   ],
   "source": [
    "# 处理日期类\n",
    "date_cols = ['opfrom','opto']\n",
    "for col in tqdm(date_cols):\n",
    "    base_info_clean[f'{col}_year'] = pd.to_datetime(base_info[col]).dt.year.fillna(-1)\n",
    "base_info_clean.drop(date_cols,axis=1,inplace=True)"
   ]
  },
  {
   "cell_type": "code",
   "execution_count": 22,
   "metadata": {},
   "outputs": [
    {
     "output_type": "stream",
     "name": "stderr",
     "text": [
      "24865it [00:00, 489883.83it/s]\n",
      "24865it [00:00, 377990.54it/s]\n",
      "24865it [00:00, 660933.68it/s]\n",
      "24865it [00:00, 745625.39it/s]\n",
      "24865it [00:00, 474198.25it/s]\n",
      "24865it [00:00, 504566.48it/s]\n"
     ]
    }
   ],
   "source": [
    "# 处理 category 类\n",
    "base_info_clean['opform'] = base_info_clean['opform'].replace('01', '01-以个人财产出资').replace('02', '02-以家庭共有财产作为个人出资')\n",
    "\n",
    "cat_cols = ['oplocdistrict','industryphy','industryco','enttype','enttypeitem',\n",
    "              'state','orgid','jobid',\n",
    "              'adbusign','townsign','regtype',\n",
    "              'compform','opform','venind','oploc','enttypegb']\n",
    "\n",
    "\n",
    "def cross_category(col1, col2):\n",
    "    column = f'{col1}_{col2}'\n",
    "    new_cate = []\n",
    "    for cat1,cat2 in tqdm(zip(base_info_clean[col1].values,base_info_clean[col2].values)):\n",
    "        new_cate.append(f'{cat1}_{cat2}')\n",
    "    base_info_clean[column] = new_cate\n",
    "    cat_cols.append(column)\n",
    "\n",
    "# 类别交叉\n",
    "cross_category('industryphy','industryco')\n",
    "cross_category('enttypegb','enttypeitem')\n",
    "cross_category('industryphy','enttypegb')\n",
    "cross_category('industryphy','enttypeitem')\n",
    "cross_category('industryco','enttypeitem')\n",
    "cross_category('industryco','enttypegb')\n",
    "\n",
    "\n"
   ]
  },
  {
   "cell_type": "code",
   "execution_count": 23,
   "metadata": {},
   "outputs": [
    {
     "output_type": "stream",
     "name": "stderr",
     "text": [
      "100%|██████████| 22/22 [00:00<00:00, 292.98it/s]\n"
     ]
    }
   ],
   "source": [
    "# 类别编码\n",
    "for cat_col in tqdm(cat_cols):\n",
    "    base_info_clean[cat_col] = base_info_clean[cat_col].astype('category').cat.codes"
   ]
  },
  {
   "cell_type": "code",
   "execution_count": 24,
   "metadata": {},
   "outputs": [
    {
     "output_type": "execute_result",
     "data": {
      "text/plain": [
       "   oplocdistrict  industryphy  industryco  enttype  enttypeitem  state  orgid  \\\n",
       "0             10           12         199        0            4      1     62   \n",
       "1              9           14         244       16           -1      1     58   \n",
       "2              3           17         336        0            4      1     32   \n",
       "3              8           11         143        9           18      1     50   \n",
       "4              3           17         312        0            2      2      1   \n",
       "\n",
       "   jobid  adbusign  townsign  ...  opform  venind  oploc  enttypegb  \\\n",
       "0    112         0         0  ...      -1      -1    108          6   \n",
       "1     61         0         1  ...       3       2   1989         52   \n",
       "2    422         0         0  ...      -1      -1    108          6   \n",
       "3    321         0         1  ...       1      -1    108         39   \n",
       "4    346         0         0  ...      -1      -1    108          4   \n",
       "\n",
       "   industryphy_industryco  enttypegb_enttypeitem  industryphy_enttypegb  \\\n",
       "0                     196                      6                    141   \n",
       "1                     244                     53                    205   \n",
       "2                     339                      6                    230   \n",
       "3                     138                     39                    133   \n",
       "4                     314                      4                    229   \n",
       "\n",
       "   industryphy_enttypeitem  industryco_enttypeitem  industryco_enttypegb  \n",
       "0                      102                     520                   625  \n",
       "1                      145                     711                   863  \n",
       "2                      164                    1020                  1228  \n",
       "3                       94                     302                   347  \n",
       "4                      163                     917                  1109  \n",
       "\n",
       "[5 rows x 22 columns]"
      ],
      "text/html": "<div>\n<style scoped>\n    .dataframe tbody tr th:only-of-type {\n        vertical-align: middle;\n    }\n\n    .dataframe tbody tr th {\n        vertical-align: top;\n    }\n\n    .dataframe thead th {\n        text-align: right;\n    }\n</style>\n<table border=\"1\" class=\"dataframe\">\n  <thead>\n    <tr style=\"text-align: right;\">\n      <th></th>\n      <th>oplocdistrict</th>\n      <th>industryphy</th>\n      <th>industryco</th>\n      <th>enttype</th>\n      <th>enttypeitem</th>\n      <th>state</th>\n      <th>orgid</th>\n      <th>jobid</th>\n      <th>adbusign</th>\n      <th>townsign</th>\n      <th>...</th>\n      <th>opform</th>\n      <th>venind</th>\n      <th>oploc</th>\n      <th>enttypegb</th>\n      <th>industryphy_industryco</th>\n      <th>enttypegb_enttypeitem</th>\n      <th>industryphy_enttypegb</th>\n      <th>industryphy_enttypeitem</th>\n      <th>industryco_enttypeitem</th>\n      <th>industryco_enttypegb</th>\n    </tr>\n  </thead>\n  <tbody>\n    <tr>\n      <th>0</th>\n      <td>10</td>\n      <td>12</td>\n      <td>199</td>\n      <td>0</td>\n      <td>4</td>\n      <td>1</td>\n      <td>62</td>\n      <td>112</td>\n      <td>0</td>\n      <td>0</td>\n      <td>...</td>\n      <td>-1</td>\n      <td>-1</td>\n      <td>108</td>\n      <td>6</td>\n      <td>196</td>\n      <td>6</td>\n      <td>141</td>\n      <td>102</td>\n      <td>520</td>\n      <td>625</td>\n    </tr>\n    <tr>\n      <th>1</th>\n      <td>9</td>\n      <td>14</td>\n      <td>244</td>\n      <td>16</td>\n      <td>-1</td>\n      <td>1</td>\n      <td>58</td>\n      <td>61</td>\n      <td>0</td>\n      <td>1</td>\n      <td>...</td>\n      <td>3</td>\n      <td>2</td>\n      <td>1989</td>\n      <td>52</td>\n      <td>244</td>\n      <td>53</td>\n      <td>205</td>\n      <td>145</td>\n      <td>711</td>\n      <td>863</td>\n    </tr>\n    <tr>\n      <th>2</th>\n      <td>3</td>\n      <td>17</td>\n      <td>336</td>\n      <td>0</td>\n      <td>4</td>\n      <td>1</td>\n      <td>32</td>\n      <td>422</td>\n      <td>0</td>\n      <td>0</td>\n      <td>...</td>\n      <td>-1</td>\n      <td>-1</td>\n      <td>108</td>\n      <td>6</td>\n      <td>339</td>\n      <td>6</td>\n      <td>230</td>\n      <td>164</td>\n      <td>1020</td>\n      <td>1228</td>\n    </tr>\n    <tr>\n      <th>3</th>\n      <td>8</td>\n      <td>11</td>\n      <td>143</td>\n      <td>9</td>\n      <td>18</td>\n      <td>1</td>\n      <td>50</td>\n      <td>321</td>\n      <td>0</td>\n      <td>1</td>\n      <td>...</td>\n      <td>1</td>\n      <td>-1</td>\n      <td>108</td>\n      <td>39</td>\n      <td>138</td>\n      <td>39</td>\n      <td>133</td>\n      <td>94</td>\n      <td>302</td>\n      <td>347</td>\n    </tr>\n    <tr>\n      <th>4</th>\n      <td>3</td>\n      <td>17</td>\n      <td>312</td>\n      <td>0</td>\n      <td>2</td>\n      <td>2</td>\n      <td>1</td>\n      <td>346</td>\n      <td>0</td>\n      <td>0</td>\n      <td>...</td>\n      <td>-1</td>\n      <td>-1</td>\n      <td>108</td>\n      <td>4</td>\n      <td>314</td>\n      <td>4</td>\n      <td>229</td>\n      <td>163</td>\n      <td>917</td>\n      <td>1109</td>\n    </tr>\n  </tbody>\n</table>\n<p>5 rows × 22 columns</p>\n</div>"
     },
     "metadata": {},
     "execution_count": 24
    }
   ],
   "source": [
    " base_info_clean[cat_cols].head()\n"
   ]
  },
  {
   "cell_type": "code",
   "execution_count": 25,
   "metadata": {},
   "outputs": [
    {
     "output_type": "stream",
     "name": "stdout",
     "text": [
      "nan_num 分桶完毕 ......... \n"
     ]
    }
   ],
   "source": [
    "# 数值数据进行分桶处理\n",
    "\n",
    "# 对于 nan_num 采用\n",
    "# base_info_clean = base_info_clean.sort_values(by='nan_num',ascending=False)\n",
    "# 手动分箱 {7, 8, 9, 10, 11, 12, 13, 14, 15, 16}\n",
    "# <= 9, <= 11, 12, 13, >= 14\n",
    "base_info_clean['nan_num_bin'] = 1\n",
    "base_info_clean.loc[base_info_clean['nan_num'] > 9,'nan_num_bin'] = 2\n",
    "base_info_clean.loc[base_info_clean['nan_num'] >= 11,'nan_num_bin'] = 3\n",
    "base_info_clean.loc[base_info_clean['nan_num'] >= 12,'nan_num_bin'] = 4\n",
    "base_info_clean.loc[base_info_clean['nan_num'] >= 13,'nan_num_bin'] = 5\n",
    "base_info_clean.loc[base_info_clean['nan_num'] >= 14,'nan_num_bin'] = 6\n",
    "cat_cols.append('nan_num_bim')\n",
    "print(\"nan_num 分桶完毕 ......... \")"
   ]
  },
  {
   "cell_type": "code",
   "execution_count": 26,
   "metadata": {},
   "outputs": [
    {
     "output_type": "stream",
     "name": "stdout",
     "text": [
      "注册资本 regcap_bin 分桶完毕 ......... \n"
     ]
    }
   ],
   "source": [
    "#注册资本分桶\n",
    "base_info_clean['regcap']=base_info_clean['regcap'].fillna(base_info_clean['regcap'].median())\n",
    "base_info_clean = base_info_clean.sort_values(by='regcap')\n",
    "base_info_clean['regcap_bin']=pd.qcut(base_info_clean['regcap'],6,labels = False)\n",
    "cat_cols.append('regcap_bin')\n",
    "print(\"注册资本 regcap_bin 分桶完毕 ......... \")"
   ]
  },
  {
   "cell_type": "code",
   "execution_count": 27,
   "metadata": {},
   "outputs": [
    {
     "output_type": "stream",
     "name": "stdout",
     "text": [
      "empnum_bin 分桶完毕 ......... \n"
     ]
    }
   ],
   "source": [
    "# empnum 分桶\n",
    "base_info_clean['empnum']=base_info_clean['empnum'].fillna(base_info_clean['empnum'].median())\n",
    "base_info_clean = base_info_clean.sort_values(by='empnum')\n",
    "base_info_clean['empnum_bin']=pd.qcut(base_info_clean['empnum'],5,labels = False,duplicates = 'drop')\n",
    "cat_cols.append('empnum_bin')\n",
    "print(\"empnum_bin 分桶完毕 ......... \")"
   ]
  },
  {
   "cell_type": "code",
   "execution_count": 31,
   "metadata": {},
   "outputs": [
    {
     "output_type": "execute_result",
     "data": {
      "text/plain": [
       "id                         24865\n",
       "oplocdistrict                 16\n",
       "industryphy                   20\n",
       "industryco                   346\n",
       "enttype                       17\n",
       "enttypeitem                   32\n",
       "state                          6\n",
       "orgid                         78\n",
       "jobid                        434\n",
       "adbusign                       2\n",
       "townsign                       2\n",
       "regtype                        3\n",
       "empnum                        62\n",
       "compform                       3\n",
       "opform                        32\n",
       "venind                         4\n",
       "oploc                       5351\n",
       "regcap                      1143\n",
       "enttypegb                     53\n",
       "nan_num                       11\n",
       "opfrom_year                   35\n",
       "opto_year                     70\n",
       "industryphy_industryco       348\n",
       "enttypegb_enttypeitem         54\n",
       "industryphy_enttypegb        250\n",
       "industryphy_enttypeitem      179\n",
       "industryco_enttypeitem      1040\n",
       "industryco_enttypegb        1254\n",
       "nan_num_bin                    6\n",
       "regcap_bin                     6\n",
       "empnum_bin                     4\n",
       "dtype: int64"
      ]
     },
     "metadata": {},
     "execution_count": 31
    }
   ],
   "source": [
    "base_info_clean.nunique()"
   ]
  },
  {
   "cell_type": "code",
   "execution_count": 30,
   "metadata": {},
   "outputs": [],
   "source": [
    "base_info_clean.to_csv('./features/base_info_feature.csv',index= False)"
   ]
  }
 ]
}