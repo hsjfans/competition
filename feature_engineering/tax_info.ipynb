{
 "metadata": {
  "language_info": {
   "codemirror_mode": {
    "name": "ipython",
    "version": 3
   },
   "file_extension": ".py",
   "mimetype": "text/x-python",
   "name": "python",
   "nbconvert_exporter": "python",
   "pygments_lexer": "ipython3",
   "version": "3.7.9-final"
  },
  "orig_nbformat": 2,
  "kernelspec": {
   "name": "python3",
   "display_name": "Python 3"
  }
 },
 "nbformat": 4,
 "nbformat_minor": 2,
 "cells": [
  {
   "cell_type": "code",
   "execution_count": 7,
   "metadata": {},
   "outputs": [],
   "source": [
    "import pandas as pd\n",
    "from tqdm import tqdm\n",
    "tax_info = pd.read_csv('../data/train/tax_info.csv')"
   ]
  },
  {
   "cell_type": "code",
   "execution_count": 8,
   "metadata": {},
   "outputs": [],
   "source": [
    "count, shapes = tax_info.shape\n",
    "#空值大于0.7的列都删除掉\n",
    "tax_info_clean=tax_info.dropna(thresh= count*0.7,how='all',axis=1)"
   ]
  },
  {
   "cell_type": "code",
   "execution_count": 9,
   "metadata": {},
   "outputs": [
    {
     "output_type": "execute_result",
     "data": {
      "text/plain": [
       "4960"
      ]
     },
     "metadata": {},
     "execution_count": 9
    }
   ],
   "source": [
    "tax_info_clean['DEDUCTION'].isnull().sum()"
   ]
  },
  {
   "source": [
    "id:企业唯一标识, START_DATE:起始时间, END_DATE:终止时间, TAX_CATEGORIES:税种, TAX_ITEMS:税目, TAXATION_BASIS:计税依据, TAX_RATE:税率, DEDUCTION:扣除数, TAX_AMOUNT:税额"
   ],
   "cell_type": "markdown",
   "metadata": {}
  },
  {
   "source": [
    "808 条企业信息，差的有点多，缺失太多了，可以做一个简单的统计信息"
   ],
   "cell_type": "markdown",
   "metadata": {}
  },
  {
   "cell_type": "code",
   "execution_count": 10,
   "metadata": {
    "tags": []
   },
   "outputs": [
    {
     "output_type": "stream",
     "name": "stderr",
     "text": [
      "100%|██████████| 808/808 [00:00<00:00, 3654.42it/s]\n"
     ]
    }
   ],
   "source": [
    "groups = tax_info_clean.groupby('id')\n",
    "tax_cleans = []\n",
    "tax_cols = ['TAX_AMOUNT']\n",
    "for name, group_info in tqdm(groups):\n",
    "    tax_clean ={'id':name}\n",
    "    tax_clean['TAX_NUM'] = len(group_info)\n",
    "    tax_clean['HAS_TAX'] = 1.0\n",
    "    for tax_col in tax_cols:\n",
    "        tax_clean[f'{tax_col}_MEAN'] = group_info[tax_col].dropna().values.mean()\n",
    "    tax_cleans.append(tax_clean)\n",
    "tax_info_clean = pd.DataFrame(tax_cleans)"
   ]
  },
  {
   "cell_type": "code",
   "execution_count": 11,
   "metadata": {},
   "outputs": [
    {
     "output_type": "execute_result",
     "data": {
      "text/plain": [
       "                                                  id  TAX_NUM  HAS_TAX  \\\n",
       "0   216bd2aaf4d079243f3c0bd3d6d28333c790bd3aee0ddad8       46      1.0   \n",
       "1   216bd2aaf4d079248a1cb9c41425810a25d29c1fc1d1c15a        4      1.0   \n",
       "2   216bd2aaf4d07924caa4f30fb76969cba69358e90e310f5e        1      1.0   \n",
       "3   216bd2aaf4d07924d90a8951ef6a87c01e2f2ec78aa14698        2      1.0   \n",
       "4   47645761dc56bb8c0ee994e2cf201d523319b7160f6722f8        4      1.0   \n",
       "5   47645761dc56bb8c13c6beba56cc623f3c8f120f1b2d9451        1      1.0   \n",
       "6   47645761dc56bb8c176484f5aa65cca99a54a1cbd5aec3de        3      1.0   \n",
       "7   47645761dc56bb8c22a3d787cc419c37bd748cb9630e098e        1      1.0   \n",
       "8   47645761dc56bb8c27b5d4f1c8aa9efcc8c85f66fb559a1b       11      1.0   \n",
       "9   47645761dc56bb8c2c1538ec02d60b016a11d5592630cee5        1      1.0   \n",
       "10  47645761dc56bb8c2e2a2e2964dfd57f49f7015272c094e1        2      1.0   \n",
       "11  47645761dc56bb8c32e7028b77e1aea28c6a700bef73d5d5        1      1.0   \n",
       "12  47645761dc56bb8c3593d574d325d27f439fd4a8f5d4c93b        2      1.0   \n",
       "13  47645761dc56bb8c39cdb112f3424ee59bdf36c4c5c626ba        5      1.0   \n",
       "14  47645761dc56bb8c44cae990caa278e32085a68d12e1b0c0        1      1.0   \n",
       "15  47645761dc56bb8c48985104ac038842fdfb3a5e9192f346        5      1.0   \n",
       "16  47645761dc56bb8c48b35ffa652ee8180efc335bbf1f0ba4        2      1.0   \n",
       "17  47645761dc56bb8c57527365263b00d2f6c822de5a9dddce        1      1.0   \n",
       "18  47645761dc56bb8c610951b4ff86e426c1064c998c8258bd        1      1.0   \n",
       "19  47645761dc56bb8c6216e4fc602dfd5f4da3af1dd5a3c3d3        2      1.0   \n",
       "\n",
       "    TAX_AMOUNT_MEAN  \n",
       "0         37.562826  \n",
       "1       6259.625000  \n",
       "2       2400.000000  \n",
       "3        102.300000  \n",
       "4         18.485000  \n",
       "5          2.310000  \n",
       "6         96.606667  \n",
       "7        511.770000  \n",
       "8      27840.942727  \n",
       "9         27.210000  \n",
       "10         6.740000  \n",
       "11        30.000000  \n",
       "12        14.960000  \n",
       "13        27.818000  \n",
       "14        13.220000  \n",
       "15       515.498000  \n",
       "16        45.170000  \n",
       "17        22.960000  \n",
       "18         1.200000  \n",
       "19       121.530000  "
      ],
      "text/html": "<div>\n<style scoped>\n    .dataframe tbody tr th:only-of-type {\n        vertical-align: middle;\n    }\n\n    .dataframe tbody tr th {\n        vertical-align: top;\n    }\n\n    .dataframe thead th {\n        text-align: right;\n    }\n</style>\n<table border=\"1\" class=\"dataframe\">\n  <thead>\n    <tr style=\"text-align: right;\">\n      <th></th>\n      <th>id</th>\n      <th>TAX_NUM</th>\n      <th>HAS_TAX</th>\n      <th>TAX_AMOUNT_MEAN</th>\n    </tr>\n  </thead>\n  <tbody>\n    <tr>\n      <th>0</th>\n      <td>216bd2aaf4d079243f3c0bd3d6d28333c790bd3aee0ddad8</td>\n      <td>46</td>\n      <td>1.0</td>\n      <td>37.562826</td>\n    </tr>\n    <tr>\n      <th>1</th>\n      <td>216bd2aaf4d079248a1cb9c41425810a25d29c1fc1d1c15a</td>\n      <td>4</td>\n      <td>1.0</td>\n      <td>6259.625000</td>\n    </tr>\n    <tr>\n      <th>2</th>\n      <td>216bd2aaf4d07924caa4f30fb76969cba69358e90e310f5e</td>\n      <td>1</td>\n      <td>1.0</td>\n      <td>2400.000000</td>\n    </tr>\n    <tr>\n      <th>3</th>\n      <td>216bd2aaf4d07924d90a8951ef6a87c01e2f2ec78aa14698</td>\n      <td>2</td>\n      <td>1.0</td>\n      <td>102.300000</td>\n    </tr>\n    <tr>\n      <th>4</th>\n      <td>47645761dc56bb8c0ee994e2cf201d523319b7160f6722f8</td>\n      <td>4</td>\n      <td>1.0</td>\n      <td>18.485000</td>\n    </tr>\n    <tr>\n      <th>5</th>\n      <td>47645761dc56bb8c13c6beba56cc623f3c8f120f1b2d9451</td>\n      <td>1</td>\n      <td>1.0</td>\n      <td>2.310000</td>\n    </tr>\n    <tr>\n      <th>6</th>\n      <td>47645761dc56bb8c176484f5aa65cca99a54a1cbd5aec3de</td>\n      <td>3</td>\n      <td>1.0</td>\n      <td>96.606667</td>\n    </tr>\n    <tr>\n      <th>7</th>\n      <td>47645761dc56bb8c22a3d787cc419c37bd748cb9630e098e</td>\n      <td>1</td>\n      <td>1.0</td>\n      <td>511.770000</td>\n    </tr>\n    <tr>\n      <th>8</th>\n      <td>47645761dc56bb8c27b5d4f1c8aa9efcc8c85f66fb559a1b</td>\n      <td>11</td>\n      <td>1.0</td>\n      <td>27840.942727</td>\n    </tr>\n    <tr>\n      <th>9</th>\n      <td>47645761dc56bb8c2c1538ec02d60b016a11d5592630cee5</td>\n      <td>1</td>\n      <td>1.0</td>\n      <td>27.210000</td>\n    </tr>\n    <tr>\n      <th>10</th>\n      <td>47645761dc56bb8c2e2a2e2964dfd57f49f7015272c094e1</td>\n      <td>2</td>\n      <td>1.0</td>\n      <td>6.740000</td>\n    </tr>\n    <tr>\n      <th>11</th>\n      <td>47645761dc56bb8c32e7028b77e1aea28c6a700bef73d5d5</td>\n      <td>1</td>\n      <td>1.0</td>\n      <td>30.000000</td>\n    </tr>\n    <tr>\n      <th>12</th>\n      <td>47645761dc56bb8c3593d574d325d27f439fd4a8f5d4c93b</td>\n      <td>2</td>\n      <td>1.0</td>\n      <td>14.960000</td>\n    </tr>\n    <tr>\n      <th>13</th>\n      <td>47645761dc56bb8c39cdb112f3424ee59bdf36c4c5c626ba</td>\n      <td>5</td>\n      <td>1.0</td>\n      <td>27.818000</td>\n    </tr>\n    <tr>\n      <th>14</th>\n      <td>47645761dc56bb8c44cae990caa278e32085a68d12e1b0c0</td>\n      <td>1</td>\n      <td>1.0</td>\n      <td>13.220000</td>\n    </tr>\n    <tr>\n      <th>15</th>\n      <td>47645761dc56bb8c48985104ac038842fdfb3a5e9192f346</td>\n      <td>5</td>\n      <td>1.0</td>\n      <td>515.498000</td>\n    </tr>\n    <tr>\n      <th>16</th>\n      <td>47645761dc56bb8c48b35ffa652ee8180efc335bbf1f0ba4</td>\n      <td>2</td>\n      <td>1.0</td>\n      <td>45.170000</td>\n    </tr>\n    <tr>\n      <th>17</th>\n      <td>47645761dc56bb8c57527365263b00d2f6c822de5a9dddce</td>\n      <td>1</td>\n      <td>1.0</td>\n      <td>22.960000</td>\n    </tr>\n    <tr>\n      <th>18</th>\n      <td>47645761dc56bb8c610951b4ff86e426c1064c998c8258bd</td>\n      <td>1</td>\n      <td>1.0</td>\n      <td>1.200000</td>\n    </tr>\n    <tr>\n      <th>19</th>\n      <td>47645761dc56bb8c6216e4fc602dfd5f4da3af1dd5a3c3d3</td>\n      <td>2</td>\n      <td>1.0</td>\n      <td>121.530000</td>\n    </tr>\n  </tbody>\n</table>\n</div>"
     },
     "metadata": {},
     "execution_count": 11
    }
   ],
   "source": [
    "tax_info_clean.head(20)"
   ]
  },
  {
   "cell_type": "code",
   "execution_count": 12,
   "metadata": {},
   "outputs": [],
   "source": [
    "tax_info_clean.to_csv('./features/tax_info_feature.csv',index = False)"
   ]
  }
 ]
}