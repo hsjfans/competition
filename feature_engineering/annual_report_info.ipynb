{
 "metadata": {
  "language_info": {
   "codemirror_mode": {
    "name": "ipython",
    "version": 3
   },
   "file_extension": ".py",
   "mimetype": "text/x-python",
   "name": "python",
   "nbconvert_exporter": "python",
   "pygments_lexer": "ipython3",
   "version": "3.7.9-final"
  },
  "orig_nbformat": 2,
  "kernelspec": {
   "name": "python3",
   "display_name": "Python 3"
  }
 },
 "nbformat": 4,
 "nbformat_minor": 2,
 "cells": [
  {
   "cell_type": "code",
   "execution_count": 8,
   "metadata": {},
   "outputs": [],
   "source": [
    "import pandas as pd\n",
    "\n",
    "annual_report_info=pd.read_csv('../data/train/annual_report_info.csv')#企业的年报基本信息"
   ]
  },
  {
   "cell_type": "code",
   "execution_count": 9,
   "metadata": {},
   "outputs": [
    {
     "output_type": "execute_result",
     "data": {
      "text/plain": [
       "id                   0\n",
       "ANCHEYEAR            0\n",
       "STATE                5\n",
       "FUNDAM           16848\n",
       "MEMNUM           22521\n",
       "FARNUM           22521\n",
       "ANNNEWMEMNUM     22521\n",
       "ANNREDMEMNUM     22521\n",
       "EMPNUM              15\n",
       "EMPNUMSIGN        5717\n",
       "BUSSTNAME         4870\n",
       "COLGRANUM         2509\n",
       "RETSOLNUM         2509\n",
       "DISPERNUM         2509\n",
       "UNENUM            2509\n",
       "COLEMPLNUM        2509\n",
       "RETEMPLNUM        2509\n",
       "DISEMPLNUM        2509\n",
       "UNEEMPLNUM        2509\n",
       "WEBSITSIGN          33\n",
       "FORINVESTSIGN     6061\n",
       "STOCKTRANSIGN     9043\n",
       "PUBSTATE            20\n",
       "dtype: int64"
      ]
     },
     "metadata": {},
     "execution_count": 9
    }
   ],
   "source": [
    "annual_report_info.isnull().sum()"
   ]
  },
  {
   "cell_type": "code",
   "execution_count": 10,
   "metadata": {},
   "outputs": [],
   "source": [
    "#处理base_info的数据\n",
    "#空值大于0.5的列都删除掉\n",
    "annual_report_info_clean=annual_report_info.dropna(thresh=annual_report_info.shape[0]*0.5,how='all',axis=1)"
   ]
  },
  {
   "cell_type": "code",
   "execution_count": 11,
   "metadata": {},
   "outputs": [
    {
     "output_type": "execute_result",
     "data": {
      "text/plain": [
       "id                  0\n",
       "ANCHEYEAR           0\n",
       "STATE               5\n",
       "EMPNUM             15\n",
       "EMPNUMSIGN       5717\n",
       "BUSSTNAME        4870\n",
       "COLGRANUM        2509\n",
       "RETSOLNUM        2509\n",
       "DISPERNUM        2509\n",
       "UNENUM           2509\n",
       "COLEMPLNUM       2509\n",
       "RETEMPLNUM       2509\n",
       "DISEMPLNUM       2509\n",
       "UNEEMPLNUM       2509\n",
       "WEBSITSIGN         33\n",
       "FORINVESTSIGN    6061\n",
       "STOCKTRANSIGN    9043\n",
       "PUBSTATE           20\n",
       "dtype: int64"
      ]
     },
     "metadata": {},
     "execution_count": 11
    }
   ],
   "source": [
    "annual_report_info_clean.isnull().sum()"
   ]
  },
  {
   "cell_type": "code",
   "execution_count": 12,
   "metadata": {},
   "outputs": [],
   "source": [
    "#对object类型进行编码\n",
    "annual_report_info_clean['BUSSTNAME']=annual_report_info_clean['BUSSTNAME'].fillna(\"无\")\n",
    "dic = {'无':-1,'开业':0, '歇业':1, '停业':2, '清算':3}\n",
    "buf = pd.DataFrame()\n",
    "buf_group = annual_report_info_clean.groupby('BUSSTNAME',sort=False)\n",
    "for name,group in buf_group:\n",
    "    group['BUSSTNAME'] = dic[name]\n",
    "    buf = pd.concat([buf,group],ignore_index=True)\n",
    "buf=buf.fillna(-1)\n",
    "#\n",
    "buf_group = buf.groupby('id',sort=False).agg('mean')\n",
    "buf=pd.DataFrame(buf_group).reset_index()\n",
    "annual_report_info_clean=buf.drop(['ANCHEYEAR'],axis=1)"
   ]
  },
  {
   "cell_type": "code",
   "execution_count": 13,
   "metadata": {},
   "outputs": [],
   "source": [
    "annual_report_info_clean.to_csv('annual_report_info_feature.csv',index = False)"
   ]
  },
  {
   "cell_type": "code",
   "execution_count": 14,
   "metadata": {},
   "outputs": [
    {
     "output_type": "execute_result",
     "data": {
      "text/plain": [
       "             STATE       EMPNUM   EMPNUMSIGN    BUSSTNAME    COLGRANUM  \\\n",
       "count  8937.000000  8937.000000  8937.000000  8937.000000  8937.000000   \n",
       "mean      1.998433     9.060879     0.981162    -0.195921     0.616838   \n",
       "std       0.036739   101.814634     1.329025     0.536274     2.965080   \n",
       "min       0.500000    -1.000000    -1.000000    -1.000000    -1.000000   \n",
       "25%       2.000000     1.500000    -1.000000    -0.666667     0.000000   \n",
       "50%       2.000000     2.500000     1.750000     0.000000     0.000000   \n",
       "75%       2.000000     5.000000     2.000000     0.000000     1.000000   \n",
       "max       2.000000  8050.750000     2.000000     3.000000   177.000000   \n",
       "\n",
       "         RETSOLNUM    DISPERNUM       UNENUM   COLEMPLNUM   RETEMPLNUM  \\\n",
       "count  8937.000000  8937.000000  8937.000000  8937.000000  8937.000000   \n",
       "mean     -0.048930    -0.077683     0.157503     1.126765    -0.021206   \n",
       "std       0.596557     0.304094     1.805977     6.321264     0.766395   \n",
       "min      -1.000000    -1.000000    -1.000000    -1.000000    -1.000000   \n",
       "25%       0.000000     0.000000     0.000000     0.000000     0.000000   \n",
       "50%       0.000000     0.000000     0.000000     0.000000     0.000000   \n",
       "75%       0.000000     0.000000     0.000000     1.000000     0.000000   \n",
       "max      40.000000     2.500000   102.500000   309.500000    29.250000   \n",
       "\n",
       "        DISEMPLNUM   UNEEMPLNUM   WEBSITSIGN  FORINVESTSIGN  STOCKTRANSIGN  \\\n",
       "count  8937.000000  8937.000000  8937.000000    8937.000000    8937.000000   \n",
       "mean     -0.063599     0.461257     1.965844       1.019251       0.663133   \n",
       "std       0.411494     3.970381     0.175788       1.379495       1.468833   \n",
       "min      -1.000000    -1.000000    -1.000000      -1.000000      -1.000000   \n",
       "25%       0.000000     0.000000     2.000000      -1.000000      -1.000000   \n",
       "50%       0.000000     0.000000     2.000000       2.000000       1.750000   \n",
       "75%       0.000000     0.000000     2.000000       2.000000       2.000000   \n",
       "max      10.500000   132.250000     2.000000       2.000000       2.000000   \n",
       "\n",
       "          PUBSTATE  \n",
       "count  8937.000000  \n",
       "mean      2.724743  \n",
       "std       0.457251  \n",
       "min      -1.000000  \n",
       "25%       2.500000  \n",
       "50%       3.000000  \n",
       "75%       3.000000  \n",
       "max       3.000000  "
      ],
      "text/html": "<div>\n<style scoped>\n    .dataframe tbody tr th:only-of-type {\n        vertical-align: middle;\n    }\n\n    .dataframe tbody tr th {\n        vertical-align: top;\n    }\n\n    .dataframe thead th {\n        text-align: right;\n    }\n</style>\n<table border=\"1\" class=\"dataframe\">\n  <thead>\n    <tr style=\"text-align: right;\">\n      <th></th>\n      <th>STATE</th>\n      <th>EMPNUM</th>\n      <th>EMPNUMSIGN</th>\n      <th>BUSSTNAME</th>\n      <th>COLGRANUM</th>\n      <th>RETSOLNUM</th>\n      <th>DISPERNUM</th>\n      <th>UNENUM</th>\n      <th>COLEMPLNUM</th>\n      <th>RETEMPLNUM</th>\n      <th>DISEMPLNUM</th>\n      <th>UNEEMPLNUM</th>\n      <th>WEBSITSIGN</th>\n      <th>FORINVESTSIGN</th>\n      <th>STOCKTRANSIGN</th>\n      <th>PUBSTATE</th>\n    </tr>\n  </thead>\n  <tbody>\n    <tr>\n      <th>count</th>\n      <td>8937.000000</td>\n      <td>8937.000000</td>\n      <td>8937.000000</td>\n      <td>8937.000000</td>\n      <td>8937.000000</td>\n      <td>8937.000000</td>\n      <td>8937.000000</td>\n      <td>8937.000000</td>\n      <td>8937.000000</td>\n      <td>8937.000000</td>\n      <td>8937.000000</td>\n      <td>8937.000000</td>\n      <td>8937.000000</td>\n      <td>8937.000000</td>\n      <td>8937.000000</td>\n      <td>8937.000000</td>\n    </tr>\n    <tr>\n      <th>mean</th>\n      <td>1.998433</td>\n      <td>9.060879</td>\n      <td>0.981162</td>\n      <td>-0.195921</td>\n      <td>0.616838</td>\n      <td>-0.048930</td>\n      <td>-0.077683</td>\n      <td>0.157503</td>\n      <td>1.126765</td>\n      <td>-0.021206</td>\n      <td>-0.063599</td>\n      <td>0.461257</td>\n      <td>1.965844</td>\n      <td>1.019251</td>\n      <td>0.663133</td>\n      <td>2.724743</td>\n    </tr>\n    <tr>\n      <th>std</th>\n      <td>0.036739</td>\n      <td>101.814634</td>\n      <td>1.329025</td>\n      <td>0.536274</td>\n      <td>2.965080</td>\n      <td>0.596557</td>\n      <td>0.304094</td>\n      <td>1.805977</td>\n      <td>6.321264</td>\n      <td>0.766395</td>\n      <td>0.411494</td>\n      <td>3.970381</td>\n      <td>0.175788</td>\n      <td>1.379495</td>\n      <td>1.468833</td>\n      <td>0.457251</td>\n    </tr>\n    <tr>\n      <th>min</th>\n      <td>0.500000</td>\n      <td>-1.000000</td>\n      <td>-1.000000</td>\n      <td>-1.000000</td>\n      <td>-1.000000</td>\n      <td>-1.000000</td>\n      <td>-1.000000</td>\n      <td>-1.000000</td>\n      <td>-1.000000</td>\n      <td>-1.000000</td>\n      <td>-1.000000</td>\n      <td>-1.000000</td>\n      <td>-1.000000</td>\n      <td>-1.000000</td>\n      <td>-1.000000</td>\n      <td>-1.000000</td>\n    </tr>\n    <tr>\n      <th>25%</th>\n      <td>2.000000</td>\n      <td>1.500000</td>\n      <td>-1.000000</td>\n      <td>-0.666667</td>\n      <td>0.000000</td>\n      <td>0.000000</td>\n      <td>0.000000</td>\n      <td>0.000000</td>\n      <td>0.000000</td>\n      <td>0.000000</td>\n      <td>0.000000</td>\n      <td>0.000000</td>\n      <td>2.000000</td>\n      <td>-1.000000</td>\n      <td>-1.000000</td>\n      <td>2.500000</td>\n    </tr>\n    <tr>\n      <th>50%</th>\n      <td>2.000000</td>\n      <td>2.500000</td>\n      <td>1.750000</td>\n      <td>0.000000</td>\n      <td>0.000000</td>\n      <td>0.000000</td>\n      <td>0.000000</td>\n      <td>0.000000</td>\n      <td>0.000000</td>\n      <td>0.000000</td>\n      <td>0.000000</td>\n      <td>0.000000</td>\n      <td>2.000000</td>\n      <td>2.000000</td>\n      <td>1.750000</td>\n      <td>3.000000</td>\n    </tr>\n    <tr>\n      <th>75%</th>\n      <td>2.000000</td>\n      <td>5.000000</td>\n      <td>2.000000</td>\n      <td>0.000000</td>\n      <td>1.000000</td>\n      <td>0.000000</td>\n      <td>0.000000</td>\n      <td>0.000000</td>\n      <td>1.000000</td>\n      <td>0.000000</td>\n      <td>0.000000</td>\n      <td>0.000000</td>\n      <td>2.000000</td>\n      <td>2.000000</td>\n      <td>2.000000</td>\n      <td>3.000000</td>\n    </tr>\n    <tr>\n      <th>max</th>\n      <td>2.000000</td>\n      <td>8050.750000</td>\n      <td>2.000000</td>\n      <td>3.000000</td>\n      <td>177.000000</td>\n      <td>40.000000</td>\n      <td>2.500000</td>\n      <td>102.500000</td>\n      <td>309.500000</td>\n      <td>29.250000</td>\n      <td>10.500000</td>\n      <td>132.250000</td>\n      <td>2.000000</td>\n      <td>2.000000</td>\n      <td>2.000000</td>\n      <td>3.000000</td>\n    </tr>\n  </tbody>\n</table>\n</div>"
     },
     "metadata": {},
     "execution_count": 14
    }
   ],
   "source": [
    "annual_report_info_clean.describe()"
   ]
  }
 ]
}