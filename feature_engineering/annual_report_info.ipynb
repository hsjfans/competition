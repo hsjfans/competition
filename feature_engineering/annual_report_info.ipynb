{
 "metadata": {
  "language_info": {
   "codemirror_mode": {
    "name": "ipython",
    "version": 3
   },
   "file_extension": ".py",
   "mimetype": "text/x-python",
   "name": "python",
   "nbconvert_exporter": "python",
   "pygments_lexer": "ipython3",
   "version": "3.7.9-final"
  },
  "orig_nbformat": 2,
  "kernelspec": {
   "name": "python3",
   "display_name": "Python 3"
  }
 },
 "nbformat": 4,
 "nbformat_minor": 2,
 "cells": [
  {
   "cell_type": "code",
   "execution_count": 10,
   "metadata": {},
   "outputs": [],
   "source": [
    "import pandas as pd\n",
    "from tqdm import tqdm\n",
    "annual_report_info=pd.read_csv('../data/train/annual_report_info.csv')#企业的年报基本信息"
   ]
  },
  {
   "cell_type": "code",
   "execution_count": 11,
   "metadata": {},
   "outputs": [],
   "source": [
    "count, shapes = annual_report_info.shape\n",
    "#空值大于0.7的列都删除掉\n",
    "annual_report_info_clean=annual_report_info.dropna(thresh=annual_report_info.shape[0]*0.7,how='all',axis=1)"
   ]
  },
  {
   "cell_type": "code",
   "execution_count": 12,
   "metadata": {},
   "outputs": [
    {
     "output_type": "execute_result",
     "data": {
      "text/plain": [
       "id               8937\n",
       "ANCHEYEAR           4\n",
       "STATE               2\n",
       "EMPNUM            270\n",
       "EMPNUMSIGN          2\n",
       "BUSSTNAME           4\n",
       "COLGRANUM          43\n",
       "RETSOLNUM          14\n",
       "DISPERNUM           5\n",
       "UNENUM             35\n",
       "COLEMPLNUM         94\n",
       "RETEMPLNUM         26\n",
       "DISEMPLNUM         16\n",
       "UNEEMPLNUM         72\n",
       "WEBSITSIGN          2\n",
       "FORINVESTSIGN       2\n",
       "PUBSTATE            3\n",
       "dtype: int64"
      ]
     },
     "metadata": {},
     "execution_count": 12
    }
   ],
   "source": [
    "annual_report_info_clean.nunique()"
   ]
  },
  {
   "source": [
    "id:企业唯一标识, ANCHEYEAR:年度, STATE:状态, FUNDAM:资金数额, MEMNUM:成员人数, FARNUM:农民人数, ANNNEWMEMNUM:本年度新增成员人数, ANNREDMEMNUM:本年度退出成员人数, EMPNUM:从业人数, EMPNUMSIGN:从业人数是否公示, BUSSTNAME:经营状态名称, COLGRANUM:其中高校毕业生人数经营者, RETSOLNUM:其中退役士兵人数经营者, DISPERNUM:其中残疾人人数经营者, UNENUM:其中下岗失业人数经营者, COLEMPLNUM:其中高校毕业生人数雇员, RETEMPLNUM:其中退役士兵人数雇员, DISEMPLNUM:其中残疾人人数雇员, UNEEMPLNUM:其中下岗失业人数雇员, WEBSITSIGN:是否有网站标志, FORINVESTSIGN:是否有对外投资企业标志, STOCKTRANSIGN:有限责任公司本年度是否发生股东股权转让标志, PUBSTATE:公示状态：1 全部公示，2部分公示,3全部不公示"
   ],
   "cell_type": "markdown",
   "metadata": {}
  },
  {
   "cell_type": "code",
   "execution_count": 13,
   "metadata": {},
   "outputs": [
    {
     "output_type": "execute_result",
     "data": {
      "text/plain": [
       "   EMPNUM  COLGRANUM  RETSOLNUM  DISPERNUM  UNENUM  COLEMPLNUM  RETEMPLNUM  \\\n",
       "0    10.0        0.0        0.0        0.0     0.0         0.0         0.0   \n",
       "1     2.0        0.0        0.0        0.0     0.0         0.0         0.0   \n",
       "2     4.0        3.0        0.0        0.0     0.0         1.0         0.0   \n",
       "3     3.0        1.0        0.0        0.0     0.0         2.0         0.0   \n",
       "4    10.0        0.0        0.0        0.0     0.0         0.0         0.0   \n",
       "\n",
       "   DISEMPLNUM  UNEEMPLNUM  \n",
       "0         0.0         0.0  \n",
       "1         0.0         0.0  \n",
       "2         0.0         0.0  \n",
       "3         0.0         0.0  \n",
       "4         0.0         0.0  "
      ],
      "text/html": "<div>\n<style scoped>\n    .dataframe tbody tr th:only-of-type {\n        vertical-align: middle;\n    }\n\n    .dataframe tbody tr th {\n        vertical-align: top;\n    }\n\n    .dataframe thead th {\n        text-align: right;\n    }\n</style>\n<table border=\"1\" class=\"dataframe\">\n  <thead>\n    <tr style=\"text-align: right;\">\n      <th></th>\n      <th>EMPNUM</th>\n      <th>COLGRANUM</th>\n      <th>RETSOLNUM</th>\n      <th>DISPERNUM</th>\n      <th>UNENUM</th>\n      <th>COLEMPLNUM</th>\n      <th>RETEMPLNUM</th>\n      <th>DISEMPLNUM</th>\n      <th>UNEEMPLNUM</th>\n    </tr>\n  </thead>\n  <tbody>\n    <tr>\n      <th>0</th>\n      <td>10.0</td>\n      <td>0.0</td>\n      <td>0.0</td>\n      <td>0.0</td>\n      <td>0.0</td>\n      <td>0.0</td>\n      <td>0.0</td>\n      <td>0.0</td>\n      <td>0.0</td>\n    </tr>\n    <tr>\n      <th>1</th>\n      <td>2.0</td>\n      <td>0.0</td>\n      <td>0.0</td>\n      <td>0.0</td>\n      <td>0.0</td>\n      <td>0.0</td>\n      <td>0.0</td>\n      <td>0.0</td>\n      <td>0.0</td>\n    </tr>\n    <tr>\n      <th>2</th>\n      <td>4.0</td>\n      <td>3.0</td>\n      <td>0.0</td>\n      <td>0.0</td>\n      <td>0.0</td>\n      <td>1.0</td>\n      <td>0.0</td>\n      <td>0.0</td>\n      <td>0.0</td>\n    </tr>\n    <tr>\n      <th>3</th>\n      <td>3.0</td>\n      <td>1.0</td>\n      <td>0.0</td>\n      <td>0.0</td>\n      <td>0.0</td>\n      <td>2.0</td>\n      <td>0.0</td>\n      <td>0.0</td>\n      <td>0.0</td>\n    </tr>\n    <tr>\n      <th>4</th>\n      <td>10.0</td>\n      <td>0.0</td>\n      <td>0.0</td>\n      <td>0.0</td>\n      <td>0.0</td>\n      <td>0.0</td>\n      <td>0.0</td>\n      <td>0.0</td>\n      <td>0.0</td>\n    </tr>\n  </tbody>\n</table>\n</div>"
     },
     "metadata": {},
     "execution_count": 13
    }
   ],
   "source": [
    "# 人数的信息\n",
    "num_cols = ['EMPNUM','COLGRANUM','RETSOLNUM','DISPERNUM','UNENUM','COLEMPLNUM','RETEMPLNUM','DISEMPLNUM','UNEEMPLNUM']\n",
    "annual_report_info_clean[num_cols] = annual_report_info_clean[num_cols].fillna(0.0,axis = 1)\n",
    "annual_report_info_clean[num_cols].head()\n"
   ]
  },
  {
   "cell_type": "code",
   "execution_count": 14,
   "metadata": {},
   "outputs": [
    {
     "output_type": "stream",
     "name": "stderr",
     "text": [
      "100%|██████████| 9/9 [00:00<00:00, 408.59it/s]\n"
     ]
    }
   ],
   "source": [
    "for num_col in tqdm(num_cols):\n",
    "    num  = (annual_report_info_clean[num_col].values == 0).sum()\n",
    "    if num*1.0/count >= 0.8:\n",
    "        annual_report_info_clean.drop(num_col,axis = 1,inplace=True)"
   ]
  },
  {
   "cell_type": "code",
   "execution_count": 15,
   "metadata": {},
   "outputs": [
    {
     "output_type": "execute_result",
     "data": {
      "text/plain": [
       "   COLEMPLNUM  EMPNUM  COLGRANUM\n",
       "0         0.0    10.0        0.0\n",
       "1         0.0     2.0        0.0\n",
       "2         1.0     4.0        3.0\n",
       "3         2.0     3.0        1.0\n",
       "4         0.0    10.0        0.0"
      ],
      "text/html": "<div>\n<style scoped>\n    .dataframe tbody tr th:only-of-type {\n        vertical-align: middle;\n    }\n\n    .dataframe tbody tr th {\n        vertical-align: top;\n    }\n\n    .dataframe thead th {\n        text-align: right;\n    }\n</style>\n<table border=\"1\" class=\"dataframe\">\n  <thead>\n    <tr style=\"text-align: right;\">\n      <th></th>\n      <th>COLEMPLNUM</th>\n      <th>EMPNUM</th>\n      <th>COLGRANUM</th>\n    </tr>\n  </thead>\n  <tbody>\n    <tr>\n      <th>0</th>\n      <td>0.0</td>\n      <td>10.0</td>\n      <td>0.0</td>\n    </tr>\n    <tr>\n      <th>1</th>\n      <td>0.0</td>\n      <td>2.0</td>\n      <td>0.0</td>\n    </tr>\n    <tr>\n      <th>2</th>\n      <td>1.0</td>\n      <td>4.0</td>\n      <td>3.0</td>\n    </tr>\n    <tr>\n      <th>3</th>\n      <td>2.0</td>\n      <td>3.0</td>\n      <td>1.0</td>\n    </tr>\n    <tr>\n      <th>4</th>\n      <td>0.0</td>\n      <td>10.0</td>\n      <td>0.0</td>\n    </tr>\n  </tbody>\n</table>\n</div>"
     },
     "metadata": {},
     "execution_count": 15
    }
   ],
   "source": [
    "num_cols = list(set(num_cols) & set(annual_report_info_clean.columns))\n",
    "annual_report_info_clean[num_cols].head()"
   ]
  },
  {
   "cell_type": "code",
   "execution_count": 16,
   "metadata": {
    "tags": []
   },
   "outputs": [
    {
     "output_type": "stream",
     "name": "stderr",
     "text": [
      "100%|██████████| 8937/8937 [00:04<00:00, 1865.97it/s]\n"
     ]
    }
   ],
   "source": [
    "# category 类别进行编码\n",
    "cat_cols = ['STATE','EMPNUMSIGN','BUSSTNAME','FORINVESTSIGN','WEBSITSIGN','FORINVESTSIGN','PUBSTATE']\n",
    "# 类别信息 取最新非nan数据\n",
    "# 雇佣人数，取均值，增量，\n",
    "grouped = annual_report_info_clean.sort_values(by='ANCHEYEAR',ascending= False).groupby('id')\n",
    "clean_infos = []\n",
    "for name, group_info in tqdm(grouped):\n",
    "     clean_info = {'id':name}\n",
    "     clean_info['ANCHEYEAR'] = group_info['ANCHEYEAR'].values[-1]\n",
    "     clean_info['REPORT_NUM'] = len(group_info) \n",
    "     clean_info['HAS_REPORT'] = 1.0\n",
    "     for cat_col in cat_cols:\n",
    "         clean_info[cat_col] = group_info[cat_col].values[-1]\n",
    "     for num_col in num_cols:\n",
    "         clean_info[f'{num_col}'] = group_info[num_col].values[-1]\n",
    "         clean_info[f'{num_col}_MEAN'] = group_info[num_col].values.mean()\n",
    "         clean_info[f'{num_col}_ADD'] = 0.0\n",
    "         if len(group_info) > 1:\n",
    "             clean_info[f'{num_col}_ADD'] = group_info[num_col].values[-1] - group_info[num_col].values[-2]     \n",
    "     clean_infos.append(clean_info)\n",
    "clean_infos = pd.DataFrame(clean_infos)"
   ]
  },
  {
   "cell_type": "code",
   "execution_count": 17,
   "metadata": {},
   "outputs": [],
   "source": [
    "clean_infos.to_csv('./features/annual_report_info_feature.csv',index = False)"
   ]
  },
  {
   "cell_type": "code",
   "execution_count": 18,
   "metadata": {},
   "outputs": [
    {
     "output_type": "execute_result",
     "data": {
      "text/plain": [
       "         ANCHEYEAR   REPORT_NUM  HAS_REPORT        STATE   EMPNUMSIGN  \\\n",
       "count  8937.000000  8937.000000      8937.0  8934.000000  6218.000000   \n",
       "mean   2016.271232     2.523218         1.0     1.999440     1.877292   \n",
       "std       1.221567     1.248877         0.0     0.023652     0.328128   \n",
       "min    2015.000000     1.000000         1.0     1.000000     1.000000   \n",
       "25%    2015.000000     1.000000         1.0     2.000000     2.000000   \n",
       "50%    2016.000000     2.000000         1.0     2.000000     2.000000   \n",
       "75%    2017.000000     4.000000         1.0     2.000000     2.000000   \n",
       "max    2018.000000     8.000000         1.0     2.000000     2.000000   \n",
       "\n",
       "       FORINVESTSIGN   WEBSITSIGN     PUBSTATE   COLEMPLNUM  COLEMPLNUM_MEAN  \\\n",
       "count    6117.000000  8916.000000  8929.000000  8937.000000      8937.000000   \n",
       "mean        1.957822     1.972185     2.794714     1.263847         1.217362   \n",
       "std         0.201010     0.164452     0.499856     6.922546         6.300454   \n",
       "min         1.000000     1.000000     1.000000     0.000000         0.000000   \n",
       "25%         2.000000     2.000000     3.000000     0.000000         0.000000   \n",
       "50%         2.000000     2.000000     3.000000     0.000000         0.000000   \n",
       "75%         2.000000     2.000000     3.000000     1.000000         1.000000   \n",
       "max         2.000000     2.000000     3.000000   382.000000       309.500000   \n",
       "\n",
       "       COLEMPLNUM_ADD       EMPNUM  EMPNUM_MEAN   EMPNUM_ADD    COLGRANUM  \\\n",
       "count     8937.000000  8937.000000  8937.000000  8937.000000  8937.000000   \n",
       "mean         0.001567     8.375518     9.061756    -0.912946     0.826340   \n",
       "std          6.832944    59.917441   101.814570   101.120169     5.956445   \n",
       "min       -492.000000     0.000000     0.000000 -8808.000000     0.000000   \n",
       "25%          0.000000     2.000000     1.500000     0.000000     0.000000   \n",
       "50%          0.000000     2.000000     2.500000     0.000000     0.000000   \n",
       "75%          0.000000     5.000000     5.000000     0.000000     1.000000   \n",
       "max        177.000000  2587.000000  8050.750000   607.000000   408.000000   \n",
       "\n",
       "       COLGRANUM_MEAN  COLGRANUM_ADD  \n",
       "count     8937.000000    8937.000000  \n",
       "mean         0.707435       0.155533  \n",
       "std          2.930997       5.905040  \n",
       "min          0.000000     -80.000000  \n",
       "25%          0.000000       0.000000  \n",
       "50%          0.000000       0.000000  \n",
       "75%          1.000000       0.000000  \n",
       "max        177.000000     408.000000  "
      ],
      "text/html": "<div>\n<style scoped>\n    .dataframe tbody tr th:only-of-type {\n        vertical-align: middle;\n    }\n\n    .dataframe tbody tr th {\n        vertical-align: top;\n    }\n\n    .dataframe thead th {\n        text-align: right;\n    }\n</style>\n<table border=\"1\" class=\"dataframe\">\n  <thead>\n    <tr style=\"text-align: right;\">\n      <th></th>\n      <th>ANCHEYEAR</th>\n      <th>REPORT_NUM</th>\n      <th>HAS_REPORT</th>\n      <th>STATE</th>\n      <th>EMPNUMSIGN</th>\n      <th>FORINVESTSIGN</th>\n      <th>WEBSITSIGN</th>\n      <th>PUBSTATE</th>\n      <th>COLEMPLNUM</th>\n      <th>COLEMPLNUM_MEAN</th>\n      <th>COLEMPLNUM_ADD</th>\n      <th>EMPNUM</th>\n      <th>EMPNUM_MEAN</th>\n      <th>EMPNUM_ADD</th>\n      <th>COLGRANUM</th>\n      <th>COLGRANUM_MEAN</th>\n      <th>COLGRANUM_ADD</th>\n    </tr>\n  </thead>\n  <tbody>\n    <tr>\n      <th>count</th>\n      <td>8937.000000</td>\n      <td>8937.000000</td>\n      <td>8937.0</td>\n      <td>8934.000000</td>\n      <td>6218.000000</td>\n      <td>6117.000000</td>\n      <td>8916.000000</td>\n      <td>8929.000000</td>\n      <td>8937.000000</td>\n      <td>8937.000000</td>\n      <td>8937.000000</td>\n      <td>8937.000000</td>\n      <td>8937.000000</td>\n      <td>8937.000000</td>\n      <td>8937.000000</td>\n      <td>8937.000000</td>\n      <td>8937.000000</td>\n    </tr>\n    <tr>\n      <th>mean</th>\n      <td>2016.271232</td>\n      <td>2.523218</td>\n      <td>1.0</td>\n      <td>1.999440</td>\n      <td>1.877292</td>\n      <td>1.957822</td>\n      <td>1.972185</td>\n      <td>2.794714</td>\n      <td>1.263847</td>\n      <td>1.217362</td>\n      <td>0.001567</td>\n      <td>8.375518</td>\n      <td>9.061756</td>\n      <td>-0.912946</td>\n      <td>0.826340</td>\n      <td>0.707435</td>\n      <td>0.155533</td>\n    </tr>\n    <tr>\n      <th>std</th>\n      <td>1.221567</td>\n      <td>1.248877</td>\n      <td>0.0</td>\n      <td>0.023652</td>\n      <td>0.328128</td>\n      <td>0.201010</td>\n      <td>0.164452</td>\n      <td>0.499856</td>\n      <td>6.922546</td>\n      <td>6.300454</td>\n      <td>6.832944</td>\n      <td>59.917441</td>\n      <td>101.814570</td>\n      <td>101.120169</td>\n      <td>5.956445</td>\n      <td>2.930997</td>\n      <td>5.905040</td>\n    </tr>\n    <tr>\n      <th>min</th>\n      <td>2015.000000</td>\n      <td>1.000000</td>\n      <td>1.0</td>\n      <td>1.000000</td>\n      <td>1.000000</td>\n      <td>1.000000</td>\n      <td>1.000000</td>\n      <td>1.000000</td>\n      <td>0.000000</td>\n      <td>0.000000</td>\n      <td>-492.000000</td>\n      <td>0.000000</td>\n      <td>0.000000</td>\n      <td>-8808.000000</td>\n      <td>0.000000</td>\n      <td>0.000000</td>\n      <td>-80.000000</td>\n    </tr>\n    <tr>\n      <th>25%</th>\n      <td>2015.000000</td>\n      <td>1.000000</td>\n      <td>1.0</td>\n      <td>2.000000</td>\n      <td>2.000000</td>\n      <td>2.000000</td>\n      <td>2.000000</td>\n      <td>3.000000</td>\n      <td>0.000000</td>\n      <td>0.000000</td>\n      <td>0.000000</td>\n      <td>2.000000</td>\n      <td>1.500000</td>\n      <td>0.000000</td>\n      <td>0.000000</td>\n      <td>0.000000</td>\n      <td>0.000000</td>\n    </tr>\n    <tr>\n      <th>50%</th>\n      <td>2016.000000</td>\n      <td>2.000000</td>\n      <td>1.0</td>\n      <td>2.000000</td>\n      <td>2.000000</td>\n      <td>2.000000</td>\n      <td>2.000000</td>\n      <td>3.000000</td>\n      <td>0.000000</td>\n      <td>0.000000</td>\n      <td>0.000000</td>\n      <td>2.000000</td>\n      <td>2.500000</td>\n      <td>0.000000</td>\n      <td>0.000000</td>\n      <td>0.000000</td>\n      <td>0.000000</td>\n    </tr>\n    <tr>\n      <th>75%</th>\n      <td>2017.000000</td>\n      <td>4.000000</td>\n      <td>1.0</td>\n      <td>2.000000</td>\n      <td>2.000000</td>\n      <td>2.000000</td>\n      <td>2.000000</td>\n      <td>3.000000</td>\n      <td>1.000000</td>\n      <td>1.000000</td>\n      <td>0.000000</td>\n      <td>5.000000</td>\n      <td>5.000000</td>\n      <td>0.000000</td>\n      <td>1.000000</td>\n      <td>1.000000</td>\n      <td>0.000000</td>\n    </tr>\n    <tr>\n      <th>max</th>\n      <td>2018.000000</td>\n      <td>8.000000</td>\n      <td>1.0</td>\n      <td>2.000000</td>\n      <td>2.000000</td>\n      <td>2.000000</td>\n      <td>2.000000</td>\n      <td>3.000000</td>\n      <td>382.000000</td>\n      <td>309.500000</td>\n      <td>177.000000</td>\n      <td>2587.000000</td>\n      <td>8050.750000</td>\n      <td>607.000000</td>\n      <td>408.000000</td>\n      <td>177.000000</td>\n      <td>408.000000</td>\n    </tr>\n  </tbody>\n</table>\n</div>"
     },
     "metadata": {},
     "execution_count": 18
    }
   ],
   "source": [
    "clean_infos.describe()"
   ]
  },
  {
   "cell_type": "code",
   "execution_count": null,
   "metadata": {},
   "outputs": [],
   "source": []
  }
 ]
}