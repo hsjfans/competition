{
 "metadata": {
  "language_info": {
   "codemirror_mode": {
    "name": "ipython",
    "version": 3
   },
   "file_extension": ".py",
   "mimetype": "text/x-python",
   "name": "python",
   "nbconvert_exporter": "python",
   "pygments_lexer": "ipython3",
   "version": "3.7.9-final"
  },
  "orig_nbformat": 2,
  "kernelspec": {
   "name": "python3",
   "display_name": "Python 3"
  }
 },
 "nbformat": 4,
 "nbformat_minor": 2,
 "cells": [
  {
   "cell_type": "code",
   "execution_count": 21,
   "metadata": {},
   "outputs": [],
   "source": [
    "import pandas as pd\n",
    "from tqdm import tqdm\n",
    "\n",
    "news_info = pd.read_csv('../data/train/news_info.csv')"
   ]
  },
  {
   "cell_type": "code",
   "execution_count": 22,
   "metadata": {},
   "outputs": [],
   "source": [
    "count, shape = news_info.shape"
   ]
  },
  {
   "cell_type": "code",
   "execution_count": 23,
   "metadata": {},
   "outputs": [
    {
     "output_type": "execute_result",
     "data": {
      "text/plain": [
       "id                   927\n",
       "positive_negtive       3\n",
       "public_date         2719\n",
       "dtype: int64"
      ]
     },
     "metadata": {},
     "execution_count": 23
    }
   ],
   "source": [
    "news_info.nunique()"
   ]
  },
  {
   "cell_type": "code",
   "execution_count": 24,
   "metadata": {},
   "outputs": [
    {
     "output_type": "execute_result",
     "data": {
      "text/plain": [
       "id                  0\n",
       "positive_negtive    0\n",
       "public_date         0\n",
       "dtype: int64"
      ]
     },
     "metadata": {},
     "execution_count": 24
    }
   ],
   "source": [
    "news_info.isna().sum()"
   ]
  },
  {
   "source": [
    "id:企业唯一标识, positive_negtive:新闻正负面性, public_date:发布日期"
   ],
   "cell_type": "markdown",
   "metadata": {}
  },
  {
   "cell_type": "code",
   "execution_count": 25,
   "metadata": {},
   "outputs": [
    {
     "output_type": "stream",
     "name": "stderr",
     "text": [
      "100%|██████████| 927/927 [00:00<00:00, 1346.72it/s]\n"
     ]
    }
   ],
   "source": [
    "groups = news_info.sort_values(by = 'public_date',ascending= False).groupby('id')\n",
    "# 最近的情感色彩，以及最多的情感色彩 和次数，缺失默认为-1\n",
    "code_map = {'中立':2,'消极':1,'积极':3}\n",
    "news_info_cleans = []\n",
    "for name, group in tqdm(groups):\n",
    "    news_info_clean = {'id':name}\n",
    "    news_info_clean['positive_negtive_mode'] = group['positive_negtive'].mode()\n",
    "    news_info_clean['positive_negtive_last'] = group['positive_negtive'].values[-1]\n",
    "    news_info_clean['positive_negtive_num'] = len(group)\n",
    "    news_info_cleans.append(news_info_clean)\n",
    "news_info_clean = pd.DataFrame(news_info_cleans)\n",
    "\n"
   ]
  },
  {
   "cell_type": "code",
   "execution_count": 26,
   "metadata": {},
   "outputs": [
    {
     "output_type": "stream",
     "name": "stdout",
     "text": [
      "<class 'pandas.core.frame.DataFrame'>\nRangeIndex: 927 entries, 0 to 926\nData columns (total 4 columns):\n #   Column                 Non-Null Count  Dtype \n---  ------                 --------------  ----- \n 0   id                     927 non-null    object\n 1   positive_negtive_mode  927 non-null    object\n 2   positive_negtive_last  927 non-null    object\n 3   positive_negtive_num   927 non-null    int64 \ndtypes: int64(1), object(3)\nmemory usage: 29.1+ KB\n"
     ]
    }
   ],
   "source": [
    "news_info_clean.info()"
   ]
  },
  {
   "cell_type": "code",
   "execution_count": 27,
   "metadata": {},
   "outputs": [],
   "source": [
    "news_info_clean.to_csv('./features/news_info_feature.csv',index = False)"
   ]
  }
 ]
}