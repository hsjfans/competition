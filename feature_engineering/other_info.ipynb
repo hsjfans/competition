{
 "metadata": {
  "language_info": {
   "codemirror_mode": {
    "name": "ipython",
    "version": 3
   },
   "file_extension": ".py",
   "mimetype": "text/x-python",
   "name": "python",
   "nbconvert_exporter": "python",
   "pygments_lexer": "ipython3",
   "version": "3.7.9-final"
  },
  "orig_nbformat": 2,
  "kernelspec": {
   "name": "python3",
   "display_name": "Python 3"
  }
 },
 "nbformat": 4,
 "nbformat_minor": 2,
 "cells": [
  {
   "source": [
    "id:企业唯一标识, legal_judgment_num:裁判文书数量, brand_num:注册商标数量, patent_num:专利数量"
   ],
   "cell_type": "markdown",
   "metadata": {}
  },
  {
   "cell_type": "code",
   "execution_count": 44,
   "metadata": {},
   "outputs": [],
   "source": [
    "import pandas as pd\n",
    "from tqdm import tqdm\n",
    "\n",
    "other_info = pd.read_csv('../data/train/other_info.csv')\n"
   ]
  },
  {
   "cell_type": "code",
   "execution_count": 45,
   "metadata": {},
   "outputs": [
    {
     "output_type": "execute_result",
     "data": {
      "text/plain": [
       "(id                    1888\n",
       " legal_judgment_num      93\n",
       " brand_num               82\n",
       " patent_num             114\n",
       " dtype: int64,\n",
       " 1890)"
      ]
     },
     "metadata": {},
     "execution_count": 45
    }
   ],
   "source": [
    "count, shape = other_info.shape\n",
    "other_info.nunique(),count"
   ]
  },
  {
   "cell_type": "code",
   "execution_count": 46,
   "metadata": {},
   "outputs": [
    {
     "output_type": "execute_result",
     "data": {
      "text/plain": [
       "id                       0\n",
       "legal_judgment_num     884\n",
       "brand_num              981\n",
       "patent_num            1494\n",
       "dtype: int64"
      ]
     },
     "metadata": {},
     "execution_count": 46
    }
   ],
   "source": [
    "other_info.isna().sum()"
   ]
  },
  {
   "cell_type": "code",
   "execution_count": 47,
   "metadata": {},
   "outputs": [],
   "source": [
    "other_info_clean=other_info.dropna(thresh= count*0.5,how='all',axis=1)\n",
    "# 有无裁决书，别的丢掉"
   ]
  },
  {
   "cell_type": "code",
   "execution_count": 48,
   "metadata": {},
   "outputs": [
    {
     "output_type": "stream",
     "name": "stderr",
     "text": [
      "100%|██████████| 1888/1888 [00:01<00:00, 1716.00it/s]\n"
     ]
    }
   ],
   "source": [
    "groups = other_info_clean.groupby('id')\n",
    "other_info_cleans = []\n",
    "for name, group in tqdm(groups):\n",
    "    other_info_clean = {'id':name}\n",
    "    other_info_clean['legal_judgment_num'] = group['legal_judgment_num'].sum()\n",
    "    other_info_clean['has_legal_judgment'] = int(len(group['legal_judgment_num'].dropna()) > 0)\n",
    "    other_info_cleans.append(other_info_clean)\n",
    "other_info_clean = pd.DataFrame(other_info_cleans)\n"
   ]
  },
  {
   "cell_type": "code",
   "execution_count": 49,
   "metadata": {},
   "outputs": [
    {
     "output_type": "stream",
     "name": "stdout",
     "text": [
      "<class 'pandas.core.frame.DataFrame'>\nRangeIndex: 1888 entries, 0 to 1887\nData columns (total 3 columns):\n #   Column              Non-Null Count  Dtype  \n---  ------              --------------  -----  \n 0   id                  1888 non-null   object \n 1   legal_judgment_num  1888 non-null   float64\n 2   has_legal_judgment  1888 non-null   int64  \ndtypes: float64(1), int64(1), object(1)\nmemory usage: 44.4+ KB\n"
     ]
    }
   ],
   "source": [
    "other_info_clean.info()"
   ]
  },
  {
   "cell_type": "code",
   "execution_count": 50,
   "metadata": {},
   "outputs": [],
   "source": [
    "other_info_clean.to_csv('./features/other_info_feature.csv',index = False)"
   ]
  }
 ]
}