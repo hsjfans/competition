{
 "metadata": {
  "language_info": {
   "codemirror_mode": {
    "name": "ipython",
    "version": 3
   },
   "file_extension": ".py",
   "mimetype": "text/x-python",
   "name": "python",
   "nbconvert_exporter": "python",
   "pygments_lexer": "ipython3",
   "version": "3.7.9-final"
  },
  "orig_nbformat": 2,
  "kernelspec": {
   "name": "python3",
   "display_name": "Python 3"
  }
 },
 "nbformat": 4,
 "nbformat_minor": 2,
 "cells": [
  {
   "cell_type": "code",
   "execution_count": 6,
   "metadata": {},
   "outputs": [],
   "source": [
    "import pandas as pd\n",
    "from tqdm import tqdm\n",
    "import os"
   ]
  },
  {
   "cell_type": "code",
   "execution_count": 7,
   "metadata": {},
   "outputs": [
    {
     "output_type": "execute_result",
     "data": {
      "text/plain": [
       "['other_info_feature.csv',\n",
       " 'tax_info_feature.csv',\n",
       " 'annual_report_info_feature.csv',\n",
       " 'change_info_feature.csv',\n",
       " 'news_info_feature.csv',\n",
       " 'base_info_feature.csv']"
      ]
     },
     "metadata": {},
     "execution_count": 7
    }
   ],
   "source": [
    "files = os.listdir('./features/')\n",
    "files"
   ]
  },
  {
   "cell_type": "code",
   "execution_count": 8,
   "metadata": {},
   "outputs": [
    {
     "output_type": "stream",
     "name": "stderr",
     "text": [
      "100%|██████████| 6/6 [00:00<00:00, 19.78it/s]\n"
     ]
    }
   ],
   "source": [
    "features = pd.read_csv('./features/base_info_feature.csv')\n",
    "for file in tqdm(files):\n",
    "    if file != 'base_info_feature.csv':\n",
    "        another_feature = pd.read_csv(f'./features/{file}')\n",
    "        features = pd.merge(features, another_feature, on='id',how = 'left')"
   ]
  },
  {
   "cell_type": "code",
   "execution_count": 9,
   "metadata": {},
   "outputs": [
    {
     "output_type": "execute_result",
     "data": {
      "text/plain": [
       "Index(['id', 'oplocdistrict', 'industryphy', 'industryco', 'enttype',\n",
       "       'enttypeitem', 'state', 'orgid', 'jobid', 'adbusign', 'townsign',\n",
       "       'regtype', 'empnum', 'compform', 'opform', 'venind', 'oploc', 'regcap',\n",
       "       'enttypegb', 'nan_num', 'opfrom_year', 'opto_year',\n",
       "       'industryphy_industryco', 'enttypegb_enttypeitem',\n",
       "       'industryphy_enttypegb', 'industryphy_enttypeitem',\n",
       "       'industryco_enttypeitem', 'industryco_enttypegb', 'nan_num_bin',\n",
       "       'regcap_bin', 'empnum_bin', 'legal_judgment_num', 'has_legal_judgment',\n",
       "       'TAX_NUM', 'HAS_TAX', 'TAX_AMOUNT_MEAN', 'ANCHEYEAR', 'REPORT_NUM',\n",
       "       'HAS_REPORT', 'STATE', 'EMPNUMSIGN', 'BUSSTNAME', 'FORINVESTSIGN',\n",
       "       'WEBSITSIGN', 'PUBSTATE', 'COLGRANUM', 'COLGRANUM_MEAN',\n",
       "       'COLGRANUM_ADD', 'COLEMPLNUM', 'COLEMPLNUM_MEAN', 'COLEMPLNUM_ADD',\n",
       "       'EMPNUM', 'EMPNUM_MEAN', 'EMPNUM_ADD', 'CHANGE_NUM', 'HAS_CHANGE',\n",
       "       'positive_negtive_mode', 'positive_negtive_last',\n",
       "       'positive_negtive_num'],\n",
       "      dtype='object')"
      ]
     },
     "metadata": {},
     "execution_count": 9
    }
   ],
   "source": [
    "features.columns"
   ]
  },
  {
   "cell_type": "code",
   "execution_count": 10,
   "metadata": {},
   "outputs": [],
   "source": [
    "cols = ['positive_negtive_mode','positive_negtive_last']\n",
    "features[cols] = features[cols].fillna(0)"
   ]
  },
  {
   "cell_type": "code",
   "execution_count": 11,
   "metadata": {},
   "outputs": [],
   "source": [
    "features = features.fillna(-1)"
   ]
  },
  {
   "cell_type": "code",
   "execution_count": 12,
   "metadata": {},
   "outputs": [],
   "source": [
    "features['new_empnum'] = (features['empnum'] + features['EMPNUM'] + 1)/2.0"
   ]
  },
  {
   "cell_type": "code",
   "execution_count": 13,
   "metadata": {},
   "outputs": [
    {
     "output_type": "stream",
     "name": "stderr",
     "text": [
      "100%|██████████| 12/12 [00:00<00:00, 298.89it/s]\n"
     ]
    }
   ],
   "source": [
    "# 类别编码\n",
    "cat_cols = ['STATE','EMPNUMSIGN','BUSSTNAME','FORINVESTSIGN','WEBSITSIGN','FORINVESTSIGN','PUBSTATE','HAS_TAX','HAS_REPORT','positive_negtive_mode','positive_negtive_last','HAS_CHANGE']\n",
    "# 类别编码\n",
    "for cat_col in tqdm(cat_cols):\n",
    "    features[cat_col] = features[cat_col].astype('category').cat.codes"
   ]
  },
  {
   "cell_type": "code",
   "execution_count": 14,
   "metadata": {},
   "outputs": [
    {
     "output_type": "stream",
     "name": "stdout",
     "text": [
      "<class 'pandas.core.frame.DataFrame'>\nInt64Index: 24865 entries, 0 to 24864\nData columns (total 60 columns):\n #   Column                   Non-Null Count  Dtype  \n---  ------                   --------------  -----  \n 0   id                       24865 non-null  object \n 1   oplocdistrict            24865 non-null  int64  \n 2   industryphy              24865 non-null  int64  \n 3   industryco               24865 non-null  int64  \n 4   enttype                  24865 non-null  int64  \n 5   enttypeitem              24865 non-null  int64  \n 6   state                    24865 non-null  int64  \n 7   orgid                    24865 non-null  int64  \n 8   jobid                    24865 non-null  int64  \n 9   adbusign                 24865 non-null  int64  \n 10  townsign                 24865 non-null  int64  \n 11  regtype                  24865 non-null  int64  \n 12  empnum                   24865 non-null  float64\n 13  compform                 24865 non-null  int64  \n 14  opform                   24865 non-null  int64  \n 15  venind                   24865 non-null  int64  \n 16  oploc                    24865 non-null  int64  \n 17  regcap                   24865 non-null  float64\n 18  enttypegb                24865 non-null  int64  \n 19  nan_num                  24865 non-null  int64  \n 20  opfrom_year              24865 non-null  int64  \n 21  opto_year                24865 non-null  float64\n 22  industryphy_industryco   24865 non-null  int64  \n 23  enttypegb_enttypeitem    24865 non-null  int64  \n 24  industryphy_enttypegb    24865 non-null  int64  \n 25  industryphy_enttypeitem  24865 non-null  int64  \n 26  industryco_enttypeitem   24865 non-null  int64  \n 27  industryco_enttypegb     24865 non-null  int64  \n 28  nan_num_bin              24865 non-null  int64  \n 29  regcap_bin               24865 non-null  int64  \n 30  empnum_bin               24865 non-null  int64  \n 31  legal_judgment_num       24865 non-null  float64\n 32  has_legal_judgment       24865 non-null  float64\n 33  TAX_NUM                  24865 non-null  float64\n 34  HAS_TAX                  24865 non-null  int8   \n 35  TAX_AMOUNT_MEAN          24865 non-null  float64\n 36  ANCHEYEAR                24865 non-null  float64\n 37  REPORT_NUM               24865 non-null  float64\n 38  HAS_REPORT               24865 non-null  int8   \n 39  STATE                    24865 non-null  int8   \n 40  EMPNUMSIGN               24865 non-null  int8   \n 41  BUSSTNAME                24865 non-null  int8   \n 42  FORINVESTSIGN            24865 non-null  int8   \n 43  WEBSITSIGN               24865 non-null  int8   \n 44  PUBSTATE                 24865 non-null  int8   \n 45  COLGRANUM                24865 non-null  float64\n 46  COLGRANUM_MEAN           24865 non-null  float64\n 47  COLGRANUM_ADD            24865 non-null  float64\n 48  COLEMPLNUM               24865 non-null  float64\n 49  COLEMPLNUM_MEAN          24865 non-null  float64\n 50  COLEMPLNUM_ADD           24865 non-null  float64\n 51  EMPNUM                   24865 non-null  float64\n 52  EMPNUM_MEAN              24865 non-null  float64\n 53  EMPNUM_ADD               24865 non-null  float64\n 54  CHANGE_NUM               24865 non-null  float64\n 55  HAS_CHANGE               24865 non-null  int8   \n 56  positive_negtive_mode    24865 non-null  int8   \n 57  positive_negtive_last    24865 non-null  int8   \n 58  positive_negtive_num     24865 non-null  float64\n 59  new_empnum               24865 non-null  float64\ndtypes: float64(21), int64(27), int8(11), object(1)\nmemory usage: 9.7+ MB\n"
     ]
    }
   ],
   "source": [
    "features.info()"
   ]
  },
  {
   "cell_type": "code",
   "execution_count": 15,
   "metadata": {},
   "outputs": [],
   "source": [
    "features.to_csv('../features/feature.csv',index=False)"
   ]
  }
 ]
}