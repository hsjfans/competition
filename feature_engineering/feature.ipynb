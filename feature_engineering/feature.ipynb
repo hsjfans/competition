{
 "metadata": {
  "language_info": {
   "codemirror_mode": {
    "name": "ipython",
    "version": 3
   },
   "file_extension": ".py",
   "mimetype": "text/x-python",
   "name": "python",
   "nbconvert_exporter": "python",
   "pygments_lexer": "ipython3",
   "version": "3.7.9-final"
  },
  "orig_nbformat": 2,
  "kernelspec": {
   "name": "python3",
   "display_name": "Python 3"
  }
 },
 "nbformat": 4,
 "nbformat_minor": 2,
 "cells": [
  {
   "cell_type": "code",
   "execution_count": 27,
   "metadata": {},
   "outputs": [],
   "source": [
    "import pandas as pd\n",
    "base_info_feature = pd.read_csv('./base_info_feature.csv')\n",
    "tax_info_feature = pd.read_csv('./tax_info_feature.csv')\n",
    "annual_report_info_feature = pd.read_csv('./annual_report_info_feature.csv')"
   ]
  },
  {
   "cell_type": "code",
   "execution_count": 28,
   "metadata": {},
   "outputs": [],
   "source": [
    "\n",
    "features = pd.merge(base_info_feature, tax_info_feature, how='left',on = 'id')\n",
    "features = pd.merge(features, annual_report_info_feature, on='id',how = 'left')"
   ]
  },
  {
   "cell_type": "code",
   "execution_count": 29,
   "metadata": {},
   "outputs": [
    {
     "output_type": "execute_result",
     "data": {
      "text/plain": [
       "                                                 id  oplocdistrict  \\\n",
       "0  82750f1b9d1223507d25fecaca05aec1cfdf7ceb97a535f1              1   \n",
       "1  f000950527a6feb6a005c09bbd2e2696880df8cd9b350ae2              1   \n",
       "2  f000950527a6feb6ff31ae2cda4757703f52e853bb38b67e              1   \n",
       "3  47645761dc56bb8cabcff709f67c168821d276310d6e5210             10   \n",
       "4  516ab81418ed215dcd9df1915f3a2ae8098e3589b042ee45             12   \n",
       "\n",
       "   industryphy  industryco  enttype  enttypeitem  state  orgid  jobid  \\\n",
       "0           14         244        0            2      1     40    156   \n",
       "1           14         246        0            2      1     30    137   \n",
       "2           17         318        0            2      2     32    201   \n",
       "3           10         138        0            5      1     62    124   \n",
       "4           17         329        9           18      1     70    280   \n",
       "\n",
       "   adbusign  ...  DISPERNUM    UNENUM  COLEMPLNUM  RETEMPLNUM  DISEMPLNUM  \\\n",
       "0         0  ...   0.000000  0.000000         0.0         0.0    0.000000   \n",
       "1         0  ...   0.000000  1.500000         3.0         0.0    0.000000   \n",
       "2         0  ...        NaN       NaN         NaN         NaN         NaN   \n",
       "3         0  ...        NaN       NaN         NaN         NaN         NaN   \n",
       "4         0  ...   0.333333  0.333333         0.0         0.0    0.333333   \n",
       "\n",
       "   UNEEMPLNUM  WEBSITSIGN  FORINVESTSIGN  STOCKTRANSIGN  PUBSTATE  \n",
       "0    0.000000         2.0            2.0            2.0  3.000000  \n",
       "1    1.500000         2.0            2.0            2.0  2.750000  \n",
       "2         NaN         NaN            NaN            NaN       NaN  \n",
       "3         NaN         NaN            NaN            NaN       NaN  \n",
       "4    0.666667         2.0            2.0           -1.0  2.333333  \n",
       "\n",
       "[5 rows x 48 columns]"
      ],
      "text/html": "<div>\n<style scoped>\n    .dataframe tbody tr th:only-of-type {\n        vertical-align: middle;\n    }\n\n    .dataframe tbody tr th {\n        vertical-align: top;\n    }\n\n    .dataframe thead th {\n        text-align: right;\n    }\n</style>\n<table border=\"1\" class=\"dataframe\">\n  <thead>\n    <tr style=\"text-align: right;\">\n      <th></th>\n      <th>id</th>\n      <th>oplocdistrict</th>\n      <th>industryphy</th>\n      <th>industryco</th>\n      <th>enttype</th>\n      <th>enttypeitem</th>\n      <th>state</th>\n      <th>orgid</th>\n      <th>jobid</th>\n      <th>adbusign</th>\n      <th>...</th>\n      <th>DISPERNUM</th>\n      <th>UNENUM</th>\n      <th>COLEMPLNUM</th>\n      <th>RETEMPLNUM</th>\n      <th>DISEMPLNUM</th>\n      <th>UNEEMPLNUM</th>\n      <th>WEBSITSIGN</th>\n      <th>FORINVESTSIGN</th>\n      <th>STOCKTRANSIGN</th>\n      <th>PUBSTATE</th>\n    </tr>\n  </thead>\n  <tbody>\n    <tr>\n      <th>0</th>\n      <td>82750f1b9d1223507d25fecaca05aec1cfdf7ceb97a535f1</td>\n      <td>1</td>\n      <td>14</td>\n      <td>244</td>\n      <td>0</td>\n      <td>2</td>\n      <td>1</td>\n      <td>40</td>\n      <td>156</td>\n      <td>0</td>\n      <td>...</td>\n      <td>0.000000</td>\n      <td>0.000000</td>\n      <td>0.0</td>\n      <td>0.0</td>\n      <td>0.000000</td>\n      <td>0.000000</td>\n      <td>2.0</td>\n      <td>2.0</td>\n      <td>2.0</td>\n      <td>3.000000</td>\n    </tr>\n    <tr>\n      <th>1</th>\n      <td>f000950527a6feb6a005c09bbd2e2696880df8cd9b350ae2</td>\n      <td>1</td>\n      <td>14</td>\n      <td>246</td>\n      <td>0</td>\n      <td>2</td>\n      <td>1</td>\n      <td>30</td>\n      <td>137</td>\n      <td>0</td>\n      <td>...</td>\n      <td>0.000000</td>\n      <td>1.500000</td>\n      <td>3.0</td>\n      <td>0.0</td>\n      <td>0.000000</td>\n      <td>1.500000</td>\n      <td>2.0</td>\n      <td>2.0</td>\n      <td>2.0</td>\n      <td>2.750000</td>\n    </tr>\n    <tr>\n      <th>2</th>\n      <td>f000950527a6feb6ff31ae2cda4757703f52e853bb38b67e</td>\n      <td>1</td>\n      <td>17</td>\n      <td>318</td>\n      <td>0</td>\n      <td>2</td>\n      <td>2</td>\n      <td>32</td>\n      <td>201</td>\n      <td>0</td>\n      <td>...</td>\n      <td>NaN</td>\n      <td>NaN</td>\n      <td>NaN</td>\n      <td>NaN</td>\n      <td>NaN</td>\n      <td>NaN</td>\n      <td>NaN</td>\n      <td>NaN</td>\n      <td>NaN</td>\n      <td>NaN</td>\n    </tr>\n    <tr>\n      <th>3</th>\n      <td>47645761dc56bb8cabcff709f67c168821d276310d6e5210</td>\n      <td>10</td>\n      <td>10</td>\n      <td>138</td>\n      <td>0</td>\n      <td>5</td>\n      <td>1</td>\n      <td>62</td>\n      <td>124</td>\n      <td>0</td>\n      <td>...</td>\n      <td>NaN</td>\n      <td>NaN</td>\n      <td>NaN</td>\n      <td>NaN</td>\n      <td>NaN</td>\n      <td>NaN</td>\n      <td>NaN</td>\n      <td>NaN</td>\n      <td>NaN</td>\n      <td>NaN</td>\n    </tr>\n    <tr>\n      <th>4</th>\n      <td>516ab81418ed215dcd9df1915f3a2ae8098e3589b042ee45</td>\n      <td>12</td>\n      <td>17</td>\n      <td>329</td>\n      <td>9</td>\n      <td>18</td>\n      <td>1</td>\n      <td>70</td>\n      <td>280</td>\n      <td>0</td>\n      <td>...</td>\n      <td>0.333333</td>\n      <td>0.333333</td>\n      <td>0.0</td>\n      <td>0.0</td>\n      <td>0.333333</td>\n      <td>0.666667</td>\n      <td>2.0</td>\n      <td>2.0</td>\n      <td>-1.0</td>\n      <td>2.333333</td>\n    </tr>\n  </tbody>\n</table>\n<p>5 rows × 48 columns</p>\n</div>"
     },
     "metadata": {},
     "execution_count": 29
    }
   ],
   "source": [
    "features.head()"
   ]
  },
  {
   "cell_type": "code",
   "execution_count": 30,
   "metadata": {},
   "outputs": [],
   "source": [
    "features = features.fillna(-1)"
   ]
  },
  {
   "cell_type": "code",
   "execution_count": 31,
   "metadata": {},
   "outputs": [],
   "source": [
    "features['new_empnum'] = (features['empnum'] + features['EMPNUM'] + 1)/2.0"
   ]
  },
  {
   "cell_type": "code",
   "execution_count": 32,
   "metadata": {},
   "outputs": [
    {
     "output_type": "execute_result",
     "data": {
      "text/plain": [
       "                                                     id  new_empnum  empnum  \\\n",
       "0      82750f1b9d1223507d25fecaca05aec1cfdf7ceb97a535f1    4.250000     0.0   \n",
       "1      f000950527a6feb6a005c09bbd2e2696880df8cd9b350ae2    3.500000     0.0   \n",
       "2      f000950527a6feb6ff31ae2cda4757703f52e853bb38b67e    0.000000     0.0   \n",
       "3      47645761dc56bb8cabcff709f67c168821d276310d6e5210    0.000000     0.0   \n",
       "4      516ab81418ed215dcd9df1915f3a2ae8098e3589b042ee45    1.666667     0.0   \n",
       "...                                                 ...         ...     ...   \n",
       "24860  516ab81418ed215d5d6b7b02009bb27cc8da3cab054a4b03  109.000000   218.0   \n",
       "24861  216bd2aaf4d079240f5823e63d24b44dd2c58e3281b822f6  150.000000   300.0   \n",
       "24862  f000950527a6feb6b250e7a7e8e22b3f3f49e0bc2490f65e  250.000000   500.0   \n",
       "24863  d8071a739aa75a3b2a330c539bb486942c324646f0d9a240  500.000000  1000.0   \n",
       "24864  516ab81418ed215d95b014a15fb833d0535525bdd059f2f1  752.000000  1500.0   \n",
       "\n",
       "         EMPNUM  \n",
       "0      7.500000  \n",
       "1      6.000000  \n",
       "2     -1.000000  \n",
       "3     -1.000000  \n",
       "4      2.333333  \n",
       "...         ...  \n",
       "24860 -1.000000  \n",
       "24861 -1.000000  \n",
       "24862 -1.000000  \n",
       "24863 -1.000000  \n",
       "24864  3.000000  \n",
       "\n",
       "[24865 rows x 4 columns]"
      ],
      "text/html": "<div>\n<style scoped>\n    .dataframe tbody tr th:only-of-type {\n        vertical-align: middle;\n    }\n\n    .dataframe tbody tr th {\n        vertical-align: top;\n    }\n\n    .dataframe thead th {\n        text-align: right;\n    }\n</style>\n<table border=\"1\" class=\"dataframe\">\n  <thead>\n    <tr style=\"text-align: right;\">\n      <th></th>\n      <th>id</th>\n      <th>new_empnum</th>\n      <th>empnum</th>\n      <th>EMPNUM</th>\n    </tr>\n  </thead>\n  <tbody>\n    <tr>\n      <th>0</th>\n      <td>82750f1b9d1223507d25fecaca05aec1cfdf7ceb97a535f1</td>\n      <td>4.250000</td>\n      <td>0.0</td>\n      <td>7.500000</td>\n    </tr>\n    <tr>\n      <th>1</th>\n      <td>f000950527a6feb6a005c09bbd2e2696880df8cd9b350ae2</td>\n      <td>3.500000</td>\n      <td>0.0</td>\n      <td>6.000000</td>\n    </tr>\n    <tr>\n      <th>2</th>\n      <td>f000950527a6feb6ff31ae2cda4757703f52e853bb38b67e</td>\n      <td>0.000000</td>\n      <td>0.0</td>\n      <td>-1.000000</td>\n    </tr>\n    <tr>\n      <th>3</th>\n      <td>47645761dc56bb8cabcff709f67c168821d276310d6e5210</td>\n      <td>0.000000</td>\n      <td>0.0</td>\n      <td>-1.000000</td>\n    </tr>\n    <tr>\n      <th>4</th>\n      <td>516ab81418ed215dcd9df1915f3a2ae8098e3589b042ee45</td>\n      <td>1.666667</td>\n      <td>0.0</td>\n      <td>2.333333</td>\n    </tr>\n    <tr>\n      <th>...</th>\n      <td>...</td>\n      <td>...</td>\n      <td>...</td>\n      <td>...</td>\n    </tr>\n    <tr>\n      <th>24860</th>\n      <td>516ab81418ed215d5d6b7b02009bb27cc8da3cab054a4b03</td>\n      <td>109.000000</td>\n      <td>218.0</td>\n      <td>-1.000000</td>\n    </tr>\n    <tr>\n      <th>24861</th>\n      <td>216bd2aaf4d079240f5823e63d24b44dd2c58e3281b822f6</td>\n      <td>150.000000</td>\n      <td>300.0</td>\n      <td>-1.000000</td>\n    </tr>\n    <tr>\n      <th>24862</th>\n      <td>f000950527a6feb6b250e7a7e8e22b3f3f49e0bc2490f65e</td>\n      <td>250.000000</td>\n      <td>500.0</td>\n      <td>-1.000000</td>\n    </tr>\n    <tr>\n      <th>24863</th>\n      <td>d8071a739aa75a3b2a330c539bb486942c324646f0d9a240</td>\n      <td>500.000000</td>\n      <td>1000.0</td>\n      <td>-1.000000</td>\n    </tr>\n    <tr>\n      <th>24864</th>\n      <td>516ab81418ed215d95b014a15fb833d0535525bdd059f2f1</td>\n      <td>752.000000</td>\n      <td>1500.0</td>\n      <td>3.000000</td>\n    </tr>\n  </tbody>\n</table>\n<p>24865 rows × 4 columns</p>\n</div>"
     },
     "metadata": {},
     "execution_count": 32
    }
   ],
   "source": [
    "features[['id','new_empnum','empnum','EMPNUM']]"
   ]
  },
  {
   "cell_type": "code",
   "execution_count": 33,
   "metadata": {},
   "outputs": [],
   "source": [
    "features.to_csv('../feature.csv',index=False)"
   ]
  }
 ]
}