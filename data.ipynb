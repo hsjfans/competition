{
 "metadata": {
  "language_info": {
   "codemirror_mode": {
    "name": "ipython",
    "version": 3
   },
   "file_extension": ".py",
   "mimetype": "text/x-python",
   "name": "python",
   "nbconvert_exporter": "python",
   "pygments_lexer": "ipython3",
   "version": "3.8.5-final"
  },
  "orig_nbformat": 2,
  "kernelspec": {
   "name": "python3",
   "display_name": "Python 3"
  }
 },
 "nbformat": 4,
 "nbformat_minor": 2,
 "cells": [
  {
   "cell_type": "code",
   "execution_count": 5,
   "metadata": {},
   "outputs": [],
   "source": [
    "import pandas as pd\n",
    "\n",
    "\n",
    "base_info = pd.read_csv('./data/train/base_info.csv')\n",
    "entprise_info = pd.read_csv('./data/train/entprise_info.csv')"
   ]
  },
  {
   "cell_type": "code",
   "execution_count": 6,
   "metadata": {},
   "outputs": [
    {
     "output_type": "stream",
     "name": "stdout",
     "text": [
      "<class 'pandas.core.frame.DataFrame'>\nInt64Index: 24865 entries, 0 to 24864\nData columns (total 34 columns):\n #   Column         Non-Null Count  Dtype  \n---  ------         --------------  -----  \n 0   id             24865 non-null  object \n 1   oplocdistrict  24865 non-null  int64  \n 2   industryphy    24865 non-null  object \n 3   industryco     24864 non-null  float64\n 4   dom            24865 non-null  object \n 5   opscope        24865 non-null  object \n 6   enttype        24865 non-null  int64  \n 7   enttypeitem    16651 non-null  float64\n 8   opfrom         24865 non-null  object \n 9   opto           8825 non-null   object \n 10  state          24865 non-null  int64  \n 11  orgid          24865 non-null  int64  \n 12  jobid          24865 non-null  int64  \n 13  adbusign       24865 non-null  int64  \n 14  townsign       24865 non-null  int64  \n 15  regtype        24865 non-null  int64  \n 16  empnum         19615 non-null  float64\n 17  compform       10631 non-null  float64\n 18  parnum         2339 non-null   float64\n 19  exenum         1378 non-null   float64\n 20  opform         9000 non-null   object \n 21  ptbusscope     0 non-null      float64\n 22  venind         8437 non-null   float64\n 23  enttypeminu    7270 non-null   float64\n 24  midpreindcode  0 non-null      float64\n 25  protype        34 non-null     float64\n 26  oploc          24865 non-null  object \n 27  regcap         24674 non-null  float64\n 28  reccap         7084 non-null   float64\n 29  forreccap      227 non-null    float64\n 30  forregcap      250 non-null    float64\n 31  congro         249 non-null    float64\n 32  enttypegb      24865 non-null  int64  \n 33  label          14865 non-null  float64\ndtypes: float64(17), int64(9), object(8)\nmemory usage: 6.6+ MB\n"
     ]
    }
   ],
   "source": [
    "\n",
    "data = pd.merge(base_info,entprise_info,how='left',on='id')\n",
    "data.info()\n"
   ]
  },
  {
   "cell_type": "code",
   "execution_count": 9,
   "metadata": {},
   "outputs": [
    {
     "output_type": "execute_result",
     "data": {
      "text/plain": [
       "(10000, 34)"
      ]
     },
     "metadata": {},
     "execution_count": 9
    }
   ],
   "source": [
    "\n",
    "train = data[data['label'] >= 0 ]\n",
    "test =  data[data['label'].isnull() ]"
   ]
  },
  {
   "cell_type": "code",
   "execution_count": 11,
   "metadata": {},
   "outputs": [
    {
     "output_type": "stream",
     "name": "stdout",
     "text": [
      "14.15290519877676\n"
     ]
    }
   ],
   "source": [
    "# 14:1 标签\n",
    "positive, nagivate = train[train['label'] == 0],train[train['label'] == 1]\n",
    "print(positive.shape[0]/nagivate.shape[0])"
   ]
  },
  {
   "cell_type": "code",
   "execution_count": null,
   "metadata": {},
   "outputs": [],
   "source": []
  },
  {
   "cell_type": "code",
   "execution_count": null,
   "metadata": {},
   "outputs": [],
   "source": [
    "plt."
   ]
  }
 ]
}