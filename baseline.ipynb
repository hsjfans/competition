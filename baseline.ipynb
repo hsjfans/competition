{
 "metadata": {
  "language_info": {
   "codemirror_mode": {
    "name": "ipython",
    "version": 3
   },
   "file_extension": ".py",
   "mimetype": "text/x-python",
   "name": "python",
   "nbconvert_exporter": "python",
   "pygments_lexer": "ipython3",
   "version": "3.8.5-final"
  },
  "orig_nbformat": 2,
  "kernelspec": {
   "name": "Python 3.8.5 64-bit ('ml': conda)",
   "display_name": "Python 3.8.5 64-bit ('ml': conda)",
   "metadata": {
    "interpreter": {
     "hash": "e82f859b8399c3abf6e00f01069d4bb1a6271257dfe07aefa7b12f65bca5e96d"
    }
   }
  }
 },
 "nbformat": 4,
 "nbformat_minor": 2,
 "cells": [
  {
   "cell_type": "code",
   "execution_count": 20,
   "metadata": {},
   "outputs": [],
   "source": [
    "import pandas as pd\n",
    "base_info = pd.read_csv('./data/train/base_info.csv')"
   ]
  },
  {
   "cell_type": "code",
   "execution_count": 24,
   "metadata": {},
   "outputs": [
    {
     "output_type": "execute_result",
     "data": {
      "text/plain": [
       "400000000000776817"
      ]
     },
     "metadata": {},
     "execution_count": 24
    }
   ],
   "source": [
    "base_info['orgid'].nunique()\n",
    "base_info['jobid'].max()"
   ]
  },
  {
   "cell_type": "code",
   "execution_count": 3,
   "metadata": {},
   "outputs": [
    {
     "output_type": "stream",
     "name": "stdout",
     "text": [
      "parnum 22526\nexenum 23487\nptbusscope 24865\nenttypeminu 17595\nmidpreindcode 24865\nprotype 24831\nreccap 17781\nforreccap 24638\nforregcap 24615\ncongro 24616\ndom 23278\nopscope 20815\n<class 'pandas.core.frame.DataFrame'>\nRangeIndex: 24865 entries, 0 to 24864\nData columns (total 21 columns):\n #   Column         Non-Null Count  Dtype  \n---  ------         --------------  -----  \n 0   id             24865 non-null  object \n 1   oplocdistrict  24865 non-null  int64  \n 2   industryphy    24865 non-null  object \n 3   industryco     24864 non-null  float64\n 4   enttype        24865 non-null  int64  \n 5   enttypeitem    16651 non-null  float64\n 6   opfrom         24865 non-null  object \n 7   opto           8825 non-null   object \n 8   state          24865 non-null  int64  \n 9   orgid          24865 non-null  int64  \n 10  jobid          24865 non-null  int64  \n 11  adbusign       24865 non-null  int64  \n 12  townsign       24865 non-null  int64  \n 13  regtype        24865 non-null  int64  \n 14  empnum         19615 non-null  float64\n 15  compform       10631 non-null  float64\n 16  opform         9000 non-null   object \n 17  venind         8437 non-null   float64\n 18  oploc          24865 non-null  object \n 19  regcap         24674 non-null  float64\n 20  enttypegb      24865 non-null  int64  \ndtypes: float64(6), int64(9), object(6)\nmemory usage: 4.0+ MB\nNone\n"
     ]
    }
   ],
   "source": [
    "nums, shapes = base_info.shape\n",
    "# 1. 删掉缺失值较多的特征\n",
    "for name, cout in base_info.isnull().sum().items():\n",
    "    if cout * 1.0 / nums >= 0.7:\n",
    "        print(name, cout)\n",
    "        del base_info[name]\n",
    "        \n",
    "# 删除类别不同较多的列\n",
    "for name, cout in base_info.nunique().items():\n",
    "    if (cout == 1 or cout * 1.0 / nums >= 0.8) and name != 'id':\n",
    "        print(name, cout)\n",
    "        del base_info[name]\n",
    "\n",
    "print(base_info.info())"
   ]
  },
  {
   "cell_type": "code",
   "execution_count": 4,
   "metadata": {},
   "outputs": [],
   "source": [
    "import numpy as np\n",
    "from sklearn.impute import KNNImputer\n",
    "\n",
    "def knn_fill_nan(X):\n",
    "    imputer = KNNImputer(n_neighbors=5, weights=\"uniform\")\n",
    "    return imputer.fit_transform(X)"
   ]
  },
  {
   "source": [
    "d:企业唯一标识, oplocdistrict:行政区划代码, industryphy:行业类别代码,  :行业细类代码, dom:经营地址, opscope:经营范围, enttype:企业类型, enttypeitem:企业类型小类, opfrom:经营期限起, opto:经营期限止, state:状态, orgid:机构标识, jobid:职位标识, adbusign:是否广告经营, townsign:是否城镇, regtype:主题登记类型, empnum:从业人数, compform:组织形式, parnum:合伙人数, exenum:执行人数, opform:经营方式, ptbusscope:兼营范围, venind:风险行业, enttypeminu:企业类型细类, midpreindcode:中西部优势产业代码, protype:项目类型, oploc:经营场所, regcap:注册资本（金）, reccap:实缴资本, forreccap:实缴资本（外方）, forregcap:注册资本（外方）, congro:投资总额, enttypegb:企业（机构）类型"
   ],
   "cell_type": "markdown",
   "metadata": {}
  },
  {
   "source": [
    "oplocdistrict industryphy industryphy enttype enttypeitem adbusign adbusign regtype compform enttypegb\n",
    "\n",
    "使用这些类别特征来对数值型特征进行缺失值处理"
   ],
   "cell_type": "markdown",
   "metadata": {}
  },
  {
   "cell_type": "code",
   "execution_count": 5,
   "metadata": {},
   "outputs": [],
   "source": [
    "category_cols = ['oplocdistrict', 'industryphy', 'industryphy', 'enttype', 'enttypeitem', 'adbusign', 'adbusign', 'regtype','compform' ,'enttypegb','opform']\n"
   ]
  },
  {
   "cell_type": "code",
   "execution_count": 6,
   "metadata": {},
   "outputs": [
    {
     "output_type": "stream",
     "name": "stdout",
     "text": [
      "1\n0\n"
     ]
    }
   ],
   "source": [
    "# 使用 industryphy 类别中数填充 industryco\n",
    "print(base_info['industryco'].isnull().sum())\n",
    "grouped = base_info[['industryco','industryphy']].groupby('industryphy')\n",
    "for name, group in grouped:\n",
    "    median = group.median()\n",
    "    base_info.loc[base_info['industryphy'] == name,'industryco'] = base_info[base_info['industryphy'] == name]['industryco'].fillna(median.values[0])\n",
    "print(base_info['industryco'].isnull().sum())\n"
   ]
  },
  {
   "cell_type": "code",
   "execution_count": 7,
   "metadata": {},
   "outputs": [
    {
     "output_type": "stream",
     "name": "stdout",
     "text": [
      "8214\n0\n"
     ]
    }
   ],
   "source": [
    "# 使用 enttype 类别填充 enttypeitem\n",
    "print(base_info['enttypeitem'].isnull().sum())\n",
    "grouped = base_info[['enttype','enttypeitem']].groupby('enttype')\n",
    "for name, group in grouped:\n",
    "    base_info.loc[base_info['enttype'] == name,'enttypeitem'] = base_info[base_info['enttype'] == name]['enttypeitem'].fillna(name)\n",
    "print(base_info['enttypeitem'].isnull().sum())"
   ]
  },
  {
   "cell_type": "code",
   "execution_count": 8,
   "metadata": {},
   "outputs": [
    {
     "output_type": "stream",
     "name": "stdout",
     "text": [
      "16428\nA venind   NaN\ndtype: float64\nB venind   NaN\ndtype: float64\nC venind    2.0\ndtype: float64\nD venind   NaN\ndtype: float64\nE venind    3.0\ndtype: float64\nF venind    3.0\ndtype: float64\nG venind    2.0\ndtype: float64\nH venind   NaN\ndtype: float64\nI venind   NaN\ndtype: float64\nJ venind   NaN\ndtype: float64\nK venind    3.0\ndtype: float64\nL venind    2.6875\ndtype: float64\nM venind    2.888889\ndtype: float64\nN venind    2.870968\ndtype: float64\nO venind    2.961476\ndtype: float64\nP venind    2.961905\ndtype: float64\nQ venind    2.834711\ndtype: float64\nR venind    2.827338\ndtype: float64\nS venind   NaN\ndtype: float64\nT venind   NaN\ndtype: float64\n16428\n"
     ]
    }
   ],
   "source": [
    "# 使用 enttype 类别填充 enttypeitem\n",
    "print(base_info['venind'].isnull().sum())\n",
    "grouped = base_info[['industryphy','venind']].groupby('industryphy')\n",
    "for name, group in grouped:\n",
    "    print(name,group.mean())\n",
    "print(base_info['venind'].isnull().sum())"
   ]
  },
  {
   "cell_type": "code",
   "execution_count": 9,
   "metadata": {},
   "outputs": [
    {
     "output_type": "stream",
     "name": "stdout",
     "text": [
      "oplocdistrict        0\nindustryphy          0\nindustryphy          0\nenttype              0\nenttypeitem          0\nadbusign             0\nadbusign             0\nregtype              0\ncompform         14234\nenttypegb            0\nopform           15865\ndtype: int64\noplocdistrict    16\nindustryphy      20\nindustryphy      20\nenttype          17\nenttypeitem      36\nadbusign          2\nadbusign          2\nregtype           3\ncompform          2\nenttypegb        53\nopform           33\ndtype: int64\n3\n"
     ]
    }
   ],
   "source": [
    "print(base_info[category_cols].isnull().sum())\n",
    "print(base_info[category_cols].nunique())\n",
    "print(base_info['venind'].nunique())"
   ]
  },
  {
   "cell_type": "code",
   "execution_count": 10,
   "metadata": {},
   "outputs": [],
   "source": [
    "# opform  compform 缺失值多 如何处理呢?\n",
    "base_info['opform'] = base_info['opform'].replace('01', '01-以个人财产出资').replace('02', '02-以家庭共有财产作为个人出资')\n",
    "# 暂时删掉试一下啊\n",
    "del base_info['opform']\n",
    "del base_info['compform']"
   ]
  },
  {
   "cell_type": "code",
   "execution_count": 11,
   "metadata": {},
   "outputs": [
    {
     "output_type": "stream",
     "name": "stdout",
     "text": [
      "oplocdistrict      int64\nindustryphy       object\nindustryphy       object\nenttype            int64\nenttypeitem      float64\nadbusign           int64\nadbusign           int64\nregtype            int64\nenttypegb          int64\ndtype: object\n"
     ]
    }
   ],
   "source": [
    "# 对数值类进行缺失处理, 采样聚类方法进行处理\n",
    "category_cols = ['oplocdistrict', 'industryphy', 'industryphy', 'enttype', 'enttypeitem', 'adbusign', 'adbusign', 'regtype','enttypegb']\n",
    "print(base_info[category_cols].dtypes)\n",
    "for col in category_cols:\n",
    "    # 对类别信息采取 one-hot 编码\n",
    "    category = pd.get_dummies(base_info[col],prefix=col,drop_first=True) \n",
    "    base_info[category.columns] = category"
   ]
  },
  {
   "cell_type": "code",
   "execution_count": 12,
   "metadata": {},
   "outputs": [
    {
     "output_type": "execute_result",
     "data": {
      "text/plain": [
       "id                 object\n",
       "oplocdistrict       int64\n",
       "industryphy        object\n",
       "industryco        float64\n",
       "enttype             int64\n",
       "                   ...   \n",
       "enttypegb_6150      uint8\n",
       "enttypegb_6180      uint8\n",
       "enttypegb_6810      uint8\n",
       "enttypegb_9100      uint8\n",
       "enttypegb_9600      uint8\n",
       "Length: 159, dtype: object"
      ]
     },
     "metadata": {},
     "execution_count": 12
    }
   ],
   "source": [
    "base_info.dtypes"
   ]
  },
  {
   "cell_type": "code",
   "execution_count": 13,
   "metadata": {},
   "outputs": [
    {
     "output_type": "stream",
     "name": "stdout",
     "text": [
      "id                 object\nindustryco        float64\nopfrom             object\nopto               object\nstate               int64\n                   ...   \nenttypegb_6150      uint8\nenttypegb_6180      uint8\nenttypegb_6810      uint8\nenttypegb_9100      uint8\nenttypegb_9600      uint8\nLength: 152, dtype: object\n"
     ]
    }
   ],
   "source": [
    "base_info.drop(category_cols,axis=1,inplace=True)\n",
    "print(base_info.dtypes)"
   ]
  },
  {
   "cell_type": "code",
   "execution_count": 14,
   "metadata": {},
   "outputs": [],
   "source": [
    "# 时间转换, 暂时先抽取年份特征\n",
    "\n",
    "base_info['opfrom'] = pd.to_datetime(base_info.opfrom)\n",
    "base_info['opfrom_year'] = base_info['opfrom'].dt.year.astype('int')\n",
    "\n",
    "base_info['opto'] = pd.to_datetime(base_info.opto)\n",
    "base_info['opto_year'] = base_info['opto'].dt.year.fillna(-1).astype('int')\n",
    "\n",
    "del base_info['opfrom']\n",
    "del base_info['opto']"
   ]
  },
  {
   "cell_type": "code",
   "execution_count": 15,
   "metadata": {},
   "outputs": [],
   "source": [
    "base_info.select_dtypes('object')\n",
    "del base_info['oploc']\n",
    "\n"
   ]
  },
  {
   "cell_type": "code",
   "execution_count": 16,
   "metadata": {},
   "outputs": [
    {
     "output_type": "execute_result",
     "data": {
      "text/plain": [
       "venind            16428\n",
       "empnum             5250\n",
       "regcap              191\n",
       "opto_year             0\n",
       "enttype_3200          0\n",
       "                  ...  \n",
       "enttypegb_1123        0\n",
       "enttypegb_1122        0\n",
       "enttypegb_1121        0\n",
       "regtype_4             0\n",
       "id                    0\n",
       "Length: 151, dtype: int64"
      ]
     },
     "metadata": {},
     "execution_count": 16
    }
   ],
   "source": [
    "base_info.isnull().sum().sort_values(ascending=False)"
   ]
  },
  {
   "cell_type": "code",
   "execution_count": 17,
   "metadata": {},
   "outputs": [
    {
     "output_type": "execute_result",
     "data": {
      "text/plain": [
       "         industryco         state         orgid         jobid      townsign  \\\n",
       "count  24865.000000  24865.000000  2.486500e+04  2.486500e+04  24865.000000   \n",
       "mean    7885.246169      6.164569  3.416682e+17  3.548101e+17      0.578444   \n",
       "std      667.038309      0.582226  1.107349e+16  3.052367e+16      0.493818   \n",
       "min        0.000000      4.000000  1.410800e+17  1.410800e+17      0.000000   \n",
       "25%     7512.000000      6.000000  3.402000e+17  3.402000e+17      0.000000   \n",
       "50%     8040.000000      6.000000  3.402020e+17  3.402000e+17      1.000000   \n",
       "75%     8199.000000      6.000000  3.402070e+17  4.000000e+17      1.000000   \n",
       "max     9700.000000     20.000000  4.000000e+17  4.000000e+17      1.000000   \n",
       "\n",
       "             empnum       venind        regcap  oplocdistrict_340200  \\\n",
       "count  19615.000000  8437.000000  2.467400e+04          24865.000000   \n",
       "mean       4.397961     2.946545  5.151437e+03              0.138428   \n",
       "std       15.389206     0.284933  6.777086e+04              0.345355   \n",
       "min        0.000000     1.000000  0.000000e+00              0.000000   \n",
       "25%        2.000000     3.000000  1.500000e+01              0.000000   \n",
       "50%        3.000000     3.000000  8.000000e+01              0.000000   \n",
       "75%        5.000000     3.000000  5.000000e+02              0.000000   \n",
       "max     1500.000000     3.000000  5.000100e+06              1.000000   \n",
       "\n",
       "       oplocdistrict_340201  ...  enttypegb_5810  enttypegb_6110  \\\n",
       "count          24865.000000  ...    24865.000000    24865.000000   \n",
       "mean               0.001568  ...        0.000121        0.000523   \n",
       "std                0.039574  ...        0.010984        0.022860   \n",
       "min                0.000000  ...        0.000000        0.000000   \n",
       "25%                0.000000  ...        0.000000        0.000000   \n",
       "50%                0.000000  ...        0.000000        0.000000   \n",
       "75%                0.000000  ...        0.000000        0.000000   \n",
       "max                1.000000  ...        1.000000        1.000000   \n",
       "\n",
       "       enttypegb_6120  enttypegb_6150  enttypegb_6180  enttypegb_6810  \\\n",
       "count    24865.000000    24865.000000    24865.000000    24865.000000   \n",
       "mean         0.000040        0.000161        0.000040        0.000080   \n",
       "std          0.006342        0.012683        0.006342        0.008968   \n",
       "min          0.000000        0.000000        0.000000        0.000000   \n",
       "25%          0.000000        0.000000        0.000000        0.000000   \n",
       "50%          0.000000        0.000000        0.000000        0.000000   \n",
       "75%          0.000000        0.000000        0.000000        0.000000   \n",
       "max          1.000000        1.000000        1.000000        1.000000   \n",
       "\n",
       "       enttypegb_9100  enttypegb_9600   opfrom_year     opto_year  \n",
       "count    24865.000000    24865.000000  24865.000000  24865.000000  \n",
       "mean         0.000925        0.329499   2016.677177    727.344460  \n",
       "std          0.030400        0.470041      3.553619    982.010718  \n",
       "min          0.000000        0.000000   1979.000000     -1.000000  \n",
       "25%          0.000000        0.000000   2016.000000     -1.000000  \n",
       "50%          0.000000        0.000000   2018.000000     -1.000000  \n",
       "75%          0.000000        1.000000   2019.000000   2039.000000  \n",
       "max          1.000000        1.000000   2020.000000   2118.000000  \n",
       "\n",
       "[8 rows x 150 columns]"
      ],
      "text/html": "<div>\n<style scoped>\n    .dataframe tbody tr th:only-of-type {\n        vertical-align: middle;\n    }\n\n    .dataframe tbody tr th {\n        vertical-align: top;\n    }\n\n    .dataframe thead th {\n        text-align: right;\n    }\n</style>\n<table border=\"1\" class=\"dataframe\">\n  <thead>\n    <tr style=\"text-align: right;\">\n      <th></th>\n      <th>industryco</th>\n      <th>state</th>\n      <th>orgid</th>\n      <th>jobid</th>\n      <th>townsign</th>\n      <th>empnum</th>\n      <th>venind</th>\n      <th>regcap</th>\n      <th>oplocdistrict_340200</th>\n      <th>oplocdistrict_340201</th>\n      <th>...</th>\n      <th>enttypegb_5810</th>\n      <th>enttypegb_6110</th>\n      <th>enttypegb_6120</th>\n      <th>enttypegb_6150</th>\n      <th>enttypegb_6180</th>\n      <th>enttypegb_6810</th>\n      <th>enttypegb_9100</th>\n      <th>enttypegb_9600</th>\n      <th>opfrom_year</th>\n      <th>opto_year</th>\n    </tr>\n  </thead>\n  <tbody>\n    <tr>\n      <th>count</th>\n      <td>24865.000000</td>\n      <td>24865.000000</td>\n      <td>2.486500e+04</td>\n      <td>2.486500e+04</td>\n      <td>24865.000000</td>\n      <td>19615.000000</td>\n      <td>8437.000000</td>\n      <td>2.467400e+04</td>\n      <td>24865.000000</td>\n      <td>24865.000000</td>\n      <td>...</td>\n      <td>24865.000000</td>\n      <td>24865.000000</td>\n      <td>24865.000000</td>\n      <td>24865.000000</td>\n      <td>24865.000000</td>\n      <td>24865.000000</td>\n      <td>24865.000000</td>\n      <td>24865.000000</td>\n      <td>24865.000000</td>\n      <td>24865.000000</td>\n    </tr>\n    <tr>\n      <th>mean</th>\n      <td>7885.246169</td>\n      <td>6.164569</td>\n      <td>3.416682e+17</td>\n      <td>3.548101e+17</td>\n      <td>0.578444</td>\n      <td>4.397961</td>\n      <td>2.946545</td>\n      <td>5.151437e+03</td>\n      <td>0.138428</td>\n      <td>0.001568</td>\n      <td>...</td>\n      <td>0.000121</td>\n      <td>0.000523</td>\n      <td>0.000040</td>\n      <td>0.000161</td>\n      <td>0.000040</td>\n      <td>0.000080</td>\n      <td>0.000925</td>\n      <td>0.329499</td>\n      <td>2016.677177</td>\n      <td>727.344460</td>\n    </tr>\n    <tr>\n      <th>std</th>\n      <td>667.038309</td>\n      <td>0.582226</td>\n      <td>1.107349e+16</td>\n      <td>3.052367e+16</td>\n      <td>0.493818</td>\n      <td>15.389206</td>\n      <td>0.284933</td>\n      <td>6.777086e+04</td>\n      <td>0.345355</td>\n      <td>0.039574</td>\n      <td>...</td>\n      <td>0.010984</td>\n      <td>0.022860</td>\n      <td>0.006342</td>\n      <td>0.012683</td>\n      <td>0.006342</td>\n      <td>0.008968</td>\n      <td>0.030400</td>\n      <td>0.470041</td>\n      <td>3.553619</td>\n      <td>982.010718</td>\n    </tr>\n    <tr>\n      <th>min</th>\n      <td>0.000000</td>\n      <td>4.000000</td>\n      <td>1.410800e+17</td>\n      <td>1.410800e+17</td>\n      <td>0.000000</td>\n      <td>0.000000</td>\n      <td>1.000000</td>\n      <td>0.000000e+00</td>\n      <td>0.000000</td>\n      <td>0.000000</td>\n      <td>...</td>\n      <td>0.000000</td>\n      <td>0.000000</td>\n      <td>0.000000</td>\n      <td>0.000000</td>\n      <td>0.000000</td>\n      <td>0.000000</td>\n      <td>0.000000</td>\n      <td>0.000000</td>\n      <td>1979.000000</td>\n      <td>-1.000000</td>\n    </tr>\n    <tr>\n      <th>25%</th>\n      <td>7512.000000</td>\n      <td>6.000000</td>\n      <td>3.402000e+17</td>\n      <td>3.402000e+17</td>\n      <td>0.000000</td>\n      <td>2.000000</td>\n      <td>3.000000</td>\n      <td>1.500000e+01</td>\n      <td>0.000000</td>\n      <td>0.000000</td>\n      <td>...</td>\n      <td>0.000000</td>\n      <td>0.000000</td>\n      <td>0.000000</td>\n      <td>0.000000</td>\n      <td>0.000000</td>\n      <td>0.000000</td>\n      <td>0.000000</td>\n      <td>0.000000</td>\n      <td>2016.000000</td>\n      <td>-1.000000</td>\n    </tr>\n    <tr>\n      <th>50%</th>\n      <td>8040.000000</td>\n      <td>6.000000</td>\n      <td>3.402020e+17</td>\n      <td>3.402000e+17</td>\n      <td>1.000000</td>\n      <td>3.000000</td>\n      <td>3.000000</td>\n      <td>8.000000e+01</td>\n      <td>0.000000</td>\n      <td>0.000000</td>\n      <td>...</td>\n      <td>0.000000</td>\n      <td>0.000000</td>\n      <td>0.000000</td>\n      <td>0.000000</td>\n      <td>0.000000</td>\n      <td>0.000000</td>\n      <td>0.000000</td>\n      <td>0.000000</td>\n      <td>2018.000000</td>\n      <td>-1.000000</td>\n    </tr>\n    <tr>\n      <th>75%</th>\n      <td>8199.000000</td>\n      <td>6.000000</td>\n      <td>3.402070e+17</td>\n      <td>4.000000e+17</td>\n      <td>1.000000</td>\n      <td>5.000000</td>\n      <td>3.000000</td>\n      <td>5.000000e+02</td>\n      <td>0.000000</td>\n      <td>0.000000</td>\n      <td>...</td>\n      <td>0.000000</td>\n      <td>0.000000</td>\n      <td>0.000000</td>\n      <td>0.000000</td>\n      <td>0.000000</td>\n      <td>0.000000</td>\n      <td>0.000000</td>\n      <td>1.000000</td>\n      <td>2019.000000</td>\n      <td>2039.000000</td>\n    </tr>\n    <tr>\n      <th>max</th>\n      <td>9700.000000</td>\n      <td>20.000000</td>\n      <td>4.000000e+17</td>\n      <td>4.000000e+17</td>\n      <td>1.000000</td>\n      <td>1500.000000</td>\n      <td>3.000000</td>\n      <td>5.000100e+06</td>\n      <td>1.000000</td>\n      <td>1.000000</td>\n      <td>...</td>\n      <td>1.000000</td>\n      <td>1.000000</td>\n      <td>1.000000</td>\n      <td>1.000000</td>\n      <td>1.000000</td>\n      <td>1.000000</td>\n      <td>1.000000</td>\n      <td>1.000000</td>\n      <td>2020.000000</td>\n      <td>2118.000000</td>\n    </tr>\n  </tbody>\n</table>\n<p>8 rows × 150 columns</p>\n</div>"
     },
     "metadata": {},
     "execution_count": 17
    }
   ],
   "source": [
    "base_info.describe()"
   ]
  },
  {
   "cell_type": "code",
   "execution_count": 18,
   "metadata": {},
   "outputs": [
    {
     "output_type": "error",
     "ename": "KeyError",
     "evalue": "'enttypeminu'",
     "traceback": [
      "\u001b[0;31m---------------------------------------------------------------------------\u001b[0m",
      "\u001b[0;31mKeyError\u001b[0m                                  Traceback (most recent call last)",
      "\u001b[0;32m/opt/miniconda3/envs/ml/lib/python3.8/site-packages/pandas/core/indexes/base.py\u001b[0m in \u001b[0;36mget_loc\u001b[0;34m(self, key, method, tolerance)\u001b[0m\n\u001b[1;32m   2894\u001b[0m             \u001b[0;32mtry\u001b[0m\u001b[0;34m:\u001b[0m\u001b[0;34m\u001b[0m\u001b[0;34m\u001b[0m\u001b[0m\n\u001b[0;32m-> 2895\u001b[0;31m                 \u001b[0;32mreturn\u001b[0m \u001b[0mself\u001b[0m\u001b[0;34m.\u001b[0m\u001b[0m_engine\u001b[0m\u001b[0;34m.\u001b[0m\u001b[0mget_loc\u001b[0m\u001b[0;34m(\u001b[0m\u001b[0mcasted_key\u001b[0m\u001b[0;34m)\u001b[0m\u001b[0;34m\u001b[0m\u001b[0;34m\u001b[0m\u001b[0m\n\u001b[0m\u001b[1;32m   2896\u001b[0m             \u001b[0;32mexcept\u001b[0m \u001b[0mKeyError\u001b[0m \u001b[0;32mas\u001b[0m \u001b[0merr\u001b[0m\u001b[0;34m:\u001b[0m\u001b[0;34m\u001b[0m\u001b[0;34m\u001b[0m\u001b[0m\n",
      "\u001b[0;32mpandas/_libs/index.pyx\u001b[0m in \u001b[0;36mpandas._libs.index.IndexEngine.get_loc\u001b[0;34m()\u001b[0m\n",
      "\u001b[0;32mpandas/_libs/index.pyx\u001b[0m in \u001b[0;36mpandas._libs.index.IndexEngine.get_loc\u001b[0;34m()\u001b[0m\n",
      "\u001b[0;32mpandas/_libs/hashtable_class_helper.pxi\u001b[0m in \u001b[0;36mpandas._libs.hashtable.PyObjectHashTable.get_item\u001b[0;34m()\u001b[0m\n",
      "\u001b[0;32mpandas/_libs/hashtable_class_helper.pxi\u001b[0m in \u001b[0;36mpandas._libs.hashtable.PyObjectHashTable.get_item\u001b[0;34m()\u001b[0m\n",
      "\u001b[0;31mKeyError\u001b[0m: 'enttypeminu'",
      "\nThe above exception was the direct cause of the following exception:\n",
      "\u001b[0;31mKeyError\u001b[0m                                  Traceback (most recent call last)",
      "\u001b[0;32m<ipython-input-18-f3f536ee8984>\u001b[0m in \u001b[0;36m<module>\u001b[0;34m\u001b[0m\n\u001b[0;32m----> 1\u001b[0;31m \u001b[0mbase_info\u001b[0m\u001b[0;34m[\u001b[0m\u001b[0;34m'enttypeminu'\u001b[0m\u001b[0;34m]\u001b[0m\u001b[0;34m.\u001b[0m\u001b[0misnull\u001b[0m\u001b[0;34m(\u001b[0m\u001b[0;34m)\u001b[0m\u001b[0;34m.\u001b[0m\u001b[0msum\u001b[0m\u001b[0;34m(\u001b[0m\u001b[0;34m)\u001b[0m\u001b[0;34m\u001b[0m\u001b[0;34m\u001b[0m\u001b[0m\n\u001b[0m",
      "\u001b[0;32m/opt/miniconda3/envs/ml/lib/python3.8/site-packages/pandas/core/frame.py\u001b[0m in \u001b[0;36m__getitem__\u001b[0;34m(self, key)\u001b[0m\n\u001b[1;32m   2900\u001b[0m             \u001b[0;32mif\u001b[0m \u001b[0mself\u001b[0m\u001b[0;34m.\u001b[0m\u001b[0mcolumns\u001b[0m\u001b[0;34m.\u001b[0m\u001b[0mnlevels\u001b[0m \u001b[0;34m>\u001b[0m \u001b[0;36m1\u001b[0m\u001b[0;34m:\u001b[0m\u001b[0;34m\u001b[0m\u001b[0;34m\u001b[0m\u001b[0m\n\u001b[1;32m   2901\u001b[0m                 \u001b[0;32mreturn\u001b[0m \u001b[0mself\u001b[0m\u001b[0;34m.\u001b[0m\u001b[0m_getitem_multilevel\u001b[0m\u001b[0;34m(\u001b[0m\u001b[0mkey\u001b[0m\u001b[0;34m)\u001b[0m\u001b[0;34m\u001b[0m\u001b[0;34m\u001b[0m\u001b[0m\n\u001b[0;32m-> 2902\u001b[0;31m             \u001b[0mindexer\u001b[0m \u001b[0;34m=\u001b[0m \u001b[0mself\u001b[0m\u001b[0;34m.\u001b[0m\u001b[0mcolumns\u001b[0m\u001b[0;34m.\u001b[0m\u001b[0mget_loc\u001b[0m\u001b[0;34m(\u001b[0m\u001b[0mkey\u001b[0m\u001b[0;34m)\u001b[0m\u001b[0;34m\u001b[0m\u001b[0;34m\u001b[0m\u001b[0m\n\u001b[0m\u001b[1;32m   2903\u001b[0m             \u001b[0;32mif\u001b[0m \u001b[0mis_integer\u001b[0m\u001b[0;34m(\u001b[0m\u001b[0mindexer\u001b[0m\u001b[0;34m)\u001b[0m\u001b[0;34m:\u001b[0m\u001b[0;34m\u001b[0m\u001b[0;34m\u001b[0m\u001b[0m\n\u001b[1;32m   2904\u001b[0m                 \u001b[0mindexer\u001b[0m \u001b[0;34m=\u001b[0m \u001b[0;34m[\u001b[0m\u001b[0mindexer\u001b[0m\u001b[0;34m]\u001b[0m\u001b[0;34m\u001b[0m\u001b[0;34m\u001b[0m\u001b[0m\n",
      "\u001b[0;32m/opt/miniconda3/envs/ml/lib/python3.8/site-packages/pandas/core/indexes/base.py\u001b[0m in \u001b[0;36mget_loc\u001b[0;34m(self, key, method, tolerance)\u001b[0m\n\u001b[1;32m   2895\u001b[0m                 \u001b[0;32mreturn\u001b[0m \u001b[0mself\u001b[0m\u001b[0;34m.\u001b[0m\u001b[0m_engine\u001b[0m\u001b[0;34m.\u001b[0m\u001b[0mget_loc\u001b[0m\u001b[0;34m(\u001b[0m\u001b[0mcasted_key\u001b[0m\u001b[0;34m)\u001b[0m\u001b[0;34m\u001b[0m\u001b[0;34m\u001b[0m\u001b[0m\n\u001b[1;32m   2896\u001b[0m             \u001b[0;32mexcept\u001b[0m \u001b[0mKeyError\u001b[0m \u001b[0;32mas\u001b[0m \u001b[0merr\u001b[0m\u001b[0;34m:\u001b[0m\u001b[0;34m\u001b[0m\u001b[0;34m\u001b[0m\u001b[0m\n\u001b[0;32m-> 2897\u001b[0;31m                 \u001b[0;32mraise\u001b[0m \u001b[0mKeyError\u001b[0m\u001b[0;34m(\u001b[0m\u001b[0mkey\u001b[0m\u001b[0;34m)\u001b[0m \u001b[0;32mfrom\u001b[0m \u001b[0merr\u001b[0m\u001b[0;34m\u001b[0m\u001b[0;34m\u001b[0m\u001b[0m\n\u001b[0m\u001b[1;32m   2898\u001b[0m \u001b[0;34m\u001b[0m\u001b[0m\n\u001b[1;32m   2899\u001b[0m         \u001b[0;32mif\u001b[0m \u001b[0mtolerance\u001b[0m \u001b[0;32mis\u001b[0m \u001b[0;32mnot\u001b[0m \u001b[0;32mNone\u001b[0m\u001b[0;34m:\u001b[0m\u001b[0;34m\u001b[0m\u001b[0;34m\u001b[0m\u001b[0m\n",
      "\u001b[0;31mKeyError\u001b[0m: 'enttypeminu'"
     ]
    }
   ],
   "source": [
    "base_info['enttypeminu'].isnull().sum()"
   ]
  },
  {
   "cell_type": "code",
   "execution_count": null,
   "metadata": {},
   "outputs": [],
   "source": []
  }
 ]
}