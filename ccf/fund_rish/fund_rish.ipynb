{
 "metadata": {
  "language_info": {
   "codemirror_mode": {
    "name": "ipython",
    "version": 3
   },
   "file_extension": ".py",
   "mimetype": "text/x-python",
   "name": "python",
   "nbconvert_exporter": "python",
   "pygments_lexer": "ipython3",
   "version": "3.7.9-final"
  },
  "orig_nbformat": 2,
  "kernelspec": {
   "name": "Python 3.7.9 64-bit ('ml': conda)",
   "display_name": "Python 3.7.9 64-bit ('ml': conda)",
   "metadata": {
    "interpreter": {
     "hash": "ad5ad074276989c7bb430cb03009529396ebc1f412808063235dd1e7fed6dc18"
    }
   }
  }
 },
 "nbformat": 4,
 "nbformat_minor": 2,
 "cells": [
  {
   "source": [
    "# 企业非法集资风险预测"
   ],
   "cell_type": "markdown",
   "metadata": {}
  },
  {
   "cell_type": "code",
   "execution_count": 77,
   "metadata": {},
   "outputs": [
    {
     "output_type": "stream",
     "name": "stdout",
     "text": [
      "\u001b[1m\u001b[36mtest\u001b[m\u001b[m  \u001b[1m\u001b[36mtrain\u001b[m\u001b[m\n\ndata//test:\nentprise_evaluate.csv\n\ndata//train:\nannual_report_info.csv entprise_info.csv      tax_info.csv\nbase_info.csv          news_info.csv\nchange_info.csv        other_info.csv\n"
     ]
    }
   ],
   "source": [
    "!ls -R data/"
   ]
  },
  {
   "cell_type": "code",
   "execution_count": 78,
   "metadata": {},
   "outputs": [],
   "source": [
    "import pandas as pd\n",
    "import numpy as np\n",
    "import gc\n",
    "from tqdm import tqdm \n",
    "\n",
    "def category_info(data):\n",
    "    for col in tqdm(data.columns):\n",
    "        print(col, data[col].nunique(dropna=False))\n",
    "\n",
    "def fill_nan(data):\n",
    "    for col in tqdm(data.select_dtypes(['float64']).columns):\n",
    "        data[col] = data[col].fillna(data[col].median())\n",
    "    return data"
   ]
  },
  {
   "source": [
    "## 1. 数据集处理\n",
    "\n",
    "包含数据集7和8中涉及到的所有企业的基本信息，每一行代表一个企业的基本数据，每一行有33列，其中id列为企业唯一标识，列之间采用“,”分隔符分割。\n",
    "\n",
    "id:企业唯一标识, oplocdistrict:行政区划代码, industryphy:行业类别代码, industryco:行业细类代码, dom:经营地址, opscope:经营范围, enttype:企业类型, enttypeitem:企业类型小类, opfrom:经营期限起, opto:经营期限止, state:状态, orgid:机构标识, jobid:职位标识, adbusign:是否广告经营, townsign:是否城镇, regtype:主题登记类型, empnum:从业人数, compform:组织形式, parnum:合伙人数, exenum:执行人数, opform:经营方式, ptbusscope:兼营范围, venind:风险行业, enttypeminu:企业类型细类, midpreindcode:中西部优势产业代码, protype:项目类型, oploc:经营场所, regcap:注册资本（金）, reccap:实缴资本, forreccap:实缴资本（外方）, forregcap:注册资本（外方）, congro:投资总额, enttypegb:企业（机构）类型\n",
    "\n",
    "#### 1.1 读取数据"
   ],
   "cell_type": "markdown",
   "metadata": {}
  },
  {
   "cell_type": "code",
   "execution_count": 79,
   "metadata": {},
   "outputs": [
    {
     "output_type": "stream",
     "name": "stdout",
     "text": [
      "(24865, 33)\n"
     ]
    }
   ],
   "source": [
    "\n",
    "base_info = pd.read_csv('./data/train/base_info.csv')\n",
    "print(base_info.shape)\n",
    "\n"
   ]
  },
  {
   "source": [
    "## 1.2 base_info 处理"
   ],
   "cell_type": "markdown",
   "metadata": {}
  },
  {
   "cell_type": "code",
   "execution_count": 80,
   "metadata": {},
   "outputs": [
    {
     "output_type": "stream",
     "name": "stderr",
     "text": [
      " 76%|███████▌  | 25/33 [00:00<00:00, 211.75it/s]id 24865\n",
      "oplocdistrict 16\n",
      "industryphy 20\n",
      "industryco 346\n",
      "dom 23278\n",
      "opscope 20815\n",
      "enttype 17\n",
      "enttypeitem 32\n",
      "opfrom 6620\n",
      "opto 5747\n",
      "state 6\n",
      "orgid 78\n",
      "jobid 434\n",
      "adbusign 2\n",
      "townsign 2\n",
      "regtype 3\n",
      "empnum 63\n",
      "compform 3\n",
      "parnum 52\n",
      "exenum 51\n",
      "opform 34\n",
      "ptbusscope 1\n",
      "venind 4\n",
      "enttypeminu 27\n",
      "midpreindcode 1\n",
      "100%|██████████| 33/33 [00:00<00:00, 219.64it/s]protype 3\n",
      "oploc 5351\n",
      "regcap 1144\n",
      "reccap 598\n",
      "forreccap 12\n",
      "forregcap 39\n",
      "congro 34\n",
      "enttypegb 53\n",
      "\n"
     ]
    }
   ],
   "source": [
    "# 查看特征类别信息\n",
    "category_info(base_info)"
   ]
  },
  {
   "cell_type": "code",
   "execution_count": 81,
   "metadata": {},
   "outputs": [
    {
     "output_type": "execute_result",
     "data": {
      "text/plain": [
       "                                                 id  oplocdistrict  \\\n",
       "0  47645761dc56bb8c5fae00114b768b5d9b6e917c3aec07c4         340223   \n",
       "1  9c7fa510616a683058ce97d0bc768a621cd85ab1e87da2a3         340222   \n",
       "2  59b38c56de3836838082cfcb1a298951abfe15e6940c49ba         340202   \n",
       "3  e9f7b28ec10e047000d16ab79e1b5e6da434a1697cce7818         340221   \n",
       "4  f000950527a6feb63ee1ce82bb22ddd1ab8b8fdffa3b91fb         340202   \n",
       "\n",
       "  industryphy  industryco  enttype  enttypeitem               opfrom  \\\n",
       "0           M      7513.0     1100       1150.0  2019-07-11 00:00:00   \n",
       "1           O      8090.0     9600          NaN           2017-09-06   \n",
       "2           R      9053.0     1100       1150.0  2020-09-14 14:46:30   \n",
       "3           L      7212.0     4500       4540.0           2015-09-30   \n",
       "4           R      8810.0     1100       1130.0           2017-12-01   \n",
       "\n",
       "         opto  state               orgid  ...  venind  enttypeminu  protype  \\\n",
       "0         NaN      6  340223010010000000  ...     NaN       1151.0      NaN   \n",
       "1         NaN      6  340222060010000000  ...     3.0          NaN      NaN   \n",
       "2         NaN      6  340202010010000000  ...     NaN       1151.0      NaN   \n",
       "3         NaN      6  340221010010000000  ...     NaN          NaN      NaN   \n",
       "4  2067-11-30      7  340200000000000000  ...     NaN          NaN      NaN   \n",
       "\n",
       "                                               oploc  regcap  reccap  \\\n",
       "0                                   2367b4cac96d8598    50.0     NaN   \n",
       "1  31487d8f256f16bd6244b7251be2ebb27b17bdfd95c8f3...    10.0     NaN   \n",
       "2                                   2367b4cac96d8598   100.0     NaN   \n",
       "3                                   2367b4cac96d8598    10.0     NaN   \n",
       "4                                   2367b4cac96d8598   100.0     NaN   \n",
       "\n",
       "   forreccap  forregcap congro  enttypegb  \n",
       "0        NaN        NaN    NaN       1151  \n",
       "1        NaN        NaN    NaN       9600  \n",
       "2        NaN        NaN    NaN       1151  \n",
       "3        NaN        NaN    NaN       4540  \n",
       "4        NaN        NaN    NaN       1130  \n",
       "\n",
       "[5 rows x 29 columns]"
      ],
      "text/html": "<div>\n<style scoped>\n    .dataframe tbody tr th:only-of-type {\n        vertical-align: middle;\n    }\n\n    .dataframe tbody tr th {\n        vertical-align: top;\n    }\n\n    .dataframe thead th {\n        text-align: right;\n    }\n</style>\n<table border=\"1\" class=\"dataframe\">\n  <thead>\n    <tr style=\"text-align: right;\">\n      <th></th>\n      <th>id</th>\n      <th>oplocdistrict</th>\n      <th>industryphy</th>\n      <th>industryco</th>\n      <th>enttype</th>\n      <th>enttypeitem</th>\n      <th>opfrom</th>\n      <th>opto</th>\n      <th>state</th>\n      <th>orgid</th>\n      <th>...</th>\n      <th>venind</th>\n      <th>enttypeminu</th>\n      <th>protype</th>\n      <th>oploc</th>\n      <th>regcap</th>\n      <th>reccap</th>\n      <th>forreccap</th>\n      <th>forregcap</th>\n      <th>congro</th>\n      <th>enttypegb</th>\n    </tr>\n  </thead>\n  <tbody>\n    <tr>\n      <th>0</th>\n      <td>47645761dc56bb8c5fae00114b768b5d9b6e917c3aec07c4</td>\n      <td>340223</td>\n      <td>M</td>\n      <td>7513.0</td>\n      <td>1100</td>\n      <td>1150.0</td>\n      <td>2019-07-11 00:00:00</td>\n      <td>NaN</td>\n      <td>6</td>\n      <td>340223010010000000</td>\n      <td>...</td>\n      <td>NaN</td>\n      <td>1151.0</td>\n      <td>NaN</td>\n      <td>2367b4cac96d8598</td>\n      <td>50.0</td>\n      <td>NaN</td>\n      <td>NaN</td>\n      <td>NaN</td>\n      <td>NaN</td>\n      <td>1151</td>\n    </tr>\n    <tr>\n      <th>1</th>\n      <td>9c7fa510616a683058ce97d0bc768a621cd85ab1e87da2a3</td>\n      <td>340222</td>\n      <td>O</td>\n      <td>8090.0</td>\n      <td>9600</td>\n      <td>NaN</td>\n      <td>2017-09-06</td>\n      <td>NaN</td>\n      <td>6</td>\n      <td>340222060010000000</td>\n      <td>...</td>\n      <td>3.0</td>\n      <td>NaN</td>\n      <td>NaN</td>\n      <td>31487d8f256f16bd6244b7251be2ebb27b17bdfd95c8f3...</td>\n      <td>10.0</td>\n      <td>NaN</td>\n      <td>NaN</td>\n      <td>NaN</td>\n      <td>NaN</td>\n      <td>9600</td>\n    </tr>\n    <tr>\n      <th>2</th>\n      <td>59b38c56de3836838082cfcb1a298951abfe15e6940c49ba</td>\n      <td>340202</td>\n      <td>R</td>\n      <td>9053.0</td>\n      <td>1100</td>\n      <td>1150.0</td>\n      <td>2020-09-14 14:46:30</td>\n      <td>NaN</td>\n      <td>6</td>\n      <td>340202010010000000</td>\n      <td>...</td>\n      <td>NaN</td>\n      <td>1151.0</td>\n      <td>NaN</td>\n      <td>2367b4cac96d8598</td>\n      <td>100.0</td>\n      <td>NaN</td>\n      <td>NaN</td>\n      <td>NaN</td>\n      <td>NaN</td>\n      <td>1151</td>\n    </tr>\n    <tr>\n      <th>3</th>\n      <td>e9f7b28ec10e047000d16ab79e1b5e6da434a1697cce7818</td>\n      <td>340221</td>\n      <td>L</td>\n      <td>7212.0</td>\n      <td>4500</td>\n      <td>4540.0</td>\n      <td>2015-09-30</td>\n      <td>NaN</td>\n      <td>6</td>\n      <td>340221010010000000</td>\n      <td>...</td>\n      <td>NaN</td>\n      <td>NaN</td>\n      <td>NaN</td>\n      <td>2367b4cac96d8598</td>\n      <td>10.0</td>\n      <td>NaN</td>\n      <td>NaN</td>\n      <td>NaN</td>\n      <td>NaN</td>\n      <td>4540</td>\n    </tr>\n    <tr>\n      <th>4</th>\n      <td>f000950527a6feb63ee1ce82bb22ddd1ab8b8fdffa3b91fb</td>\n      <td>340202</td>\n      <td>R</td>\n      <td>8810.0</td>\n      <td>1100</td>\n      <td>1130.0</td>\n      <td>2017-12-01</td>\n      <td>2067-11-30</td>\n      <td>7</td>\n      <td>340200000000000000</td>\n      <td>...</td>\n      <td>NaN</td>\n      <td>NaN</td>\n      <td>NaN</td>\n      <td>2367b4cac96d8598</td>\n      <td>100.0</td>\n      <td>NaN</td>\n      <td>NaN</td>\n      <td>NaN</td>\n      <td>NaN</td>\n      <td>1130</td>\n    </tr>\n  </tbody>\n</table>\n<p>5 rows × 29 columns</p>\n</div>"
     },
     "metadata": {},
     "execution_count": 81
    }
   ],
   "source": [
    "# 删掉只有一个类别的\n",
    "base_info = base_info.drop(columns=['ptbusscope'])\n",
    "base_info = base_info.drop(columns=['midpreindcode'])\n",
    "\n",
    "# 删除类别数量较多的\n",
    "base_info = base_info.drop(columns=['opscope'])\n",
    "base_info = base_info.drop(columns=['dom'])\n",
    "\n",
    "base_info.head()"
   ]
  },
  {
   "cell_type": "code",
   "execution_count": 82,
   "metadata": {},
   "outputs": [
    {
     "output_type": "execute_result",
     "data": {
      "text/plain": [
       "584"
      ]
     },
     "metadata": {},
     "execution_count": 82
    }
   ],
   "source": [
    "# 处理日期，只取年、日\n",
    "#  opfrom:经营期限起, opto:经营期限止\n",
    "opfrom = pd.to_datetime(base_info['opfrom'])#转换格式\n",
    "opto = pd.to_datetime(base_info['opto'])\n",
    "base_info['opfrom_year'] = opfrom.dt.year\n",
    "base_info['opfrom_month'] = opfrom.dt.month\n",
    "base_info['opto_year'] = opto.dt.year\n",
    "base_info['opto_month'] = opto.dt.month\n",
    "\n",
    "del base_info['opfrom']\n",
    "del base_info['opto']\n",
    "\n",
    "gc.collect()"
   ]
  },
  {
   "cell_type": "code",
   "execution_count": 83,
   "metadata": {},
   "outputs": [
    {
     "output_type": "stream",
     "name": "stderr",
     "text": [
      "100%|██████████| 6/6 [00:00<00:00, 495.46it/s]\n"
     ]
    }
   ],
   "source": [
    "\n",
    "# 类别清理 `object`\n",
    "\n",
    "for col in tqdm(['industryco', 'enttypeitem', 'compform', 'venind', \n",
    "                 'enttypeminu', 'protype']):\n",
    "    base_info[col] = base_info[col].fillna(-1).astype('int')"
   ]
  },
  {
   "cell_type": "code",
   "execution_count": 84,
   "metadata": {},
   "outputs": [
    {
     "output_type": "stream",
     "name": "stderr",
     "text": [
      "100%|██████████| 10/10 [00:00<00:00, 566.09it/s]\n"
     ]
    }
   ],
   "source": [
    "# 数字类型缺失值太多, 且部分 columns std 较大, 先考虑用中值填充\n",
    "\n",
    "for col in tqdm(base_info.select_dtypes(['float64']).columns):\n",
    "    base_info[col] = base_info[col].fillna(base_info[col].median())"
   ]
  },
  {
   "cell_type": "code",
   "execution_count": 85,
   "metadata": {},
   "outputs": [],
   "source": [
    "# 数据清理\n",
    "\n",
    "base_info['opform'] = base_info['opform'].replace('01', '01-以个人财产出资').replace('02', '02-以家庭共有财产作为个人出资')"
   ]
  },
  {
   "cell_type": "code",
   "execution_count": 86,
   "metadata": {},
   "outputs": [
    {
     "output_type": "stream",
     "name": "stderr",
     "text": [
      "100%|██████████| 10/10 [00:00<00:00, 53.39it/s]\n"
     ]
    }
   ],
   "source": [
    "# 数据比较长尾, label encoding 和 freq 处理\n",
    "from sklearn.preprocessing import LabelEncoder\n",
    "from sklearn.model_selection import StratifiedKFold\n",
    "from sklearn.metrics import f1_score, roc_auc_score\n",
    "\n",
    "for col in tqdm(['industryphy', 'opform', 'oploc', 'orgid', 'jobid', 'oplocdistrict',\n",
    "                 'enttypegb', 'industryco', 'enttype', 'enttypeitem']):\n",
    "    lbl = LabelEncoder()\n",
    "    base_info[col] = lbl.fit_transform(base_info[col].astype(str))\n",
    "    vc = base_info[col].value_counts(dropna=True, normalize=True).to_dict()\n",
    "    base_info[f'{col}_freq'] = base_info[col].map(vc)"
   ]
  },
  {
   "cell_type": "code",
   "execution_count": 87,
   "metadata": {},
   "outputs": [],
   "source": [
    "del base_info['forreccap']\n",
    "del base_info['forregcap']\n",
    "del base_info['protype']\n",
    "del base_info['congro']\n"
   ]
  },
  {
   "cell_type": "code",
   "execution_count": 88,
   "metadata": {},
   "outputs": [
    {
     "output_type": "stream",
     "name": "stdout",
     "text": [
      "<class 'pandas.core.frame.DataFrame'>\nRangeIndex: 24865 entries, 0 to 24864\nData columns (total 37 columns):\n #   Column              Non-Null Count  Dtype  \n---  ------              --------------  -----  \n 0   id                  24865 non-null  object \n 1   oplocdistrict       24865 non-null  int64  \n 2   industryphy         24865 non-null  int64  \n 3   industryco          24865 non-null  int64  \n 4   enttype             24865 non-null  int64  \n 5   enttypeitem         24865 non-null  int64  \n 6   state               24865 non-null  int64  \n 7   orgid               24865 non-null  int64  \n 8   jobid               24865 non-null  int64  \n 9   adbusign            24865 non-null  int64  \n 10  townsign            24865 non-null  int64  \n 11  regtype             24865 non-null  int64  \n 12  empnum              24865 non-null  float64\n 13  compform            24865 non-null  int64  \n 14  parnum              24865 non-null  float64\n 15  exenum              24865 non-null  float64\n 16  opform              24865 non-null  int64  \n 17  venind              24865 non-null  int64  \n 18  enttypeminu         24865 non-null  int64  \n 19  oploc               24865 non-null  int64  \n 20  regcap              24865 non-null  float64\n 21  reccap              24865 non-null  float64\n 22  enttypegb           24865 non-null  int64  \n 23  opfrom_year         24865 non-null  int64  \n 24  opfrom_month        24865 non-null  int64  \n 25  opto_year           24865 non-null  float64\n 26  opto_month          24865 non-null  float64\n 27  industryphy_freq    24865 non-null  float64\n 28  opform_freq         24865 non-null  float64\n 29  oploc_freq          24865 non-null  float64\n 30  orgid_freq          24865 non-null  float64\n 31  jobid_freq          24865 non-null  float64\n 32  oplocdistrict_freq  24865 non-null  float64\n 33  enttypegb_freq      24865 non-null  float64\n 34  industryco_freq     24865 non-null  float64\n 35  enttype_freq        24865 non-null  float64\n 36  enttypeitem_freq    24865 non-null  float64\ndtypes: float64(17), int64(19), object(1)\nmemory usage: 7.0+ MB\n"
     ]
    }
   ],
   "source": [
    "base_info.info()"
   ]
  },
  {
   "source": [
    "### 1.3 annual_report_info.csv 处理\n",
    "\n",
    "包含数据集7和8中涉及到的企业的年报基本信息，每一行代表一个企业的年报基本数据，每一行有23列，其中id列为企业唯一标识，列之间采用“,”分隔符分割。\n",
    "数据格式如下：\n",
    "[id:企业唯一标识, ANCHEYEAR:年度, STATE:状态, FUNDAM:资金数额, MEMNUM:成员人数, FARNUM:农民人数, ANNNEWMEMNUM:本年度新增成员人数, ANNREDMEMNUM:本年度退出成员人数, EMPNUM:从业人数, EMPNUMSIGN:从业人数是否公示, BUSSTNAME:经营状态名称, COLGRANUM:其中高校毕业生人数经营者, RETSOLNUM:其中退役士兵人数经营者, DISPERNUM:其中残疾人人数经营者, UNENUM:其中下岗失业人数经营者, COLEMPLNUM:其中高校毕业生人数雇员, RETEMPLNUM:其中退役士兵人数雇员, DISEMPLNUM:其中残疾人人数雇员, UNEEMPLNUM:其中下岗失业人数雇员, WEBSITSIGN:是否有网站标志, FORINVESTSIGN:是否有对外投资企业标志, STOCKTRANSIGN:有限责任公司本年度是否发生股东股权转让标志, PUBSTATE:公示状态：1 全部公示，2部分公示,3全部不公示]\n"
   ],
   "cell_type": "markdown",
   "metadata": {}
  },
  {
   "cell_type": "code",
   "execution_count": 89,
   "metadata": {},
   "outputs": [
    {
     "output_type": "stream",
     "name": "stderr",
     "text": [
      "100%|██████████| 23/23 [00:00<00:00, 976.93it/s](22550, 23)\n",
      "<class 'pandas.core.frame.DataFrame'>\n",
      "RangeIndex: 22550 entries, 0 to 22549\n",
      "Data columns (total 23 columns):\n",
      " #   Column         Non-Null Count  Dtype  \n",
      "---  ------         --------------  -----  \n",
      " 0   id             22550 non-null  object \n",
      " 1   ANCHEYEAR      22550 non-null  float64\n",
      " 2   STATE          22545 non-null  float64\n",
      " 3   FUNDAM         5702 non-null   float64\n",
      " 4   MEMNUM         29 non-null     float64\n",
      " 5   FARNUM         29 non-null     float64\n",
      " 6   ANNNEWMEMNUM   29 non-null     float64\n",
      " 7   ANNREDMEMNUM   29 non-null     float64\n",
      " 8   EMPNUM         22535 non-null  float64\n",
      " 9   EMPNUMSIGN     16833 non-null  float64\n",
      " 10  BUSSTNAME      17680 non-null  object \n",
      " 11  COLGRANUM      20041 non-null  float64\n",
      " 12  RETSOLNUM      20041 non-null  float64\n",
      " 13  DISPERNUM      20041 non-null  float64\n",
      " 14  UNENUM         20041 non-null  float64\n",
      " 15  COLEMPLNUM     20041 non-null  float64\n",
      " 16  RETEMPLNUM     20041 non-null  float64\n",
      " 17  DISEMPLNUM     20041 non-null  float64\n",
      " 18  UNEEMPLNUM     20041 non-null  float64\n",
      " 19  WEBSITSIGN     22517 non-null  float64\n",
      " 20  FORINVESTSIGN  16489 non-null  float64\n",
      " 21  STOCKTRANSIGN  13507 non-null  float64\n",
      " 22  PUBSTATE       22530 non-null  float64\n",
      "dtypes: float64(21), object(2)\n",
      "memory usage: 4.0+ MB\n",
      "None\n",
      "id 8937\n",
      "ANCHEYEAR 4\n",
      "STATE 3\n",
      "FUNDAM 168\n",
      "MEMNUM 6\n",
      "FARNUM 7\n",
      "ANNNEWMEMNUM 4\n",
      "ANNREDMEMNUM 2\n",
      "EMPNUM 271\n",
      "EMPNUMSIGN 3\n",
      "BUSSTNAME 5\n",
      "COLGRANUM 44\n",
      "RETSOLNUM 15\n",
      "DISPERNUM 6\n",
      "UNENUM 36\n",
      "COLEMPLNUM 95\n",
      "RETEMPLNUM 27\n",
      "DISEMPLNUM 17\n",
      "UNEEMPLNUM 73\n",
      "WEBSITSIGN 3\n",
      "FORINVESTSIGN 3\n",
      "STOCKTRANSIGN 3\n",
      "PUBSTATE 4\n",
      "\n"
     ]
    }
   ],
   "source": [
    "annual_report_info = pd.read_csv('./data/train/annual_report_info.csv')\n",
    "print(annual_report_info.shape)\n",
    "print(annual_report_info.info())\n",
    "category_info(annual_report_info)"
   ]
  },
  {
   "source": [
    "> 共有 22550 条数据，但是id只有8937个，说明有大量数据的重复。总共的共有24865个，那么怎么来处理这些特征呢？"
   ],
   "cell_type": "markdown",
   "metadata": {}
  },
  {
   "cell_type": "code",
   "execution_count": 90,
   "metadata": {},
   "outputs": [],
   "source": [
    "# BUSSTNAME,PUBSTATE 进行 one-hot 编码\n",
    "\n",
    "cols = ['BUSSTNAME','PUBSTATE','STATE','FORINVESTSIGN','STOCKTRANSIGN','WEBSITSIGN']\n",
    "for col in cols:\n",
    "    one_hot_code = pd.get_dummies(annual_report_info[col],dtype = float)\n",
    "    one_hot_code_cols = []\n",
    "    for i in range(one_hot_code.shape[1]):\n",
    "        one_hot_code_cols.append('{}_{}'.format(col,i))\n",
    "    annual_report_info[one_hot_code_cols] = one_hot_code"
   ]
  },
  {
   "cell_type": "code",
   "execution_count": 91,
   "metadata": {},
   "outputs": [
    {
     "output_type": "execute_result",
     "data": {
      "text/plain": [
       "id                  object\n",
       "ANCHEYEAR          float64\n",
       "STATE              float64\n",
       "FUNDAM             float64\n",
       "MEMNUM             float64\n",
       "FARNUM             float64\n",
       "ANNNEWMEMNUM       float64\n",
       "ANNREDMEMNUM       float64\n",
       "EMPNUM             float64\n",
       "EMPNUMSIGN         float64\n",
       "BUSSTNAME           object\n",
       "COLGRANUM          float64\n",
       "RETSOLNUM          float64\n",
       "DISPERNUM          float64\n",
       "UNENUM             float64\n",
       "COLEMPLNUM         float64\n",
       "RETEMPLNUM         float64\n",
       "DISEMPLNUM         float64\n",
       "UNEEMPLNUM         float64\n",
       "WEBSITSIGN         float64\n",
       "FORINVESTSIGN      float64\n",
       "STOCKTRANSIGN      float64\n",
       "PUBSTATE           float64\n",
       "BUSSTNAME_0        float64\n",
       "BUSSTNAME_1        float64\n",
       "BUSSTNAME_2        float64\n",
       "BUSSTNAME_3        float64\n",
       "PUBSTATE_0         float64\n",
       "PUBSTATE_1         float64\n",
       "PUBSTATE_2         float64\n",
       "STATE_0            float64\n",
       "STATE_1            float64\n",
       "FORINVESTSIGN_0    float64\n",
       "FORINVESTSIGN_1    float64\n",
       "STOCKTRANSIGN_0    float64\n",
       "STOCKTRANSIGN_1    float64\n",
       "WEBSITSIGN_0       float64\n",
       "WEBSITSIGN_1       float64\n",
       "dtype: object"
      ]
     },
     "metadata": {},
     "execution_count": 91
    }
   ],
   "source": [
    "annual_report_info.dtypes"
   ]
  },
  {
   "cell_type": "code",
   "execution_count": 92,
   "metadata": {},
   "outputs": [
    {
     "output_type": "execute_result",
     "data": {
      "text/plain": [
       "(8937, 38)"
      ]
     },
     "metadata": {},
     "execution_count": 92
    }
   ],
   "source": [
    "# 对其中的一些数值指标，取最近一个时间段的数据\n",
    "annual_report_info.sort_values(['ANCHEYEAR'],ascending=False,inplace= True)\n",
    "annual_report_info = annual_report_info.groupby('id').head(1)\n",
    "annual_report_info.shape"
   ]
  },
  {
   "cell_type": "code",
   "execution_count": 93,
   "metadata": {},
   "outputs": [],
   "source": [
    "del annual_report_info['BUSSTNAME']\n",
    "del annual_report_info['PUBSTATE']\n",
    "del annual_report_info['STATE']\n",
    "del annual_report_info['FORINVESTSIGN']\n",
    "del annual_report_info['STOCKTRANSIGN']\n",
    "del annual_report_info['WEBSITSIGN']"
   ]
  },
  {
   "cell_type": "code",
   "execution_count": 94,
   "metadata": {},
   "outputs": [
    {
     "output_type": "execute_result",
     "data": {
      "text/plain": [
       "         ANCHEYEAR         FUNDAM     MEMNUM     FARNUM  ANNNEWMEMNUM  \\\n",
       "count  8937.000000    2705.000000   9.000000   9.000000           9.0   \n",
       "mean   2017.787177      70.799383   6.777778   6.777778           0.0   \n",
       "std       0.589107    2150.248047   2.223611   2.223611           0.0   \n",
       "min    2015.000000       0.000000   5.000000   5.000000           0.0   \n",
       "25%    2018.000000       3.000000   5.000000   5.000000           0.0   \n",
       "50%    2018.000000       8.000000   6.000000   6.000000           0.0   \n",
       "75%    2018.000000      10.000000   7.000000   7.000000           0.0   \n",
       "max    2018.000000  100000.000000  11.000000  11.000000           0.0   \n",
       "\n",
       "       ANNREDMEMNUM        EMPNUM   EMPNUMSIGN    COLGRANUM    RETSOLNUM  ...  \\\n",
       "count           9.0   8930.000000  6225.000000  8110.000000  8110.000000  ...   \n",
       "mean            0.0      9.285554     1.844177     0.711961     0.032552  ...   \n",
       "std             0.0    141.508620     0.362717     7.465522     0.294942  ...   \n",
       "min             0.0      0.000000     1.000000     0.000000     0.000000  ...   \n",
       "25%             0.0      1.000000     2.000000     0.000000     0.000000  ...   \n",
       "50%             0.0      2.000000     2.000000     0.000000     0.000000  ...   \n",
       "75%             0.0      5.000000     2.000000     1.000000     0.000000  ...   \n",
       "max             0.0  12045.000000     2.000000   660.000000    15.000000  ...   \n",
       "\n",
       "        PUBSTATE_1   PUBSTATE_2      STATE_0      STATE_1  FORINVESTSIGN_0  \\\n",
       "count  8937.000000  8937.000000  8937.000000  8937.000000      8937.000000   \n",
       "mean      0.186192     0.760098     0.001678     0.998322         0.035582   \n",
       "std       0.389283     0.427047     0.040936     0.040936         0.185257   \n",
       "min       0.000000     0.000000     0.000000     0.000000         0.000000   \n",
       "25%       0.000000     1.000000     0.000000     1.000000         0.000000   \n",
       "50%       0.000000     1.000000     0.000000     1.000000         0.000000   \n",
       "75%       0.000000     1.000000     0.000000     1.000000         0.000000   \n",
       "max       1.000000     1.000000     1.000000     1.000000         1.000000   \n",
       "\n",
       "       FORINVESTSIGN_1  STOCKTRANSIGN_0  STOCKTRANSIGN_1  WEBSITSIGN_0  \\\n",
       "count      8937.000000      8937.000000      8937.000000   8937.000000   \n",
       "mean          0.648987         0.025064         0.538212      0.032002   \n",
       "std           0.477314         0.156329         0.498566      0.176015   \n",
       "min           0.000000         0.000000         0.000000      0.000000   \n",
       "25%           0.000000         0.000000         0.000000      0.000000   \n",
       "50%           1.000000         0.000000         1.000000      0.000000   \n",
       "75%           1.000000         0.000000         1.000000      0.000000   \n",
       "max           1.000000         1.000000         1.000000      1.000000   \n",
       "\n",
       "       WEBSITSIGN_1  \n",
       "count   8937.000000  \n",
       "mean       0.967103  \n",
       "std        0.178377  \n",
       "min        0.000000  \n",
       "25%        1.000000  \n",
       "50%        1.000000  \n",
       "75%        1.000000  \n",
       "max        1.000000  \n",
       "\n",
       "[8 rows x 31 columns]"
      ],
      "text/html": "<div>\n<style scoped>\n    .dataframe tbody tr th:only-of-type {\n        vertical-align: middle;\n    }\n\n    .dataframe tbody tr th {\n        vertical-align: top;\n    }\n\n    .dataframe thead th {\n        text-align: right;\n    }\n</style>\n<table border=\"1\" class=\"dataframe\">\n  <thead>\n    <tr style=\"text-align: right;\">\n      <th></th>\n      <th>ANCHEYEAR</th>\n      <th>FUNDAM</th>\n      <th>MEMNUM</th>\n      <th>FARNUM</th>\n      <th>ANNNEWMEMNUM</th>\n      <th>ANNREDMEMNUM</th>\n      <th>EMPNUM</th>\n      <th>EMPNUMSIGN</th>\n      <th>COLGRANUM</th>\n      <th>RETSOLNUM</th>\n      <th>...</th>\n      <th>PUBSTATE_1</th>\n      <th>PUBSTATE_2</th>\n      <th>STATE_0</th>\n      <th>STATE_1</th>\n      <th>FORINVESTSIGN_0</th>\n      <th>FORINVESTSIGN_1</th>\n      <th>STOCKTRANSIGN_0</th>\n      <th>STOCKTRANSIGN_1</th>\n      <th>WEBSITSIGN_0</th>\n      <th>WEBSITSIGN_1</th>\n    </tr>\n  </thead>\n  <tbody>\n    <tr>\n      <th>count</th>\n      <td>8937.000000</td>\n      <td>2705.000000</td>\n      <td>9.000000</td>\n      <td>9.000000</td>\n      <td>9.0</td>\n      <td>9.0</td>\n      <td>8930.000000</td>\n      <td>6225.000000</td>\n      <td>8110.000000</td>\n      <td>8110.000000</td>\n      <td>...</td>\n      <td>8937.000000</td>\n      <td>8937.000000</td>\n      <td>8937.000000</td>\n      <td>8937.000000</td>\n      <td>8937.000000</td>\n      <td>8937.000000</td>\n      <td>8937.000000</td>\n      <td>8937.000000</td>\n      <td>8937.000000</td>\n      <td>8937.000000</td>\n    </tr>\n    <tr>\n      <th>mean</th>\n      <td>2017.787177</td>\n      <td>70.799383</td>\n      <td>6.777778</td>\n      <td>6.777778</td>\n      <td>0.0</td>\n      <td>0.0</td>\n      <td>9.285554</td>\n      <td>1.844177</td>\n      <td>0.711961</td>\n      <td>0.032552</td>\n      <td>...</td>\n      <td>0.186192</td>\n      <td>0.760098</td>\n      <td>0.001678</td>\n      <td>0.998322</td>\n      <td>0.035582</td>\n      <td>0.648987</td>\n      <td>0.025064</td>\n      <td>0.538212</td>\n      <td>0.032002</td>\n      <td>0.967103</td>\n    </tr>\n    <tr>\n      <th>std</th>\n      <td>0.589107</td>\n      <td>2150.248047</td>\n      <td>2.223611</td>\n      <td>2.223611</td>\n      <td>0.0</td>\n      <td>0.0</td>\n      <td>141.508620</td>\n      <td>0.362717</td>\n      <td>7.465522</td>\n      <td>0.294942</td>\n      <td>...</td>\n      <td>0.389283</td>\n      <td>0.427047</td>\n      <td>0.040936</td>\n      <td>0.040936</td>\n      <td>0.185257</td>\n      <td>0.477314</td>\n      <td>0.156329</td>\n      <td>0.498566</td>\n      <td>0.176015</td>\n      <td>0.178377</td>\n    </tr>\n    <tr>\n      <th>min</th>\n      <td>2015.000000</td>\n      <td>0.000000</td>\n      <td>5.000000</td>\n      <td>5.000000</td>\n      <td>0.0</td>\n      <td>0.0</td>\n      <td>0.000000</td>\n      <td>1.000000</td>\n      <td>0.000000</td>\n      <td>0.000000</td>\n      <td>...</td>\n      <td>0.000000</td>\n      <td>0.000000</td>\n      <td>0.000000</td>\n      <td>0.000000</td>\n      <td>0.000000</td>\n      <td>0.000000</td>\n      <td>0.000000</td>\n      <td>0.000000</td>\n      <td>0.000000</td>\n      <td>0.000000</td>\n    </tr>\n    <tr>\n      <th>25%</th>\n      <td>2018.000000</td>\n      <td>3.000000</td>\n      <td>5.000000</td>\n      <td>5.000000</td>\n      <td>0.0</td>\n      <td>0.0</td>\n      <td>1.000000</td>\n      <td>2.000000</td>\n      <td>0.000000</td>\n      <td>0.000000</td>\n      <td>...</td>\n      <td>0.000000</td>\n      <td>1.000000</td>\n      <td>0.000000</td>\n      <td>1.000000</td>\n      <td>0.000000</td>\n      <td>0.000000</td>\n      <td>0.000000</td>\n      <td>0.000000</td>\n      <td>0.000000</td>\n      <td>1.000000</td>\n    </tr>\n    <tr>\n      <th>50%</th>\n      <td>2018.000000</td>\n      <td>8.000000</td>\n      <td>6.000000</td>\n      <td>6.000000</td>\n      <td>0.0</td>\n      <td>0.0</td>\n      <td>2.000000</td>\n      <td>2.000000</td>\n      <td>0.000000</td>\n      <td>0.000000</td>\n      <td>...</td>\n      <td>0.000000</td>\n      <td>1.000000</td>\n      <td>0.000000</td>\n      <td>1.000000</td>\n      <td>0.000000</td>\n      <td>1.000000</td>\n      <td>0.000000</td>\n      <td>1.000000</td>\n      <td>0.000000</td>\n      <td>1.000000</td>\n    </tr>\n    <tr>\n      <th>75%</th>\n      <td>2018.000000</td>\n      <td>10.000000</td>\n      <td>7.000000</td>\n      <td>7.000000</td>\n      <td>0.0</td>\n      <td>0.0</td>\n      <td>5.000000</td>\n      <td>2.000000</td>\n      <td>1.000000</td>\n      <td>0.000000</td>\n      <td>...</td>\n      <td>0.000000</td>\n      <td>1.000000</td>\n      <td>0.000000</td>\n      <td>1.000000</td>\n      <td>0.000000</td>\n      <td>1.000000</td>\n      <td>0.000000</td>\n      <td>1.000000</td>\n      <td>0.000000</td>\n      <td>1.000000</td>\n    </tr>\n    <tr>\n      <th>max</th>\n      <td>2018.000000</td>\n      <td>100000.000000</td>\n      <td>11.000000</td>\n      <td>11.000000</td>\n      <td>0.0</td>\n      <td>0.0</td>\n      <td>12045.000000</td>\n      <td>2.000000</td>\n      <td>660.000000</td>\n      <td>15.000000</td>\n      <td>...</td>\n      <td>1.000000</td>\n      <td>1.000000</td>\n      <td>1.000000</td>\n      <td>1.000000</td>\n      <td>1.000000</td>\n      <td>1.000000</td>\n      <td>1.000000</td>\n      <td>1.000000</td>\n      <td>1.000000</td>\n      <td>1.000000</td>\n    </tr>\n  </tbody>\n</table>\n<p>8 rows × 31 columns</p>\n</div>"
     },
     "metadata": {},
     "execution_count": 94
    }
   ],
   "source": [
    "annual_report_info.describe()"
   ]
  },
  {
   "cell_type": "code",
   "execution_count": 95,
   "metadata": {},
   "outputs": [
    {
     "output_type": "stream",
     "name": "stderr",
     "text": [
      "100%|██████████| 31/31 [00:00<00:00, 1173.05it/s]<class 'pandas.core.frame.DataFrame'>\n",
      "Int64Index: 8937 entries, 11275 to 7329\n",
      "Data columns (total 32 columns):\n",
      " #   Column           Non-Null Count  Dtype  \n",
      "---  ------           --------------  -----  \n",
      " 0   id               8937 non-null   object \n",
      " 1   ANCHEYEAR        8937 non-null   float64\n",
      " 2   FUNDAM           8937 non-null   float64\n",
      " 3   MEMNUM           8937 non-null   float64\n",
      " 4   FARNUM           8937 non-null   float64\n",
      " 5   ANNNEWMEMNUM     8937 non-null   float64\n",
      " 6   ANNREDMEMNUM     8937 non-null   float64\n",
      " 7   EMPNUM           8937 non-null   float64\n",
      " 8   EMPNUMSIGN       8937 non-null   float64\n",
      " 9   COLGRANUM        8937 non-null   float64\n",
      " 10  RETSOLNUM        8937 non-null   float64\n",
      " 11  DISPERNUM        8937 non-null   float64\n",
      " 12  UNENUM           8937 non-null   float64\n",
      " 13  COLEMPLNUM       8937 non-null   float64\n",
      " 14  RETEMPLNUM       8937 non-null   float64\n",
      " 15  DISEMPLNUM       8937 non-null   float64\n",
      " 16  UNEEMPLNUM       8937 non-null   float64\n",
      " 17  BUSSTNAME_0      8937 non-null   float64\n",
      " 18  BUSSTNAME_1      8937 non-null   float64\n",
      " 19  BUSSTNAME_2      8937 non-null   float64\n",
      " 20  BUSSTNAME_3      8937 non-null   float64\n",
      " 21  PUBSTATE_0       8937 non-null   float64\n",
      " 22  PUBSTATE_1       8937 non-null   float64\n",
      " 23  PUBSTATE_2       8937 non-null   float64\n",
      " 24  STATE_0          8937 non-null   float64\n",
      " 25  STATE_1          8937 non-null   float64\n",
      " 26  FORINVESTSIGN_0  8937 non-null   float64\n",
      " 27  FORINVESTSIGN_1  8937 non-null   float64\n",
      " 28  STOCKTRANSIGN_0  8937 non-null   float64\n",
      " 29  STOCKTRANSIGN_1  8937 non-null   float64\n",
      " 30  WEBSITSIGN_0     8937 non-null   float64\n",
      " 31  WEBSITSIGN_1     8937 non-null   float64\n",
      "dtypes: float64(31), object(1)\n",
      "memory usage: 2.3+ MB\n",
      "\n"
     ]
    }
   ],
   "source": [
    "annual_report_info = fill_nan(annual_report_info)\n",
    "annual_report_info.info()"
   ]
  },
  {
   "source": [
    "### 1.4  tax_info.csv\n",
    "\n"
   ],
   "cell_type": "markdown",
   "metadata": {}
  },
  {
   "cell_type": "code",
   "execution_count": 96,
   "metadata": {},
   "outputs": [
    {
     "output_type": "stream",
     "name": "stderr",
     "text": [
      "100%|██████████| 9/9 [00:00<00:00, 383.03it/s]id 808\n",
      "START_DATE 91\n",
      "END_DATE 91\n",
      "TAX_CATEGORIES 17\n",
      "TAX_ITEMS 275\n",
      "TAXATION_BASIS 1666\n",
      "TAX_RATE 29\n",
      "DEDUCTION 248\n",
      "TAX_AMOUNT 4568\n",
      "\n"
     ]
    }
   ],
   "source": [
    "tax_info = pd.read_csv('./data/train/tax_info.csv')\n",
    "category_info(tax_info)\n",
    "\n",
    "# 只有808个值，缺失的有点多，先放弃掉这个数据集，后面再考虑"
   ]
  },
  {
   "source": [
    "### 1.5 change_info.csv"
   ],
   "cell_type": "markdown",
   "metadata": {}
  },
  {
   "cell_type": "code",
   "execution_count": 97,
   "metadata": {},
   "outputs": [
    {
     "output_type": "stream",
     "name": "stderr",
     "text": [
      "100%|██████████| 5/5 [00:00<00:00, 64.05it/s]id 8726\n",
      "bgxmdm 45\n",
      "bgq 28802\n",
      "bgh 30501\n",
      "bgrq 23663\n",
      "\n"
     ]
    }
   ],
   "source": [
    "\n",
    "\n",
    "change_info = pd.read_csv('./data/train/change_info.csv')\n",
    "category_info(change_info)\n",
    "\n",
    "# 这个暂时不考虑"
   ]
  },
  {
   "source": [
    "### 1.6 news_info.csv"
   ],
   "cell_type": "markdown",
   "metadata": {}
  },
  {
   "cell_type": "code",
   "execution_count": 98,
   "metadata": {},
   "outputs": [
    {
     "output_type": "stream",
     "name": "stderr",
     "text": [
      "100%|██████████| 3/3 [00:00<00:00, 473.70it/s]id 927\n",
      "positive_negtive 3\n",
      "public_date 2719\n",
      "\n"
     ]
    },
    {
     "output_type": "execute_result",
     "data": {
      "text/plain": [
       "                                                    id positive_negtive  \\\n",
       "4192  f000950527a6feb6b1cedd99a67ea0c20a3ce2ca11761489               消极   \n",
       "8698  f000950527a6feb674725f9f9f10e1e248caae28c793b606               积极   \n",
       "4647  d8071a739aa75a3b04c9a1789bd657ef83e10c02b1a9fef5               积极   \n",
       "6160  f000950527a6feb63702b1f6c1dabe5ea196d320bbbff425               积极   \n",
       "1033  f000950527a6feb6bc5d81f4b5b017d5a93a9096d0245eb1               消极   \n",
       "4346  47645761dc56bb8ce4034b5b3a2d12beb159d10cc4c77f88               中立   \n",
       "1540  d8071a739aa75a3bb574df9edeb7d152892dc454f3195d2f               中立   \n",
       "5019  f000950527a6feb6f16d34b2a6b30955cf157698694adc20               消极   \n",
       "31    f000950527a6feb6a3e5db12921603ab7f44bcfd265bd5b1               积极   \n",
       "2173  f000950527a6feb60a1c44d64d8bc8d99a38b6614080ef0f               中立   \n",
       "\n",
       "     public_date  \n",
       "4192  2020-09-11  \n",
       "8698  2020-09-11  \n",
       "4647  2020-09-11  \n",
       "6160  2020-09-11  \n",
       "1033  2020-09-11  \n",
       "4346  2020-09-11  \n",
       "1540  2020-09-11  \n",
       "5019  2020-09-11  \n",
       "31    2020-09-10  \n",
       "2173  2020-09-08  "
      ],
      "text/html": "<div>\n<style scoped>\n    .dataframe tbody tr th:only-of-type {\n        vertical-align: middle;\n    }\n\n    .dataframe tbody tr th {\n        vertical-align: top;\n    }\n\n    .dataframe thead th {\n        text-align: right;\n    }\n</style>\n<table border=\"1\" class=\"dataframe\">\n  <thead>\n    <tr style=\"text-align: right;\">\n      <th></th>\n      <th>id</th>\n      <th>positive_negtive</th>\n      <th>public_date</th>\n    </tr>\n  </thead>\n  <tbody>\n    <tr>\n      <th>4192</th>\n      <td>f000950527a6feb6b1cedd99a67ea0c20a3ce2ca11761489</td>\n      <td>消极</td>\n      <td>2020-09-11</td>\n    </tr>\n    <tr>\n      <th>8698</th>\n      <td>f000950527a6feb674725f9f9f10e1e248caae28c793b606</td>\n      <td>积极</td>\n      <td>2020-09-11</td>\n    </tr>\n    <tr>\n      <th>4647</th>\n      <td>d8071a739aa75a3b04c9a1789bd657ef83e10c02b1a9fef5</td>\n      <td>积极</td>\n      <td>2020-09-11</td>\n    </tr>\n    <tr>\n      <th>6160</th>\n      <td>f000950527a6feb63702b1f6c1dabe5ea196d320bbbff425</td>\n      <td>积极</td>\n      <td>2020-09-11</td>\n    </tr>\n    <tr>\n      <th>1033</th>\n      <td>f000950527a6feb6bc5d81f4b5b017d5a93a9096d0245eb1</td>\n      <td>消极</td>\n      <td>2020-09-11</td>\n    </tr>\n    <tr>\n      <th>4346</th>\n      <td>47645761dc56bb8ce4034b5b3a2d12beb159d10cc4c77f88</td>\n      <td>中立</td>\n      <td>2020-09-11</td>\n    </tr>\n    <tr>\n      <th>1540</th>\n      <td>d8071a739aa75a3bb574df9edeb7d152892dc454f3195d2f</td>\n      <td>中立</td>\n      <td>2020-09-11</td>\n    </tr>\n    <tr>\n      <th>5019</th>\n      <td>f000950527a6feb6f16d34b2a6b30955cf157698694adc20</td>\n      <td>消极</td>\n      <td>2020-09-11</td>\n    </tr>\n    <tr>\n      <th>31</th>\n      <td>f000950527a6feb6a3e5db12921603ab7f44bcfd265bd5b1</td>\n      <td>积极</td>\n      <td>2020-09-10</td>\n    </tr>\n    <tr>\n      <th>2173</th>\n      <td>f000950527a6feb60a1c44d64d8bc8d99a38b6614080ef0f</td>\n      <td>中立</td>\n      <td>2020-09-08</td>\n    </tr>\n  </tbody>\n</table>\n</div>"
     },
     "metadata": {},
     "execution_count": 98
    }
   ],
   "source": [
    "\n",
    "news_info = pd.read_csv('./data/train/news_info.csv')\n",
    "category_info(news_info)\n",
    "\n",
    "news_info['public_date'].replace(r'\\d+小时前|\\d+分钟前',value = '2020-09-11',regex = True,inplace = True)\n",
    "news_info.sort_values(['public_date'],ascending=False,inplace= True)\n",
    "news_info = news_info.groupby('id').head(1)\n",
    "news_info.head(10)\n"
   ]
  },
  {
   "cell_type": "code",
   "execution_count": 99,
   "metadata": {},
   "outputs": [
    {
     "output_type": "execute_result",
     "data": {
      "text/plain": [
       "                                                    id positive_negtive  \\\n",
       "4192  f000950527a6feb6b1cedd99a67ea0c20a3ce2ca11761489               消极   \n",
       "8698  f000950527a6feb674725f9f9f10e1e248caae28c793b606               积极   \n",
       "4647  d8071a739aa75a3b04c9a1789bd657ef83e10c02b1a9fef5               积极   \n",
       "6160  f000950527a6feb63702b1f6c1dabe5ea196d320bbbff425               积极   \n",
       "1033  f000950527a6feb6bc5d81f4b5b017d5a93a9096d0245eb1               消极   \n",
       "\n",
       "     public_date  PN_0  PN_1  PN_2  public_date_year  public_date_month  \n",
       "4192  2020-09-11   0.0   1.0   0.0              2020                  9  \n",
       "8698  2020-09-11   0.0   0.0   1.0              2020                  9  \n",
       "4647  2020-09-11   0.0   0.0   1.0              2020                  9  \n",
       "6160  2020-09-11   0.0   0.0   1.0              2020                  9  \n",
       "1033  2020-09-11   0.0   1.0   0.0              2020                  9  "
      ],
      "text/html": "<div>\n<style scoped>\n    .dataframe tbody tr th:only-of-type {\n        vertical-align: middle;\n    }\n\n    .dataframe tbody tr th {\n        vertical-align: top;\n    }\n\n    .dataframe thead th {\n        text-align: right;\n    }\n</style>\n<table border=\"1\" class=\"dataframe\">\n  <thead>\n    <tr style=\"text-align: right;\">\n      <th></th>\n      <th>id</th>\n      <th>positive_negtive</th>\n      <th>public_date</th>\n      <th>PN_0</th>\n      <th>PN_1</th>\n      <th>PN_2</th>\n      <th>public_date_year</th>\n      <th>public_date_month</th>\n    </tr>\n  </thead>\n  <tbody>\n    <tr>\n      <th>4192</th>\n      <td>f000950527a6feb6b1cedd99a67ea0c20a3ce2ca11761489</td>\n      <td>消极</td>\n      <td>2020-09-11</td>\n      <td>0.0</td>\n      <td>1.0</td>\n      <td>0.0</td>\n      <td>2020</td>\n      <td>9</td>\n    </tr>\n    <tr>\n      <th>8698</th>\n      <td>f000950527a6feb674725f9f9f10e1e248caae28c793b606</td>\n      <td>积极</td>\n      <td>2020-09-11</td>\n      <td>0.0</td>\n      <td>0.0</td>\n      <td>1.0</td>\n      <td>2020</td>\n      <td>9</td>\n    </tr>\n    <tr>\n      <th>4647</th>\n      <td>d8071a739aa75a3b04c9a1789bd657ef83e10c02b1a9fef5</td>\n      <td>积极</td>\n      <td>2020-09-11</td>\n      <td>0.0</td>\n      <td>0.0</td>\n      <td>1.0</td>\n      <td>2020</td>\n      <td>9</td>\n    </tr>\n    <tr>\n      <th>6160</th>\n      <td>f000950527a6feb63702b1f6c1dabe5ea196d320bbbff425</td>\n      <td>积极</td>\n      <td>2020-09-11</td>\n      <td>0.0</td>\n      <td>0.0</td>\n      <td>1.0</td>\n      <td>2020</td>\n      <td>9</td>\n    </tr>\n    <tr>\n      <th>1033</th>\n      <td>f000950527a6feb6bc5d81f4b5b017d5a93a9096d0245eb1</td>\n      <td>消极</td>\n      <td>2020-09-11</td>\n      <td>0.0</td>\n      <td>1.0</td>\n      <td>0.0</td>\n      <td>2020</td>\n      <td>9</td>\n    </tr>\n  </tbody>\n</table>\n</div>"
     },
     "metadata": {},
     "execution_count": 99
    }
   ],
   "source": [
    "# 改为one-hot\n",
    "\n",
    "news_info[['PN_0','PN_1','PN_2']] = pd.get_dummies(news_info['positive_negtive'],dtype = float) \n",
    "\n",
    "\n",
    "public_date = pd.to_datetime(news_info['public_date'])#转换格式\n",
    "news_info['public_date_year'] = public_date.dt.year\n",
    "news_info['public_date_month'] = public_date.dt.month\n",
    "news_info.head()"
   ]
  },
  {
   "cell_type": "code",
   "execution_count": 100,
   "metadata": {},
   "outputs": [],
   "source": [
    "del news_info['public_date']\n",
    "del news_info['positive_negtive']"
   ]
  },
  {
   "cell_type": "code",
   "execution_count": 101,
   "metadata": {},
   "outputs": [
    {
     "output_type": "stream",
     "name": "stdout",
     "text": [
      "<class 'pandas.core.frame.DataFrame'>\nInt64Index: 927 entries, 4192 to 2650\nData columns (total 6 columns):\n #   Column             Non-Null Count  Dtype  \n---  ------             --------------  -----  \n 0   id                 927 non-null    object \n 1   PN_0               927 non-null    float64\n 2   PN_1               927 non-null    float64\n 3   PN_2               927 non-null    float64\n 4   public_date_year   927 non-null    int64  \n 5   public_date_month  927 non-null    int64  \ndtypes: float64(3), int64(2), object(1)\nmemory usage: 50.7+ KB\n"
     ]
    }
   ],
   "source": [
    "news_info.info()"
   ]
  },
  {
   "source": [
    "### 1.7 other_info.csv\n"
   ],
   "cell_type": "markdown",
   "metadata": {}
  },
  {
   "cell_type": "code",
   "execution_count": 102,
   "metadata": {},
   "outputs": [
    {
     "output_type": "stream",
     "name": "stderr",
     "text": [
      "100%|██████████| 4/4 [00:00<00:00, 583.86it/s]id 1888\n",
      "legal_judgment_num 94\n",
      "brand_num 83\n",
      "patent_num 115\n",
      "\n"
     ]
    }
   ],
   "source": [
    "\n",
    "other_info = pd.read_csv('./data/train/other_info.csv')\n",
    "category_info(other_info)"
   ]
  },
  {
   "cell_type": "code",
   "execution_count": 103,
   "metadata": {},
   "outputs": [],
   "source": [
    "# 采取累加的方式\n",
    "other_info = other_info.fillna(0.0)\n",
    "groud = other_info.groupby('id')\n",
    "other_info = groud.agg(np.sum)"
   ]
  },
  {
   "source": [
    "## 2. merge data"
   ],
   "cell_type": "markdown",
   "metadata": {}
  },
  {
   "cell_type": "code",
   "execution_count": 104,
   "metadata": {},
   "outputs": [
    {
     "output_type": "execute_result",
     "data": {
      "text/plain": [
       "                                                 id  oplocdistrict  \\\n",
       "0  47645761dc56bb8c5fae00114b768b5d9b6e917c3aec07c4             10   \n",
       "1  9c7fa510616a683058ce97d0bc768a621cd85ab1e87da2a3              9   \n",
       "2  59b38c56de3836838082cfcb1a298951abfe15e6940c49ba              3   \n",
       "3  e9f7b28ec10e047000d16ab79e1b5e6da434a1697cce7818              8   \n",
       "4  f000950527a6feb63ee1ce82bb22ddd1ab8b8fdffa3b91fb              3   \n",
       "\n",
       "   industryphy  industryco  enttype  enttypeitem  state  orgid  jobid  \\\n",
       "0           12         198        0            5      6     62    112   \n",
       "1           14         244       16            0      6     58     61   \n",
       "2           17         337        0            5      6     32    422   \n",
       "3           11         140        9           19      6     50    321   \n",
       "4           17         312        0            3      7      1    346   \n",
       "\n",
       "   adbusign  ...  WEBSITSIGN_0  WEBSITSIGN_1  PN_0  PN_1  PN_2  \\\n",
       "0         0  ...           NaN           NaN   NaN   NaN   NaN   \n",
       "1         0  ...           0.0           1.0   NaN   NaN   NaN   \n",
       "2         0  ...           NaN           NaN   NaN   NaN   NaN   \n",
       "3         0  ...           NaN           NaN   NaN   NaN   NaN   \n",
       "4         0  ...           0.0           1.0   NaN   NaN   NaN   \n",
       "\n",
       "   public_date_year  public_date_month  legal_judgment_num  brand_num  \\\n",
       "0               NaN                NaN                 NaN        NaN   \n",
       "1               NaN                NaN                 NaN        NaN   \n",
       "2               NaN                NaN                 NaN        NaN   \n",
       "3               NaN                NaN                 NaN        NaN   \n",
       "4               NaN                NaN                 NaN        NaN   \n",
       "\n",
       "   patent_num  \n",
       "0         NaN  \n",
       "1         NaN  \n",
       "2         NaN  \n",
       "3         NaN  \n",
       "4         NaN  \n",
       "\n",
       "[5 rows x 76 columns]"
      ],
      "text/html": "<div>\n<style scoped>\n    .dataframe tbody tr th:only-of-type {\n        vertical-align: middle;\n    }\n\n    .dataframe tbody tr th {\n        vertical-align: top;\n    }\n\n    .dataframe thead th {\n        text-align: right;\n    }\n</style>\n<table border=\"1\" class=\"dataframe\">\n  <thead>\n    <tr style=\"text-align: right;\">\n      <th></th>\n      <th>id</th>\n      <th>oplocdistrict</th>\n      <th>industryphy</th>\n      <th>industryco</th>\n      <th>enttype</th>\n      <th>enttypeitem</th>\n      <th>state</th>\n      <th>orgid</th>\n      <th>jobid</th>\n      <th>adbusign</th>\n      <th>...</th>\n      <th>WEBSITSIGN_0</th>\n      <th>WEBSITSIGN_1</th>\n      <th>PN_0</th>\n      <th>PN_1</th>\n      <th>PN_2</th>\n      <th>public_date_year</th>\n      <th>public_date_month</th>\n      <th>legal_judgment_num</th>\n      <th>brand_num</th>\n      <th>patent_num</th>\n    </tr>\n  </thead>\n  <tbody>\n    <tr>\n      <th>0</th>\n      <td>47645761dc56bb8c5fae00114b768b5d9b6e917c3aec07c4</td>\n      <td>10</td>\n      <td>12</td>\n      <td>198</td>\n      <td>0</td>\n      <td>5</td>\n      <td>6</td>\n      <td>62</td>\n      <td>112</td>\n      <td>0</td>\n      <td>...</td>\n      <td>NaN</td>\n      <td>NaN</td>\n      <td>NaN</td>\n      <td>NaN</td>\n      <td>NaN</td>\n      <td>NaN</td>\n      <td>NaN</td>\n      <td>NaN</td>\n      <td>NaN</td>\n      <td>NaN</td>\n    </tr>\n    <tr>\n      <th>1</th>\n      <td>9c7fa510616a683058ce97d0bc768a621cd85ab1e87da2a3</td>\n      <td>9</td>\n      <td>14</td>\n      <td>244</td>\n      <td>16</td>\n      <td>0</td>\n      <td>6</td>\n      <td>58</td>\n      <td>61</td>\n      <td>0</td>\n      <td>...</td>\n      <td>0.0</td>\n      <td>1.0</td>\n      <td>NaN</td>\n      <td>NaN</td>\n      <td>NaN</td>\n      <td>NaN</td>\n      <td>NaN</td>\n      <td>NaN</td>\n      <td>NaN</td>\n      <td>NaN</td>\n    </tr>\n    <tr>\n      <th>2</th>\n      <td>59b38c56de3836838082cfcb1a298951abfe15e6940c49ba</td>\n      <td>3</td>\n      <td>17</td>\n      <td>337</td>\n      <td>0</td>\n      <td>5</td>\n      <td>6</td>\n      <td>32</td>\n      <td>422</td>\n      <td>0</td>\n      <td>...</td>\n      <td>NaN</td>\n      <td>NaN</td>\n      <td>NaN</td>\n      <td>NaN</td>\n      <td>NaN</td>\n      <td>NaN</td>\n      <td>NaN</td>\n      <td>NaN</td>\n      <td>NaN</td>\n      <td>NaN</td>\n    </tr>\n    <tr>\n      <th>3</th>\n      <td>e9f7b28ec10e047000d16ab79e1b5e6da434a1697cce7818</td>\n      <td>8</td>\n      <td>11</td>\n      <td>140</td>\n      <td>9</td>\n      <td>19</td>\n      <td>6</td>\n      <td>50</td>\n      <td>321</td>\n      <td>0</td>\n      <td>...</td>\n      <td>NaN</td>\n      <td>NaN</td>\n      <td>NaN</td>\n      <td>NaN</td>\n      <td>NaN</td>\n      <td>NaN</td>\n      <td>NaN</td>\n      <td>NaN</td>\n      <td>NaN</td>\n      <td>NaN</td>\n    </tr>\n    <tr>\n      <th>4</th>\n      <td>f000950527a6feb63ee1ce82bb22ddd1ab8b8fdffa3b91fb</td>\n      <td>3</td>\n      <td>17</td>\n      <td>312</td>\n      <td>0</td>\n      <td>3</td>\n      <td>7</td>\n      <td>1</td>\n      <td>346</td>\n      <td>0</td>\n      <td>...</td>\n      <td>0.0</td>\n      <td>1.0</td>\n      <td>NaN</td>\n      <td>NaN</td>\n      <td>NaN</td>\n      <td>NaN</td>\n      <td>NaN</td>\n      <td>NaN</td>\n      <td>NaN</td>\n      <td>NaN</td>\n    </tr>\n  </tbody>\n</table>\n<p>5 rows × 76 columns</p>\n</div>"
     },
     "metadata": {},
     "execution_count": 104
    }
   ],
   "source": [
    "info = pd.merge(base_info,annual_report_info, how = 'left' ,on='id')\n",
    "info = pd.merge(info,news_info, how='left',on = 'id')\n",
    "info = pd.merge(info, other_info, how='left', on ='id')\n",
    "\n",
    "info.head()"
   ]
  },
  {
   "cell_type": "code",
   "execution_count": 105,
   "metadata": {},
   "outputs": [
    {
     "output_type": "stream",
     "name": "stderr",
     "text": [
      "100%|██████████| 56/56 [00:00<00:00, 857.79it/s]\n"
     ]
    }
   ],
   "source": [
    "# 缺失值填充\n",
    "# public_date_year public_date_month\n",
    "# 日期类，填充为创建日期\n",
    "\n",
    "info['public_date_year'].fillna(info['opfrom_year'])\n",
    "info['public_date_month'].fillna(info['opfrom_month'])\n",
    "\n",
    "# 类别采用全0填充\n",
    "cols = ['BUSSTNAME','PUBSTATE','STATE','FORINVESTSIGN','STOCKTRANSIGN','WEBSITSIGN','PN']\n",
    "nums = [4,3,2,2,2,2,3]\n",
    "for num, col in zip(nums,cols):\n",
    "    for i in range(num):\n",
    "        info['{}_{}'.format(col,i)].fillna(0.0)\n",
    "    \n",
    "\n",
    "# 数值类，采用中值填充\n",
    "info = fill_nan(info)"
   ]
  },
  {
   "source": [
    "## 3 训练\n",
    "\n",
    "### 3.1 数据集划分"
   ],
   "cell_type": "markdown",
   "metadata": {}
  },
  {
   "cell_type": "code",
   "execution_count": 106,
   "metadata": {},
   "outputs": [
    {
     "output_type": "stream",
     "name": "stdout",
     "text": [
      "(14865, 2)\n"
     ]
    },
    {
     "output_type": "execute_result",
     "data": {
      "text/plain": [
       "                                                 id  label\n",
       "0  59b38c56de3836831ff90a77d892a13523b7494f6ed09ff7      1\n",
       "1  da8691b210adb3f6be8064e006f220070565db287275ad38      0\n",
       "2  82750f1b9d122350918121f97c99bf96e11aa24ee91504a9      0\n",
       "3  f000950527a6feb6b2c6de6f85c1e7438ba5590be931e2ec      0\n",
       "4  f1c1045b13d1832927e3743e49d2917f2d98424f0849a373      0"
      ],
      "text/html": "<div>\n<style scoped>\n    .dataframe tbody tr th:only-of-type {\n        vertical-align: middle;\n    }\n\n    .dataframe tbody tr th {\n        vertical-align: top;\n    }\n\n    .dataframe thead th {\n        text-align: right;\n    }\n</style>\n<table border=\"1\" class=\"dataframe\">\n  <thead>\n    <tr style=\"text-align: right;\">\n      <th></th>\n      <th>id</th>\n      <th>label</th>\n    </tr>\n  </thead>\n  <tbody>\n    <tr>\n      <th>0</th>\n      <td>59b38c56de3836831ff90a77d892a13523b7494f6ed09ff7</td>\n      <td>1</td>\n    </tr>\n    <tr>\n      <th>1</th>\n      <td>da8691b210adb3f6be8064e006f220070565db287275ad38</td>\n      <td>0</td>\n    </tr>\n    <tr>\n      <th>2</th>\n      <td>82750f1b9d122350918121f97c99bf96e11aa24ee91504a9</td>\n      <td>0</td>\n    </tr>\n    <tr>\n      <th>3</th>\n      <td>f000950527a6feb6b2c6de6f85c1e7438ba5590be931e2ec</td>\n      <td>0</td>\n    </tr>\n    <tr>\n      <th>4</th>\n      <td>f1c1045b13d1832927e3743e49d2917f2d98424f0849a373</td>\n      <td>0</td>\n    </tr>\n  </tbody>\n</table>\n</div>"
     },
     "metadata": {},
     "execution_count": 106
    }
   ],
   "source": [
    " # 数据集7：entprise_info.csv\n",
    "# 带标注的企业数据。每一行代表一个企业，每一行2列，其中id列为企业唯一标识，label列为标注（1：有非法集资风险，0：无非法集资风险），列之间采用“,”分隔符分割。\n",
    "\n",
    "# 训练集 id 及标签\n",
    "\n",
    "entprise_info = pd.read_csv('data/train/entprise_info.csv')\n",
    "\n",
    "print(entprise_info.shape)\n",
    "entprise_info.head()"
   ]
  },
  {
   "cell_type": "code",
   "execution_count": 107,
   "metadata": {},
   "outputs": [
    {
     "output_type": "stream",
     "name": "stdout",
     "text": [
      "(10000, 2)\n"
     ]
    },
    {
     "output_type": "execute_result",
     "data": {
      "text/plain": [
       "                                                 id  score\n",
       "0  82750f1b9d1223508ee329d47e27d35176c93eb9f35e9c1a    NaN\n",
       "1  f000950527a6feb670cc1c87c2025f3922aaa4a0206a0a33    NaN\n",
       "2  e9f7b28ec10e04700ef4db75a494f9a1e8e8b09555e6afa1    NaN\n",
       "3  beb4aaaa89e0a0ae9d77bd5d7665be6342f552f51840cf19    NaN\n",
       "4  e9f7b28ec10e0470ee4172cec0133b6826c34f27d3dff204    NaN"
      ],
      "text/html": "<div>\n<style scoped>\n    .dataframe tbody tr th:only-of-type {\n        vertical-align: middle;\n    }\n\n    .dataframe tbody tr th {\n        vertical-align: top;\n    }\n\n    .dataframe thead th {\n        text-align: right;\n    }\n</style>\n<table border=\"1\" class=\"dataframe\">\n  <thead>\n    <tr style=\"text-align: right;\">\n      <th></th>\n      <th>id</th>\n      <th>score</th>\n    </tr>\n  </thead>\n  <tbody>\n    <tr>\n      <th>0</th>\n      <td>82750f1b9d1223508ee329d47e27d35176c93eb9f35e9c1a</td>\n      <td>NaN</td>\n    </tr>\n    <tr>\n      <th>1</th>\n      <td>f000950527a6feb670cc1c87c2025f3922aaa4a0206a0a33</td>\n      <td>NaN</td>\n    </tr>\n    <tr>\n      <th>2</th>\n      <td>e9f7b28ec10e04700ef4db75a494f9a1e8e8b09555e6afa1</td>\n      <td>NaN</td>\n    </tr>\n    <tr>\n      <th>3</th>\n      <td>beb4aaaa89e0a0ae9d77bd5d7665be6342f552f51840cf19</td>\n      <td>NaN</td>\n    </tr>\n    <tr>\n      <th>4</th>\n      <td>e9f7b28ec10e0470ee4172cec0133b6826c34f27d3dff204</td>\n      <td>NaN</td>\n    </tr>\n  </tbody>\n</table>\n</div>"
     },
     "metadata": {},
     "execution_count": 107
    }
   ],
   "source": [
    "# 数据集8（验证集）：entprise_evaluate.csv\n",
    "# 未标注企业数据。参赛队伍需提交的最终结果数据集，每一行代表一个企业，每一行有 2 列, 其中id列为企业唯一标识，score列为空，列之间采用“,”分隔符分割。\n",
    "\n",
    "# 测试集 id\n",
    "\n",
    "entprise_evaluate = pd.read_csv('data/test/entprise_evaluate.csv')\n",
    "\n",
    "print(entprise_evaluate.shape)\n",
    "entprise_evaluate.head()"
   ]
  },
  {
   "cell_type": "code",
   "execution_count": 108,
   "metadata": {},
   "outputs": [
    {
     "output_type": "stream",
     "name": "stdout",
     "text": [
      "(24865, 77)\n"
     ]
    },
    {
     "output_type": "execute_result",
     "data": {
      "text/plain": [
       "                                                 id  oplocdistrict  \\\n",
       "0  47645761dc56bb8c5fae00114b768b5d9b6e917c3aec07c4             10   \n",
       "1  9c7fa510616a683058ce97d0bc768a621cd85ab1e87da2a3              9   \n",
       "2  59b38c56de3836838082cfcb1a298951abfe15e6940c49ba              3   \n",
       "3  e9f7b28ec10e047000d16ab79e1b5e6da434a1697cce7818              8   \n",
       "4  f000950527a6feb63ee1ce82bb22ddd1ab8b8fdffa3b91fb              3   \n",
       "\n",
       "   industryphy  industryco  enttype  enttypeitem  state  orgid  jobid  \\\n",
       "0           12         198        0            5      6     62    112   \n",
       "1           14         244       16            0      6     58     61   \n",
       "2           17         337        0            5      6     32    422   \n",
       "3           11         140        9           19      6     50    321   \n",
       "4           17         312        0            3      7      1    346   \n",
       "\n",
       "   adbusign  ...  WEBSITSIGN_1  PN_0  PN_1  PN_2  public_date_year  \\\n",
       "0         0  ...           1.0   0.0   0.0   0.0            2019.0   \n",
       "1         0  ...           1.0   0.0   0.0   0.0            2019.0   \n",
       "2         0  ...           1.0   0.0   0.0   0.0            2019.0   \n",
       "3         0  ...           1.0   0.0   0.0   0.0            2019.0   \n",
       "4         0  ...           1.0   0.0   0.0   0.0            2019.0   \n",
       "\n",
       "   public_date_month  legal_judgment_num  brand_num  patent_num  label  \n",
       "0                6.0                 1.0        0.0         0.0    0.0  \n",
       "1                6.0                 1.0        0.0         0.0    NaN  \n",
       "2                6.0                 1.0        0.0         0.0    0.0  \n",
       "3                6.0                 1.0        0.0         0.0    0.0  \n",
       "4                6.0                 1.0        0.0         0.0    0.0  \n",
       "\n",
       "[5 rows x 77 columns]"
      ],
      "text/html": "<div>\n<style scoped>\n    .dataframe tbody tr th:only-of-type {\n        vertical-align: middle;\n    }\n\n    .dataframe tbody tr th {\n        vertical-align: top;\n    }\n\n    .dataframe thead th {\n        text-align: right;\n    }\n</style>\n<table border=\"1\" class=\"dataframe\">\n  <thead>\n    <tr style=\"text-align: right;\">\n      <th></th>\n      <th>id</th>\n      <th>oplocdistrict</th>\n      <th>industryphy</th>\n      <th>industryco</th>\n      <th>enttype</th>\n      <th>enttypeitem</th>\n      <th>state</th>\n      <th>orgid</th>\n      <th>jobid</th>\n      <th>adbusign</th>\n      <th>...</th>\n      <th>WEBSITSIGN_1</th>\n      <th>PN_0</th>\n      <th>PN_1</th>\n      <th>PN_2</th>\n      <th>public_date_year</th>\n      <th>public_date_month</th>\n      <th>legal_judgment_num</th>\n      <th>brand_num</th>\n      <th>patent_num</th>\n      <th>label</th>\n    </tr>\n  </thead>\n  <tbody>\n    <tr>\n      <th>0</th>\n      <td>47645761dc56bb8c5fae00114b768b5d9b6e917c3aec07c4</td>\n      <td>10</td>\n      <td>12</td>\n      <td>198</td>\n      <td>0</td>\n      <td>5</td>\n      <td>6</td>\n      <td>62</td>\n      <td>112</td>\n      <td>0</td>\n      <td>...</td>\n      <td>1.0</td>\n      <td>0.0</td>\n      <td>0.0</td>\n      <td>0.0</td>\n      <td>2019.0</td>\n      <td>6.0</td>\n      <td>1.0</td>\n      <td>0.0</td>\n      <td>0.0</td>\n      <td>0.0</td>\n    </tr>\n    <tr>\n      <th>1</th>\n      <td>9c7fa510616a683058ce97d0bc768a621cd85ab1e87da2a3</td>\n      <td>9</td>\n      <td>14</td>\n      <td>244</td>\n      <td>16</td>\n      <td>0</td>\n      <td>6</td>\n      <td>58</td>\n      <td>61</td>\n      <td>0</td>\n      <td>...</td>\n      <td>1.0</td>\n      <td>0.0</td>\n      <td>0.0</td>\n      <td>0.0</td>\n      <td>2019.0</td>\n      <td>6.0</td>\n      <td>1.0</td>\n      <td>0.0</td>\n      <td>0.0</td>\n      <td>NaN</td>\n    </tr>\n    <tr>\n      <th>2</th>\n      <td>59b38c56de3836838082cfcb1a298951abfe15e6940c49ba</td>\n      <td>3</td>\n      <td>17</td>\n      <td>337</td>\n      <td>0</td>\n      <td>5</td>\n      <td>6</td>\n      <td>32</td>\n      <td>422</td>\n      <td>0</td>\n      <td>...</td>\n      <td>1.0</td>\n      <td>0.0</td>\n      <td>0.0</td>\n      <td>0.0</td>\n      <td>2019.0</td>\n      <td>6.0</td>\n      <td>1.0</td>\n      <td>0.0</td>\n      <td>0.0</td>\n      <td>0.0</td>\n    </tr>\n    <tr>\n      <th>3</th>\n      <td>e9f7b28ec10e047000d16ab79e1b5e6da434a1697cce7818</td>\n      <td>8</td>\n      <td>11</td>\n      <td>140</td>\n      <td>9</td>\n      <td>19</td>\n      <td>6</td>\n      <td>50</td>\n      <td>321</td>\n      <td>0</td>\n      <td>...</td>\n      <td>1.0</td>\n      <td>0.0</td>\n      <td>0.0</td>\n      <td>0.0</td>\n      <td>2019.0</td>\n      <td>6.0</td>\n      <td>1.0</td>\n      <td>0.0</td>\n      <td>0.0</td>\n      <td>0.0</td>\n    </tr>\n    <tr>\n      <th>4</th>\n      <td>f000950527a6feb63ee1ce82bb22ddd1ab8b8fdffa3b91fb</td>\n      <td>3</td>\n      <td>17</td>\n      <td>312</td>\n      <td>0</td>\n      <td>3</td>\n      <td>7</td>\n      <td>1</td>\n      <td>346</td>\n      <td>0</td>\n      <td>...</td>\n      <td>1.0</td>\n      <td>0.0</td>\n      <td>0.0</td>\n      <td>0.0</td>\n      <td>2019.0</td>\n      <td>6.0</td>\n      <td>1.0</td>\n      <td>0.0</td>\n      <td>0.0</td>\n      <td>0.0</td>\n    </tr>\n  </tbody>\n</table>\n<p>5 rows × 77 columns</p>\n</div>"
     },
     "metadata": {},
     "execution_count": 108
    }
   ],
   "source": [
    "\n",
    "# 划分训练集和测试集\n",
    "\n",
    "entprise_evaluate.columns = ['id', 'label']\n",
    "\n",
    "labels = pd.concat([entprise_info, entprise_evaluate])\n",
    "df = pd.merge(info, labels, on='id', how='left')\n",
    "\n",
    "print(df.shape)\n",
    "df.head()"
   ]
  },
  {
   "cell_type": "code",
   "execution_count": 109,
   "metadata": {},
   "outputs": [],
   "source": [
    "# 缺失值填充\n",
    "\n",
    "df[[col for col in df.columns if col != 'label']].fillna(-1, inplace=True)"
   ]
  },
  {
   "cell_type": "code",
   "execution_count": 110,
   "metadata": {},
   "outputs": [
    {
     "output_type": "stream",
     "name": "stdout",
     "text": [
      "(14865, 77) (10000, 77)\n"
     ]
    }
   ],
   "source": [
    "\n",
    "train = df[df.label.notna()]\n",
    "test = df[df.label.isna()]\n",
    "\n",
    "print(train.shape, test.shape)"
   ]
  },
  {
   "cell_type": "code",
   "execution_count": 111,
   "metadata": {},
   "outputs": [
    {
     "output_type": "stream",
     "name": "stdout",
     "text": [
      "\n",
      "Fold_1 Training ================================\n",
      "\n",
      "Training until validation scores don't improve for 50 rounds\n",
      "Early stopping, best iteration is:\n",
      "[17]\ttrain's binary_logloss: 0.0976942\ttrain's f1: 0.83974\tvalid's binary_logloss: 0.097996\tvalid's f1: 0.852868\n",
      "\n",
      "Fold_2 Training ================================\n",
      "\n",
      "Training until validation scores don't improve for 50 rounds\n",
      "Early stopping, best iteration is:\n",
      "[17]\ttrain's binary_logloss: 0.0977091\ttrain's f1: 0.845361\tvalid's binary_logloss: 0.101839\tvalid's f1: 0.834123\n",
      "\n",
      "Fold_3 Training ================================\n",
      "\n",
      "Training until validation scores don't improve for 50 rounds\n",
      "Early stopping, best iteration is:\n",
      "[18]\ttrain's binary_logloss: 0.0949265\ttrain's f1: 0.846682\tvalid's binary_logloss: 0.0987511\tvalid's f1: 0.830357\n",
      "\n",
      "Fold_4 Training ================================\n",
      "\n",
      "Training until validation scores don't improve for 50 rounds\n",
      "Early stopping, best iteration is:\n",
      "[17]\ttrain's binary_logloss: 0.0971305\ttrain's f1: 0.85242\tvalid's binary_logloss: 0.101078\tvalid's f1: 0.821596\n",
      "\n",
      "Fold_5 Training ================================\n",
      "\n",
      "Training until validation scores don't improve for 50 rounds\n",
      "Early stopping, best iteration is:\n",
      "[17]\ttrain's binary_logloss: 0.0971406\ttrain's f1: 0.841602\tvalid's binary_logloss: 0.0987727\tvalid's f1: 0.840095\n"
     ]
    },
    {
     "output_type": "execute_result",
     "data": {
      "text/plain": [
       "             column  importance\n",
       "0        industryco        26.6\n",
       "1            regcap        25.8\n",
       "2        jobid_freq        20.8\n",
       "3            reccap        20.2\n",
       "4    enttypegb_freq        19.8\n",
       "..              ...         ...\n",
       "70       PUBSTATE_2         0.0\n",
       "71       PUBSTATE_0         0.0\n",
       "72             PN_2         0.0\n",
       "73             PN_1         0.0\n",
       "74  STOCKTRANSIGN_1         0.0\n",
       "\n",
       "[75 rows x 2 columns]"
      ],
      "text/html": "<div>\n<style scoped>\n    .dataframe tbody tr th:only-of-type {\n        vertical-align: middle;\n    }\n\n    .dataframe tbody tr th {\n        vertical-align: top;\n    }\n\n    .dataframe thead th {\n        text-align: right;\n    }\n</style>\n<table border=\"1\" class=\"dataframe\">\n  <thead>\n    <tr style=\"text-align: right;\">\n      <th></th>\n      <th>column</th>\n      <th>importance</th>\n    </tr>\n  </thead>\n  <tbody>\n    <tr>\n      <th>0</th>\n      <td>industryco</td>\n      <td>26.6</td>\n    </tr>\n    <tr>\n      <th>1</th>\n      <td>regcap</td>\n      <td>25.8</td>\n    </tr>\n    <tr>\n      <th>2</th>\n      <td>jobid_freq</td>\n      <td>20.8</td>\n    </tr>\n    <tr>\n      <th>3</th>\n      <td>reccap</td>\n      <td>20.2</td>\n    </tr>\n    <tr>\n      <th>4</th>\n      <td>enttypegb_freq</td>\n      <td>19.8</td>\n    </tr>\n    <tr>\n      <th>...</th>\n      <td>...</td>\n      <td>...</td>\n    </tr>\n    <tr>\n      <th>70</th>\n      <td>PUBSTATE_2</td>\n      <td>0.0</td>\n    </tr>\n    <tr>\n      <th>71</th>\n      <td>PUBSTATE_0</td>\n      <td>0.0</td>\n    </tr>\n    <tr>\n      <th>72</th>\n      <td>PN_2</td>\n      <td>0.0</td>\n    </tr>\n    <tr>\n      <th>73</th>\n      <td>PN_1</td>\n      <td>0.0</td>\n    </tr>\n    <tr>\n      <th>74</th>\n      <td>STOCKTRANSIGN_1</td>\n      <td>0.0</td>\n    </tr>\n  </tbody>\n</table>\n<p>75 rows × 2 columns</p>\n</div>"
     },
     "metadata": {},
     "execution_count": 111
    }
   ],
   "source": [
    "import lightgbm as lgb\n",
    "\n",
    "ycol = 'label'\n",
    "feature_names = list(\n",
    "    filter(lambda x: x not in [ycol, 'id'], train.columns))\n",
    "\n",
    "model = lgb.LGBMClassifier(objective='binary',\n",
    "                           boosting_type='gbdt',\n",
    "                           tree_learner='serial',\n",
    "                           num_leaves=128,\n",
    "                           max_depth=8,\n",
    "                           learning_rate=0.04,\n",
    "                           n_estimators=100000,\n",
    "                           subsample=0.8,\n",
    "                           feature_fraction=0.8,\n",
    "                           reg_alpha=0.3,\n",
    "                           reg_lambda=0.5,\n",
    "                           random_state=2020,\n",
    "                           is_unbalance=True)\n",
    "\n",
    "\n",
    "oof = []\n",
    "prediction = test[['id']]\n",
    "prediction[f'{ycol}_0'] = 0\n",
    "prediction[f'{ycol}_1'] = 0\n",
    "df_importance_list = []\n",
    "\n",
    "def f1_score_custom(y_true, y_pred):\n",
    "    y_pred = y_pred.round()\n",
    "    return 'f1', f1_score(y_true, y_pred), True\n",
    "\n",
    "kfold = StratifiedKFold(n_splits=5, shuffle=True, random_state=2020)\n",
    "for fold_id, (trn_idx, val_idx) in enumerate(kfold.split(train[feature_names], train[ycol])):\n",
    "    X_train = train.iloc[trn_idx][feature_names]\n",
    "    Y_train = train.iloc[trn_idx][ycol]\n",
    "\n",
    "    X_val = train.iloc[val_idx][feature_names]\n",
    "    Y_val = train.iloc[val_idx][ycol]\n",
    "\n",
    "    print('\\nFold_{} Training ================================\\n'.format(fold_id+1))\n",
    "    \n",
    "\n",
    "    \n",
    "    lgb_model = model.fit(X_train,\n",
    "                          Y_train,\n",
    "                          eval_names=['train', 'valid'],\n",
    "                          eval_set=[(X_train, Y_train), (X_val, Y_val)],\n",
    "                          verbose=500,\n",
    "                          eval_metric=lambda y_true, y_pred: f1_score_custom(y_true, y_pred),\n",
    "                          early_stopping_rounds=50)\n",
    "\n",
    "    pred_val = lgb_model.predict_proba(\n",
    "        X_val, num_iteration=lgb_model.best_iteration_)\n",
    "    df_oof = train.iloc[val_idx][['id', ycol]].copy()\n",
    "    df_oof[f'{ycol}_0'] = pred_val[:,0]\n",
    "    df_oof[f'{ycol}_1'] = pred_val[:,1]\n",
    "    oof.append(df_oof)\n",
    "\n",
    "    pred_test = lgb_model.predict_proba(\n",
    "        test[feature_names], num_iteration=lgb_model.best_iteration_)\n",
    "    prediction[f'{ycol}_0'] += pred_test[:,0] / kfold.n_splits\n",
    "    prediction[f'{ycol}_1'] += pred_test[:,1] / kfold.n_splits\n",
    "\n",
    "    df_importance = pd.DataFrame({\n",
    "        'column': feature_names,\n",
    "        'importance': lgb_model.feature_importances_,\n",
    "    })\n",
    "    df_importance_list.append(df_importance)\n",
    "\n",
    "    del lgb_model, pred_val, pred_test, X_train, Y_train, X_val, Y_val\n",
    "    \n",
    "    \n",
    "df_importance = pd.concat(df_importance_list)\n",
    "df_importance = df_importance.groupby(['column'])['importance'].agg(\n",
    "    'mean').sort_values(ascending=False).reset_index()\n",
    "df_importance"
   ]
  },
  {
   "cell_type": "code",
   "execution_count": 112,
   "metadata": {},
   "outputs": [
    {
     "output_type": "stream",
     "name": "stdout",
     "text": [
      "f1: 0.8355387523629489\n"
     ]
    }
   ],
   "source": [
    "df_oof = pd.concat(oof)\n",
    "score = f1_score(df_oof[ycol].astype('int'), \n",
    "                 np.argmax(df_oof[['label_0', 'label_1']].values, axis=1).astype('int'))\n",
    "print('f1:', score)"
   ]
  },
  {
   "cell_type": "code",
   "execution_count": 113,
   "metadata": {},
   "outputs": [
    {
     "output_type": "execute_result",
     "data": {
      "text/plain": [
       "                                                 id     score\n",
       "0  82750f1b9d1223508ee329d47e27d35176c93eb9f35e9c1a  0.045523\n",
       "1  f000950527a6feb670cc1c87c2025f3922aaa4a0206a0a33  0.516850\n",
       "2  e9f7b28ec10e04700ef4db75a494f9a1e8e8b09555e6afa1  0.034678\n",
       "3  beb4aaaa89e0a0ae9d77bd5d7665be6342f552f51840cf19  0.033203\n",
       "4  e9f7b28ec10e0470ee4172cec0133b6826c34f27d3dff204  0.094375"
      ],
      "text/html": "<div>\n<style scoped>\n    .dataframe tbody tr th:only-of-type {\n        vertical-align: middle;\n    }\n\n    .dataframe tbody tr th {\n        vertical-align: top;\n    }\n\n    .dataframe thead th {\n        text-align: right;\n    }\n</style>\n<table border=\"1\" class=\"dataframe\">\n  <thead>\n    <tr style=\"text-align: right;\">\n      <th></th>\n      <th>id</th>\n      <th>score</th>\n    </tr>\n  </thead>\n  <tbody>\n    <tr>\n      <th>0</th>\n      <td>82750f1b9d1223508ee329d47e27d35176c93eb9f35e9c1a</td>\n      <td>0.045523</td>\n    </tr>\n    <tr>\n      <th>1</th>\n      <td>f000950527a6feb670cc1c87c2025f3922aaa4a0206a0a33</td>\n      <td>0.516850</td>\n    </tr>\n    <tr>\n      <th>2</th>\n      <td>e9f7b28ec10e04700ef4db75a494f9a1e8e8b09555e6afa1</td>\n      <td>0.034678</td>\n    </tr>\n    <tr>\n      <th>3</th>\n      <td>beb4aaaa89e0a0ae9d77bd5d7665be6342f552f51840cf19</td>\n      <td>0.033203</td>\n    </tr>\n    <tr>\n      <th>4</th>\n      <td>e9f7b28ec10e0470ee4172cec0133b6826c34f27d3dff204</td>\n      <td>0.094375</td>\n    </tr>\n  </tbody>\n</table>\n</div>"
     },
     "metadata": {},
     "execution_count": 113
    }
   ],
   "source": [
    "sub = prediction[['id', 'label_1']]\n",
    "sub.columns = ['id', 'score']\n",
    "\n",
    "sub = pd.merge(entprise_evaluate, sub, on='id', how='left')\n",
    "sub.drop(['label'], axis=1, inplace=True)\n",
    "\n",
    "sub.head()"
   ]
  },
  {
   "cell_type": "code",
   "execution_count": 114,
   "metadata": {},
   "outputs": [],
   "source": [
    "sub.to_csv(f'./prediction/baseline_{score}.csv', index=False)"
   ]
  },
  {
   "cell_type": "code",
   "execution_count": null,
   "metadata": {},
   "outputs": [],
   "source": []
  }
 ]
}